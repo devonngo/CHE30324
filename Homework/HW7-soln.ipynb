{
 "cells": [
  {
   "cell_type": "markdown",
   "metadata": {
    "colab_type": "text",
    "id": "uy-1y-FtDaj9"
   },
   "source": [
    "# Chem 30324, Spring 2020, Homework 7\n",
    "\n",
    "# Due March 27, 2020"
   ]
  },
  {
   "cell_type": "markdown",
   "metadata": {
    "colab_type": "text",
    "id": "rfIPcyCWDakA"
   },
   "source": [
    "## Variations on the hydrogen atom:\n",
    "### The *variational principle* guarantees that the expectation value of the energy of a guessed wavefunction is allows greater than that of the true lowest energy solution. Here you will apply the variational principle to the H atom.  For this problem it is easiest to work in atomic units.  In these units, $\\hbar$, $a_0$, and $4\\pi\\epsilon_0$ are all equal to 1 and the unit of energy is the Hartree, equivalent to 27.212 eV.  In atomic units the H atom Schrödinger equation is written:\n",
    "\n",
    "$$\\left \\{-\\frac{1}{2}\\frac{d^2}{dr^2} - \\frac{1}{r}\\frac{d}{dr}-\\frac{1}{r}+\\frac{l(l+1)}{2r^2}  \\right \\}R(r) = ER(r)$$"
   ]
  },
  {
   "cell_type": "markdown",
   "metadata": {
    "colab_type": "text",
    "id": "ltr-85GmDakB"
   },
   "source": [
    "### 1. Suppose in a fit of panic you forget the 1s radial function when asked on an exam. Not wanting to leave the answer blank, you decide to guess something, and liking bell-shaped curves, you guess $R_{10}(r) = e^{-r^2}$.  Normalize this guess. Do not forget to include the $r^2$ Jacobian integration factor."
   ]
  },
  {
   "cell_type": "markdown",
   "metadata": {
    "colab_type": "text",
    "id": "Tyde_03YjS2K"
   },
   "source": [
    "Set $R_{10}(r)=Ce^{-r^2}$ , then normalized the guess to get C\n",
    "$$\\int_{0}^{\\infty}C^2e^{-2r^2}r^2dr = 1$$, $$C = \\sqrt \\frac{1}{\\int_{0}^{\\infty}e^{-2r^2}r^2dr}$$"
   ]
  },
  {
   "cell_type": "code",
   "execution_count": 0,
   "metadata": {
    "colab": {},
    "colab_type": "code",
    "id": "juqS_T1ZkkqB"
   },
   "outputs": [],
   "source": [
    "import sympy as sy\n",
    "import numpy as np\n",
    "from sympy import *"
   ]
  },
  {
   "cell_type": "code",
   "execution_count": 0,
   "metadata": {
    "colab": {
     "base_uri": "https://localhost:8080/",
     "height": 34
    },
    "colab_type": "code",
    "executionInfo": {
     "elapsed": 508,
     "status": "ok",
     "timestamp": 1584669003604,
     "user": {
      "displayName": "Wei Ge",
      "photoUrl": "https://lh3.googleusercontent.com/a-/AOh14GgUb9I8FwQdafyeS84vfqujwWX6DjeuXSzj8wb3=s64",
      "userId": "13623893124469451506"
     },
     "user_tz": 240
    },
    "id": "GBmOMWNIlZuG",
    "outputId": "d8604e64-a6d9-4b7c-863b-982085c88384"
   },
   "outputs": [
    {
     "name": "stdout",
     "output_type": "stream",
     "text": [
      "\\frac{2}{\\sqrt[4]{\\pi}} 2^{\\frac{3}{4}}\n"
     ]
    }
   ],
   "source": [
    "r = Symbol('r')\n",
    "I = integrate(exp(-2*r**2)*r**2,(r,0,+oo))\n",
    "C = sqrt(1/I)\n",
    "print(latex(simplify(C)))"
   ]
  },
  {
   "cell_type": "markdown",
   "metadata": {
    "colab_type": "text",
    "id": "gJ7-0P3SnRSr"
   },
   "source": [
    "So the normalized 1s wavefunction is $\\tilde{R}_{10}(r) = \\frac{2}{\\sqrt[4]{\\pi}} 2^{\\frac{3}{4}} e^{-r^2} = (\\frac{128}{\\pi}) ^ {\\frac{1}{4}} e^{-r^2} $.\n"
   ]
  },
  {
   "cell_type": "markdown",
   "metadata": {
    "colab_type": "text",
    "id": "rQVM42SxDakC"
   },
   "source": [
    "### 2. Calculate the expectation value of the energy of your normalized guess.  Is it greater or less than the true value?"
   ]
  },
  {
   "cell_type": "markdown",
   "metadata": {
    "colab_type": "text",
    "id": "tQRG_4tIol1S"
   },
   "source": [
    "$\\because$ 1s orbital, n=1,l=0\n",
    "$$\\therefore \\hat{H} = -\\frac{1}{2}\\frac{d^2}{dr^2} - \\frac{1}{r}\\frac{d}{dr}-\\frac{1}{r}$$ \n",
    "\n",
    "$$\\frac{d(\\tilde{R}_{10})}{dr}= -2rCe^{-r^2} $$\n",
    "$$\\frac{d^2(\\tilde{R}_{10})}{dr^2}=-2Ce^{-r^2}+4r^2Ce^{-r^2}$$\n",
    "\n",
    "$$\\hat{H}\\tilde{R}_{10}(r) = -\\frac{1}{2}\\frac{d^2(\\tilde{R}_{10})}{dr^2} - \\frac{1}{r}\\frac{d(\\tilde{R}_{10})}{dr}-\\frac{1}{r}(\\tilde{R}_{10}) = Ce^{-r^2}-2r^2Ce^{-r^2} +2Ce^{-r^2} -\\frac{Ce^{-r^2}}{r} = \\frac{Ce^{-r^2}(-2r^3+3r-1)}{r}$$ \n",
    "\n",
    "The expectation value of the energy:\n",
    "$$\\langle E\\rangle = \\int_{0}^{\\infty}\\tilde{R}_{10}(r)\\hat{H}\\tilde{R}_{10}(r)r^2dr = \\int_{0}^{\\infty} C^2(-2r^4+3r^2-r)e^{-2r^2} dr$$"
   ]
  },
  {
   "cell_type": "code",
   "execution_count": 0,
   "metadata": {
    "colab": {
     "base_uri": "https://localhost:8080/",
     "height": 34
    },
    "colab_type": "code",
    "executionInfo": {
     "elapsed": 381,
     "status": "ok",
     "timestamp": 1584670666824,
     "user": {
      "displayName": "Wei Ge",
      "photoUrl": "https://lh3.googleusercontent.com/a-/AOh14GgUb9I8FwQdafyeS84vfqujwWX6DjeuXSzj8wb3=s64",
      "userId": "13623893124469451506"
     },
     "user_tz": 240
    },
    "id": "ThUMyE2ztQDG",
    "outputId": "880e7ac7-9e83-43fd-ec33-ca62d0c8afa1"
   },
   "outputs": [
    {
     "name": "stdout",
     "output_type": "stream",
     "text": [
      "Expected value is -0.0958 Ha.\n"
     ]
    }
   ],
   "source": [
    "E = C**2*integrate((-2*r**4+3*r**2-r)*exp(-2*r**2),(r,0,oo))\n",
    "print('Expected value is %0.4f Ha.'%E)"
   ]
  },
  {
   "cell_type": "code",
   "execution_count": 0,
   "metadata": {
    "colab": {
     "base_uri": "https://localhost:8080/",
     "height": 34
    },
    "colab_type": "code",
    "executionInfo": {
     "elapsed": 430,
     "status": "ok",
     "timestamp": 1584670703223,
     "user": {
      "displayName": "Wei Ge",
      "photoUrl": "https://lh3.googleusercontent.com/a-/AOh14GgUb9I8FwQdafyeS84vfqujwWX6DjeuXSzj8wb3=s64",
      "userId": "13623893124469451506"
     },
     "user_tz": 240
    },
    "id": "hEVL_a5IufMk",
    "outputId": "e416d5f4-58e2-401b-943a-8f7ed00ecfcc"
   },
   "outputs": [
    {
     "name": "stdout",
     "output_type": "stream",
     "text": [
      "The ture value is -0.5000 Ha. So the expected value is greater than the true value.\n"
     ]
    }
   ],
   "source": [
    "# Hydrogen atom energy equation is given in class notes\n",
    "n=1\n",
    "E_true = -1/(2*n**2) # unit Ha\n",
    "print('The ture value is %0.4f Ha. So the expected value is greater than the true value.' %E_true)"
   ]
  },
  {
   "cell_type": "markdown",
   "metadata": {
    "colab_type": "text",
    "id": "Y24HvxkVDakE"
   },
   "source": [
    "### 3. What does the variational principle say about the expectation value of the energy of your guess as you vary a parameter $\\gamma$ in your guess, $R_{10}=e^{-\\gamma r^2}$?  Suggest a strategy for determining the \"best\" $\\gamma$."
   ]
  },
  {
   "cell_type": "markdown",
   "metadata": {
    "colab_type": "text",
    "id": "uWEv2Xj1vGRn"
   },
   "source": [
    "The variational principle says true wavefunction energy is always lower bound on energy of any trial wavefunction. \n",
    "$$\\langle ψ_\\text{trial}^λ | \\hat{H} | ψ_\\text{trial}^λ\\rangle =E_\\text{trial}^λ \\geq E_0$$\n",
    "\n",
    "We can get the \"best\" $\\gamma$ by optimizing the wavefunction with respect to variational parameter: $$\\frac{\\partial\\langle E\\rangle}{\\partial\\gamma} = 0$$"
   ]
  },
  {
   "cell_type": "markdown",
   "metadata": {
    "colab_type": "text",
    "id": "radQAUGWDakF"
   },
   "source": [
    "### 3.5 *Extra credit*: Determine the best value of $\\gamma$.  Show and carefully justify your work to receive credit."
   ]
  },
  {
   "cell_type": "markdown",
   "metadata": {
    "colab_type": "text",
    "id": "gMlHDMGWwkmJ"
   },
   "source": [
    "Normalize $R_{10}$: $\\int_{0}^{\\infty}r^2C^2e^{-2\\gamma r^2}dr = 1$\n",
    "$$C = \\sqrt \\frac{1}{\\int_{0}^{\\infty}e^{-2\\gamma r^2}r^2dr}$$"
   ]
  },
  {
   "cell_type": "markdown",
   "metadata": {
    "colab_type": "text",
    "id": "ltY-RiMTwvyJ"
   },
   "source": [
    "$$\\therefore \\hat{H} = -\\frac{1}{2}\\frac{d^2}{dr^2} - \\frac{1}{r}\\frac{d}{dr}-\\frac{1}{r}$$ \n",
    "\n",
    "$$\\frac{d(\\tilde{R}_{10})}{dr}= -2\\gamma rCe^{-\\gamma r^2} $$\n",
    "$$\\frac{d^2(\\tilde{R}_{10})}{dr^2}=-2\\gamma Ce^{-\\gamma r^2}+4\\gamma ^2 r^2Ce^{-\\gamma r^2}$$\n",
    "\n",
    "$$\\hat{H}\\tilde{R}_{10}(r) = -\\frac{1}{2}\\frac{d^2(\\tilde{R}_{10})}{dr^2} - \\frac{1}{r}\\frac{d(\\tilde{R}_{10})}{dr}-\\frac{1}{r}(\\tilde{R}_{10}) = \\gamma Ce^{-\\gamma r^2}-2\\gamma ^2r^2Ce^{- \\gamma r^2} +2\\gamma Ce^{-\\gamma r^2} -\\frac{Ce^{-\\gamma r^2}}{r} = \\frac{Ce^{-\\gamma r^2}(-2\\gamma ^2r^3+3\\gamma r-1)}{r}$$ \n",
    "\n",
    "$\\langle E\\rangle = \\int_{0}^{\\infty}\\tilde{R}_{10}(r)\\hat{H}\\tilde{R}_{10}(r)r^2dr = \\int_{0}^{\\infty} C^2(-2\\gamma^2 r^4+3\\gamma r^2-r)e^{-2\\gamma r^2} dr$"
   ]
  },
  {
   "cell_type": "code",
   "execution_count": 0,
   "metadata": {
    "colab": {
     "base_uri": "https://localhost:8080/",
     "height": 67
    },
    "colab_type": "code",
    "executionInfo": {
     "elapsed": 313,
     "status": "ok",
     "timestamp": 1584673241176,
     "user": {
      "displayName": "Wei Ge",
      "photoUrl": "https://lh3.googleusercontent.com/a-/AOh14GgUb9I8FwQdafyeS84vfqujwWX6DjeuXSzj8wb3=s64",
      "userId": "13623893124469451506"
     },
     "user_tz": 240
    },
    "id": "XQrioSnoxGxc",
    "outputId": "458cfca9-38a1-45d1-98fc-0d19872310cc"
   },
   "outputs": [
    {
     "name": "stdout",
     "output_type": "stream",
     "text": [
      "Expectation of energy:\n",
      "8*sqrt(2)*gamma**(3/2)*(-1/(4*gamma) + 3*sqrt(2)*sqrt(pi)/(32*sqrt(gamma)))/sqrt(pi)\n",
      "Best value of gamma is: [8/(9*pi)], which equals to 0.282942.\n"
     ]
    }
   ],
   "source": [
    "gamma = symbols('gamma',positive=True) # We know the gamma has to be positive, or the R10 would be larger when r increase.\n",
    "r = symbols(\"r\",positive=True)\n",
    "C = sqrt(1/integrate(exp(-2*gamma*r**2)*r**2,(r,0,oo))) \n",
    "E = C**2*integrate((-2*gamma**2*r**4+3*gamma*r**2-r)*exp(-2*gamma*r**2),(r,0,oo)) # expectation value of energy as a function of gamma\n",
    "gamma_best=solve(diff(E,gamma),gamma)\n",
    "\n",
    "print(\"Expectation of energy:\");print(E)\n",
    "print(\"Best value of gamma is: %s, which equals to %f.\"% (gammabest,8/(9*np.pi)))\n"
   ]
  },
  {
   "cell_type": "code",
   "execution_count": 0,
   "metadata": {
    "colab": {
     "base_uri": "https://localhost:8080/",
     "height": 34
    },
    "colab_type": "code",
    "executionInfo": {
     "elapsed": 335,
     "status": "ok",
     "timestamp": 1584673474156,
     "user": {
      "displayName": "Wei Ge",
      "photoUrl": "https://lh3.googleusercontent.com/a-/AOh14GgUb9I8FwQdafyeS84vfqujwWX6DjeuXSzj8wb3=s64",
      "userId": "13623893124469451506"
     },
     "user_tz": 240
    },
    "id": "CoBJDzbl3Hbt",
    "outputId": "8a6061e8-85e2-4ae5-db59-bf11330bf533"
   },
   "outputs": [
    {
     "name": "stdout",
     "output_type": "stream",
     "text": [
      "Energy with the best gamma: -0.424 eV.\n"
     ]
    }
   ],
   "source": [
    "import math\n",
    "gamma_best = 8/(9*np.pi)\n",
    "E_best = 8*math.sqrt(2)*gamma_best**(3/2)*(-1/(4*gamma_best) + 3*math.sqrt(2)*math.sqrt(np.pi)/(32*math.sqrt(gamma_best)))/math.sqrt(np.pi)\n",
    "print(\"Energy with the best gamma: %0.3f eV.\"%E_best)"
   ]
  },
  {
   "cell_type": "code",
   "execution_count": 0,
   "metadata": {
    "colab": {
     "base_uri": "https://localhost:8080/",
     "height": 279
    },
    "colab_type": "code",
    "executionInfo": {
     "elapsed": 540,
     "status": "ok",
     "timestamp": 1584673864006,
     "user": {
      "displayName": "Wei Ge",
      "photoUrl": "https://lh3.googleusercontent.com/a-/AOh14GgUb9I8FwQdafyeS84vfqujwWX6DjeuXSzj8wb3=s64",
      "userId": "13623893124469451506"
     },
     "user_tz": 240
    },
    "id": "U4DzekZk5n6W",
    "outputId": "5dc719b8-37a6-4f2a-848a-139b7874b568"
   },
   "outputs": [
    {
     "data": {
      "image/png": "[encoded data removed]",
      "text/plain": [
       "<Figure size 432x288 with 1 Axes>"
      ]
     },
     "metadata": {
      "tags": []
     },
     "output_type": "display_data"
    }
   ],
   "source": [
    "import matplotlib.pyplot as plt\n",
    "\n",
    "gamma = np.linspace(0.001,1.5,10000)\n",
    "E = []\n",
    "for x in gamma:\n",
    "    E.append(8*math.sqrt(2)*x**(3/2)*(-1/(4*x) + 3*math.sqrt(2)*math.sqrt(np.pi)/(32*math.sqrt(x)))/math.sqrt(np.pi))\n",
    "\n",
    "plt.plot(gamma,E)\n",
    "plt.xlabel(\"Gamma\")\n",
    "plt.ylabel(\"Energy(eV)\")\n",
    "plt.axvline(x=8/(9*np.pi),color='k',linestyle='--')\n",
    "plt.axhline(y=E_best,color='k',linestyle='--')\n",
    "plt.annotate('Lowest energy spot', xy=(8/(9*np.pi), E_best), xytext=(0.5,-0.2), arrowprops=dict(facecolor='black'))\n",
    "plt.show()"
   ]
  },
  {
   "cell_type": "markdown",
   "metadata": {
    "colab_type": "text",
    "id": "cbosUpWhDakG"
   },
   "source": [
    "## Many-electrons means many troubles\n",
    "### Helium (He) is only one electron larger than hydrogen, but that one more electron makes a big difference in difficulty in setting up and solving the Schrödinger equation."
   ]
  },
  {
   "cell_type": "markdown",
   "metadata": {
    "colab_type": "text",
    "id": "MdrSYGauDakH"
   },
   "source": [
    "### 4. Write down in as much detail as you can the exact Schrödinger equation for the electrons in a He atom."
   ]
  },
  {
   "cell_type": "markdown",
   "metadata": {
    "colab_type": "text",
    "id": "fJoS7zHH7bXV"
   },
   "source": [
    "Schrödinger equation: \n",
    "$$\\hat{H}\\Psi(r_1,r_2)=E\\Psi(r_1,r_2)$$\n",
    "$$\\hat{H}=\\hat{h_1}+\\hat{h_2}+\\frac{e^2}{4\\pi\\epsilon_0}\\frac{1}{|r_1-r_2|}$$\n",
    "$$\\hat{h_1}=-\\frac{\\hbar^2}{2m_e}\\nabla^2_1-\\frac{2e^2}{4\\pi\\epsilon_0}\\frac{1}{r_1}$$\n",
    "$$\\hat{h_2}=-\\frac{\\hbar^2}{2m_e}\\nabla^2_2-\\frac{2e^2}{4\\pi\\epsilon_0}\\frac{1}{r_2}$$"
   ]
  },
  {
   "cell_type": "markdown",
   "metadata": {
    "colab_type": "text",
    "id": "-Cix_RzcDakI"
   },
   "source": [
    "### 5. This equation is conventionally solved within the \"independent electron\" approximation, by writing an effective one-electron Schrödinger equation with approximate potentials (shown below in atomic units).  Briefly, what does it mean to solve this equation \"self-consistently\"?\n",
    "\n",
    "$$\\left\\{-\\frac{1}{2}\\nabla^2 - \\frac{2}{r} + \\hat v_\\mathrm{Coul}[\\psi_i] + \\hat\n",
    "            v_\\mathrm{ex}[\\psi_i]+\\hat v_\\mathrm{corr}[\\psi_i] \\right\\}\\psi=\\epsilon\\psi$$\n",
    "            \n"
   ]
  },
  {
   "cell_type": "markdown",
   "metadata": {
    "colab_type": "text",
    "id": "c4KMSbfx8UtU"
   },
   "source": [
    "All the potential terms $\\hat{\\nu}$ depend on the $\\psi$ solved. The self-consistently means we get a $\\psi$ solution, then we use it to calculate new potential terms and solve for new $\\psi$, and repeat until we get a $\\psi$ same with the last one."
   ]
  },
  {
   "cell_type": "markdown",
   "metadata": {
    "colab_type": "text",
    "id": "fDBWoMqyDakK"
   },
   "source": [
    "### 6. How many solutions are needed to describe the electrons in a He atom?  Provide a possible set of quantum numbers ($n, l, m_l , m _s$)  for each electron."
   ]
  },
  {
   "cell_type": "markdown",
   "metadata": {
    "colab_type": "text",
    "id": "CYnlN9An8fuC"
   },
   "source": [
    "One solution for each orbital, so there needs to be only one solution to describe the electrons in the He atom. \n",
    "\n",
    "Two possible set of quantum numbers for each electron: \n",
    "$$n=1, l=0, m_l=0, m_s=+\\frac{1}{2}$$\n",
    "$$n=1, l=0, m_l=0, m_s=-\\frac{1}{2}$$"
   ]
  },
  {
   "cell_type": "markdown",
   "metadata": {
    "colab_type": "text",
    "id": "Qwa3rIDIDakL"
   },
   "source": [
    "### 7. The Schrödinger equation has five terms, or operators, on the left.  Identify the physical meaning of each term and the *sign* of the expectation value when it is applied to one of the solutions."
   ]
  },
  {
   "cell_type": "markdown",
   "metadata": {
    "colab_type": "text",
    "id": "R7vEUDtl8j5l"
   },
   "source": [
    "$-\\frac{1}{2}\\nabla^2$: Kinetic energy. Always positive.\n",
    "\n",
    "$-\\frac{2}{r}$: Due to the attraction between the electron and the nucleus. Negative.\n",
    "\n",
    "$\\hat{\\nu}_{coul}$: Classical repulsion between distinguishable electron “clouds”. Positive. \n",
    "\n",
    "$\\hat{\\nu}_{ex}$: Accounts for electron indistinguishability (Pauli principle for fermions). Decreases\n",
    "Coulomb repulsion because electrons of like spin intrinsically avoid one another. Negative.\n",
    "\n",
    "$\\hat{\\nu}_{corr}$: Decrease in Coulomb repulsion due to dynamic ability of electrons to avoid\n",
    "one another; “fixes” orbital approximation. Negative."
   ]
  },
  {
   "cell_type": "markdown",
   "metadata": {
    "colab_type": "text",
    "id": "209b1zXNDakM"
   },
   "source": [
    "### Sophisticated computer programs that solve the many-electron Schrödinger equation are now widely available and powerful tool for predicting the properties of atoms, molecules, solids, and interfaces. *Density functional theory* (DFT) is the most common set of approximations for the electron-electron interactions used today. In this problem you’ll do a DFT calculation using the *Orca* program (<https://www.its.hku.hk/services/research/hpc/software/orca>)."
   ]
  },
  {
   "cell_type": "markdown",
   "metadata": {
    "colab_type": "text",
    "id": "dCHMRsZKDakN"
   },
   "source": [
    "### Now, let’s set up your calculation (you may do this with a partner or two if you choose):\n",
    "1. Log into the Webmo server https://www.webmo.net/demoserver/cgi-bin/webmo/login.cgi using \"guest\" as your username and password.\n",
    "2. Select New Job-Creat New Job.\n",
    "3. Use the available tools to draw an atom on the screen.\n",
    "4. Use the right arrow at the bottom to proceed to the Computational Engines.\n",
    "5. Choose Orca\n",
    "6. Select “Molecular Orbitals” for the Calculation type, “PBE” for theory, “def2-SVP” for the basis set, “0” for the charge, an appropriate value for the \"Multiplicity\", and check “Unrestricted.” \n",
    "7. Select the right arrow to run the calculation.\n",
    "8. From the job manager window choose the completed calculation to view the results.\n",
    "9. For fun, click on the Magnifying Glass icons to see the molecular orbitals in 3-D. You may have to play around with the Display Settings and Preferences to get good views."
   ]
  },
  {
   "cell_type": "markdown",
   "metadata": {
    "colab_type": "text",
    "id": "GaU68WXbDakO"
   },
   "source": [
    "### 8. Perform calculations across the first row of the periodic table (B, C, N, O, F, Ne).  Make a table of energies of the occupied orbitals and identify them by their shell ( $n = 1, 2, \\ldots$) and subshell (s, p, d, ...). "
   ]
  },
  {
   "cell_type": "markdown",
   "metadata": {
    "colab_type": "text",
    "id": "SDWZZKl99SWq"
   },
   "source": [
    "|B(doublet)|Energy (Hartree)|C(triplet)|Energy (Hartree)|N(quarlet)|Energy (Hartree)|O(triplet)|Energy (Hartree)|F(doublet)|Energy (Hartree)|Ne(singlet)|Energy (Hartree)|\n",
    "|-|-|-|-|-|-|-|-|-|-|-|-|\n",
    "|1s|-13.23430|1s|-20.01336|1s|-28.13652|1s|-37.71226|1s|-48.64339|1s|-30.45968|\n",
    "|2s|-0.65884|2s|-0.93550|2s|-1.23866|2s|-1.63718|2s|-2.06968|2s|-1.26438|\n",
    "|2p|-0.15147|2p|-0.43435|2p|-0.87602|2p|-1.30625|2p|-1.89967|2p|-1.34278|"
   ]
  },
  {
   "cell_type": "markdown",
   "metadata": {
    "colab_type": "text",
    "id": "DkQkCBHTDakP"
   },
   "source": [
    "### 9. Contrast the energies of the 1s electrons across the series.  Determine the wavelength of light necessary to remove each 1s electron. What range of the spectrum is this light in?"
   ]
  },
  {
   "cell_type": "code",
   "execution_count": 3,
   "metadata": {
    "colab": {
     "base_uri": "https://localhost:8080/",
     "height": 50
    },
    "colab_type": "code",
    "executionInfo": {
     "elapsed": 698,
     "status": "ok",
     "timestamp": 1584677229067,
     "user": {
      "displayName": "Wei Ge",
      "photoUrl": "https://lh3.googleusercontent.com/a-/AOh14GgUb9I8FwQdafyeS84vfqujwWX6DjeuXSzj8wb3=s64",
      "userId": "13623893124469451506"
     },
     "user_tz": 240
    },
    "id": "mvVUDOj-HBzV",
    "outputId": "3ab31b38-4ce6-4c53-d913-110797a58559"
   },
   "outputs": [
    {
     "name": "stdout",
     "output_type": "stream",
     "text": [
      "The 1s energies become increasingly negative with inceasing Z.  Light must become increasingly energetic to kick out one of them.\n",
      "[3.4426287758277865, 2.276518386114959, 1.619275660527232, 1.2081159285584495, 0.9366284300485159, 1.4957734949263313] nm.\n",
      "They corresponds to X-rays.\n"
     ]
    }
   ],
   "source": [
    "# From http://www.genstrom.net/public/biology/common/en/em_spectrum.html\n",
    "print(\"The 1s energies become increasingly negative with inceasing Z.  Light must become increasingly energetic to kick out one of them.\")\n",
    "\n",
    "hc = 1239.8 #eV*nm\n",
    "E = [13.23430*27.212, 20.01336*27.212, 28.13652*27.212, 37.71226*27.212,48.64339*27.212,30.45968*27.212] # eV\n",
    "lamb = [] #nm\n",
    "for e in E:\n",
    "    lamb.append(hc/e)\n",
    "print(lamb,\"nm.\\nThey corresponds to X-rays.\")"
   ]
  },
  {
   "cell_type": "markdown",
   "metadata": {
    "colab_type": "text",
    "id": "UUFBFDFIDakQ"
   },
   "source": [
    "### 10. Why, qualitatively, do the energies vary as they do?"
   ]
  },
  {
   "cell_type": "markdown",
   "metadata": {
    "colab_type": "text",
    "id": "M3mUm-oLIRRn"
   },
   "source": [
    "*There is a big energy decrease as it goes across the series because the electrostatic attraction of the nucleus for electrons increases as the \n",
    "the number of protons increases."
   ]
  },
  {
   "cell_type": "markdown",
   "metadata": {
    "colab_type": "text",
    "id": "5e0zEjSzDakR"
   },
   "source": [
    "### 11. Compare the energies of the highest-energy (valence) electrons compare across the series. Determine the wavelength of light necessary to remove each valence electron. What range of the spectrum is this light in?"
   ]
  },
  {
   "cell_type": "code",
   "execution_count": 0,
   "metadata": {
    "colab": {
     "base_uri": "https://localhost:8080/",
     "height": 50
    },
    "colab_type": "code",
    "executionInfo": {
     "elapsed": 380,
     "status": "ok",
     "timestamp": 1584677574745,
     "user": {
      "displayName": "Wei Ge",
      "photoUrl": "https://lh3.googleusercontent.com/a-/AOh14GgUb9I8FwQdafyeS84vfqujwWX6DjeuXSzj8wb3=s64",
      "userId": "13623893124469451506"
     },
     "user_tz": 240
    },
    "id": "vomzyaG4IT_z",
    "outputId": "c6707317-d50d-4551-a3b2-be483da14e22"
   },
   "outputs": [
    {
     "name": "stdout",
     "output_type": "stream",
     "text": [
      "[300.79079690986777, 104.89416831573081, 52.00883770683052, 34.87906756588531, 23.983524511066488, 33.93019110199561] nm.\n",
      "They corresponds to UVs\n"
     ]
    }
   ],
   "source": [
    "hc = 1239.8 #eV*nm\n",
    "E = [0.15147*27.212, 0.43435*27.212, 0.87602*27.212, 1.30625*27.212,1.89967*27.212,1.34278*27.212] # eV\n",
    "lamb = [] #nm\n",
    "for e in E:\n",
    "    lamb.append(hc/e)\n",
    "print(lamb,\"nm.\\nThey corresponds to UVs\")"
   ]
  },
  {
   "cell_type": "markdown",
   "metadata": {
    "colab_type": "text",
    "id": "Hp05drmQDakS"
   },
   "source": [
    "### 12. Why, qualitatively, do the energies vary as they do?"
   ]
  },
  {
   "cell_type": "markdown",
   "metadata": {
    "colab_type": "text",
    "id": "k_BYTPUODakV"
   },
   "source": [
    "There is a decrease as it goes across the series because the electrostatic attraction of the nucleus for electrons increases as the \n",
    "the number of protons increases.\n",
    "\n",
    "And energy decrease is smaller because the outer electrons are partially shielded from the attractive force of the protons in the nucleus by inner electrons."
   ]
  }
 ],
 "metadata": {
  "anaconda-cloud": {},
  "colab": {
   "collapsed_sections": [],
   "name": "P.Chem HW7.ipynb",
   "provenance": [
    {
     "file_id": "https://github.com/wmfschneider/CHE30324/blob/master/Homework/HW7.ipynb",
     "timestamp": 1584667517926
    }
   ]
  },
  "kernelspec": {
   "display_name": "Python 3",
   "language": "python",
   "name": "python3"
  },
  "language_info": {
   "codemirror_mode": {
    "name": "ipython",
    "version": 3
   },
   "file_extension": ".py",
   "mimetype": "text/x-python",
   "name": "python",
   "nbconvert_exporter": "python",
   "pygments_lexer": "ipython3",
   "version": "3.7.4"
  }
 },
 "nbformat": 4,
 "nbformat_minor": 1
}
