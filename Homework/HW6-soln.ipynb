{
 "cells": [
  {
   "cell_type": "markdown",
   "metadata": {
    "colab_type": "text",
    "ein.tags": "worksheet-0",
    "id": "OMAdHV-RWILS"
   },
   "source": [
    "# Chem 30324, Spring 2020, Homework 6\n",
    "\n",
    "# Due March 4, 2020"
   ]
  },
  {
   "cell_type": "markdown",
   "metadata": {
    "colab_type": "text",
    "ein.tags": "worksheet-0",
    "id": "e9kIBzCTWILZ"
   },
   "source": [
    "### The diatomic nitric oxide (NO) is an unusual and important molecule. It has an odd number of electrons, which is a rarity for stable molecule. It acts as a signaling molecule in the body, helping to regulate blood pressure, is a primary pollutant from combustion, and is a key constituent of smog. It exists in several isotopic forms, but the most common, ${}^{14}$N= ${}^{16}$O, has a bond length of 1.15077 Å and harmonic vibrational frequency of 1904 cm$^{-1}$."
   ]
  },
  {
   "cell_type": "markdown",
   "metadata": {
    "colab_type": "text",
    "id": "Xf-odg1qWILe"
   },
   "source": [
    "## Spin the NO."
   ]
  },
  {
   "cell_type": "markdown",
   "metadata": {
    "colab_type": "text",
    "ein.tags": "worksheet-0",
    "id": "BSo1uYevWILh"
   },
   "source": [
    "### 1. Calculate the moment of inertia of ${}^{14}$N=${}^{16}$O, in amu Å$^2$, the rotational energy constant, $B=\\hbar^2/2I$, in kJ mol$^{-1}$, and the rotational spectral constant, $\\tilde{B}=B/hc$,  in cm$^{-1}$."
   ]
  },
  {
   "cell_type": "code",
   "execution_count": 0,
   "metadata": {
    "colab": {
     "base_uri": "https://localhost:8080/",
     "height": 69
    },
    "colab_type": "code",
    "id": "KzVLcragImp7",
    "outputId": "3a04200c-f560-449a-fea7-30780c00c1e8"
   },
   "outputs": [
    {
     "name": "stdout",
     "output_type": "stream",
     "text": [
      "The moment of inertia is 9.89 amu*angstrom^2.\n",
      "The rotational energy constant is 0.02039  kJ/mol.\n",
      "The rotational spectral constant is 1.704  cm^-1.\n"
     ]
    }
   ],
   "source": [
    "import numpy as np\n",
    "N = 14.0067  # amu\n",
    "O = 15.999  # amu\n",
    "mu = N*O/(N+O)  # amu\n",
    "r = 1.15077  # bond length (angstrom)\n",
    "h = 6.62607E-34  # J*s\n",
    "hbar = 1.05457E-34  # J*s\n",
    "NA = 6.02214E23 #molecules/mol\n",
    "c = 299792458  # m/s\n",
    "\n",
    "I = mu*r**2 #amu * anstrom^2\n",
    "print('The moment of inertia is',round(I,2),'amu*angstrom^2.')\n",
    "\n",
    "B = hbar**2/2/I*6.022e26*(1e10)**2*NA/1000 #kJ/mol\n",
    "print('The rotational energy constant is', round(B,5),' kJ/mol.')\n",
    "\n",
    "Btilde = B/h/c*1000/NA/100 #1/cm\n",
    "print('The rotational spectral constant is', round(Btilde,3),' cm^-1.')"
   ]
  },
  {
   "cell_type": "markdown",
   "metadata": {
    "colab_type": "text",
    "ein.tags": "worksheet-0",
    "id": "csHPbBH5WILl"
   },
   "source": [
    "### 2. Imagine that the NO molecule is adsorbed flat on a surface upon which it is free to rotate. Plot out the energies of the four lowest-energy rotational quantum states, in units of $\\tilde{B}$, being sure to include appropriate quantum numbers and degeneracies. Also indicate the total rotational angular moment of each state, in units of $\\hbar$."
   ]
  },
  {
   "cell_type": "markdown",
   "metadata": {
    "colab_type": "text",
    "id": "uNDJRNpGNh8i"
   },
   "source": [
    "Since we are looking at a molecule adsorbed flat on a surface, we will use the 2-D rigid rotor model. \n",
    "\n",
    "$E_{ml} = \\frac{\\hbar^2}{2I}m_l^2$\n",
    "\n",
    "The four lowest-energy rotational quantum states are: $m_l = \\pm 0,\\pm 1, \\pm2, \\pm3$"
   ]
  },
  {
   "cell_type": "markdown",
   "metadata": {},
   "source": [
    "![](imgs/HW6-1.jpg)"
   ]
  },
  {
   "cell_type": "markdown",
   "metadata": {
    "colab_type": "text",
    "ein.tags": "worksheet-0",
    "id": "n4ZKlOtmWILr"
   },
   "source": [
    "### 3. Whether light can induce an NO to jump from some rotational level $m_l$ to some other one $m_l^\\prime$ is determined by whether the transition dipole moment integral $\\langle\\psi_{m_l}\\lvert x\\rvert\\psi_{m_l'}\\rangle$ is zero or non-zero.  Find the *selection rule*  on $\\Delta m_l$ that make  the integral non-zero.  Recall that $x$ can be written $r \\cos\\phi$  in polar coordinates."
   ]
  },
  {
   "cell_type": "markdown",
   "metadata": {
    "colab_type": "text",
    "id": "HsvYXIkg4jOT"
   },
   "source": [
    "Wave Function for 2-D rotor model: $\\Psi_{m_l}(\\phi) = \\frac{1}{\\sqrt{2\\pi}}e^{-im_l\\phi}, m_l = 0,\\pm1,\\pm2,etc$\n",
    "\n",
    "Transition dipole moment integral: $<\\psi_{m_l}|x|\\psi_{m_l'}> = \\int_{0}^{2\\pi}\\frac{1}{\\sqrt{2\\pi}}e^{-im_l\\phi}xe^{-im_l'\\phi} = \\frac{r}{2\\pi}\\int_{0}^{2\\pi}e^{i\\Delta m_l\\phi}d\\phi$\n",
    "\n",
    "$cos\\phi = \\frac{1}{2} (e^{-i\\phi}+e^\\phi)$\n",
    "\n",
    "$<\\psi_{m_l}|x|\\psi_{m_l'}> = \\int_{0}^{2\\pi}\\frac{r}{4\\pi}e^{i(\\Delta m_l-1)\\phi}e^{i(\\Delta m_l+1)\\phi}d\\phi $\n",
    "\n",
    "For an integer $n$, we can have $\\int_{0}^{2\\pi}e^{ni\\phi}d\\phi \\neq 0$ when n = 0\n",
    "\n",
    "We can have $<\\psi_{m_l}|x|\\psi_{m_l'}> \\neq 0$ only when $\\Delta m_l = \\pm1$\n",
    "\n"
   ]
  },
  {
   "cell_type": "markdown",
   "metadata": {
    "colab_type": "text",
    "id": "ib2O4wGUWILu"
   },
   "source": [
    "### 4. Use your selection rule to determine the frequencies, in wavenumbers, of the four lowest-energy rotational transitions of an ${}^{14}$N=${}^{16}$O adsorbed flat on a surface."
   ]
  },
  {
   "cell_type": "markdown",
   "metadata": {
    "colab_type": "text",
    "id": "8qVelqt8So0r"
   },
   "source": [
    "$\\Delta E_{m_{l0}\\rightarrow m_{l1}} = B$\n",
    "\n",
    "$\\Delta E_{m_{l1}\\rightarrow m_{l2}} = 3B$\n",
    "\n",
    "$\\Delta E_{m_{l2}\\rightarrow m_{l3}} = 5B$\n",
    "\n",
    "$\\Delta E_{m_{l3}\\rightarrow m_{l4}} = 7B$\n",
    "\n",
    "Wavenumber \n",
    "\n",
    "$\\tilde{v}_{m_{l0}\\rightarrow m_{l1}} = \\frac{B}{hc}$\n",
    "\n",
    "$\\tilde{v}_{m_{l1}\\rightarrow m_{l2}} = \\frac{3B}{hc}$\n",
    "\n",
    "$\\tilde{v}_{m_{l2}\\rightarrow m_{l3}} = \\frac{5B}{hc}$\n",
    "\n",
    "$\\tilde{v}_{m_{l3}\\rightarrow m_{l4}} = \\frac{7B}{hc}$"
   ]
  },
  {
   "cell_type": "code",
   "execution_count": 0,
   "metadata": {
    "colab": {
     "base_uri": "https://localhost:8080/",
     "height": 104
    },
    "colab_type": "code",
    "id": "ixiNTlZTUH32",
    "outputId": "3dcaad71-6ef9-4032-aa3e-e1ded4851734"
   },
   "outputs": [
    {
     "name": "stdout",
     "output_type": "stream",
     "text": [
      "From problem 1, we know that B = 0.02039 kJ/mol.\n",
      "0 to 1: 1.704 cm^-1\n",
      "1 to 2: 5.113 cm^-1\n",
      "2 to 3: 8.522 cm^-1\n",
      "3 to 4: 11.931 cm^-1\n"
     ]
    }
   ],
   "source": [
    "print('From problem 1, we know that B =',round(B,5), 'kJ/mol.')\n",
    "h = 6.62607E-34  # J*s\n",
    "c = 299792458  # m/s\n",
    "NA = 6.02214E23 #molecules/mol\n",
    "\n",
    "v = []\n",
    "for l in [1,3,5,7]:\n",
    "  v.append(B*l/h/c*1000/100/NA)\n",
    "\n",
    "print('0 to 1:',round(v[0],3),'cm^-1')\n",
    "print('1 to 2:',round(v[1],3),'cm^-1')\n",
    "print('2 to 3:',round(v[2],3),'cm^-1')\n",
    "print('3 to 4:',round(v[3],3),'cm^-1')"
   ]
  },
  {
   "cell_type": "markdown",
   "metadata": {
    "colab_type": "text",
    "id": "fiFuY472WILx"
   },
   "source": [
    "### 5. Use your selection rule to determine the change in angular momentum of the ${}^{14}$N=${}^{16}$O in each allowed transition. Compare your result to the angular momentum of a photon, $\\hbar$."
   ]
  },
  {
   "cell_type": "markdown",
   "metadata": {
    "colab_type": "text",
    "id": "s2A16pXL9jrP"
   },
   "source": [
    "Absolute change in angular momentum  $|\\Delta l_z| = \\hbar$, identical to angular momentum of a photon."
   ]
  },
  {
   "cell_type": "markdown",
   "metadata": {
    "colab_type": "text",
    "id": "HSIlpaJkWIL0"
   },
   "source": [
    "## NO flips"
   ]
  },
  {
   "cell_type": "markdown",
   "metadata": {
    "colab_type": "text",
    "ein.tags": "worksheet-0",
    "id": "2mYnLHpYWIL2"
   },
   "source": [
    "### 5. Now imagine the NO molecule is free to rotate in three-dimensional space. As in Question 2 above, plot out the energies of the four lowest-energy rotational quantum states, in units of $\\tilde{B}$, being sure to include appropriate quantum numbers and degeneracies."
   ]
  },
  {
   "cell_type": "markdown",
   "metadata": {},
   "source": [
    "![](imgs/HW6-2.jpg)"
   ]
  },
  {
   "cell_type": "markdown",
   "metadata": {
    "colab_type": "text",
    "id": "7TLRSHPHWIL5"
   },
   "source": [
    "### 6. Predict the relative populations of the first four rotational quantum states at 298 K.  Do you expect one or all of these states to potentially contribute to the rotational spectrum of NO?"
   ]
  },
  {
   "cell_type": "code",
   "execution_count": 0,
   "metadata": {
    "colab": {
     "base_uri": "https://localhost:8080/",
     "height": 103
    },
    "colab_type": "code",
    "id": "ZFLOvX0dYnBz",
    "outputId": "3515fac9-85ce-468c-94fe-c72ebc2ee8e3"
   },
   "outputs": [
    {
     "name": "stdout",
     "output_type": "stream",
     "text": [
      "When l = 0, relative population = 0.0664\n",
      "When l = 1, relative population = 0.1961\n",
      "When l = 2, relative population = 0.3162\n",
      "When l = 3, relative population = 0.4213\n",
      "At 298 K, all of these states potentially contribute to the rotational spectrum of NO.\n"
     ]
    }
   ],
   "source": [
    "import numpy as np\n",
    "\n",
    "kB = 1.3806e-23 #J/K\n",
    "T = 298 #K\n",
    "\n",
    "P = []\n",
    "for i in [0,1,2,3]:\n",
    "  p = (2*i+1)*np.exp(-B*i*(i+1)/kB/T*1000/6.022e23)\n",
    "  P.append(p)\n",
    "\n",
    "total = np.sum(P)\n",
    "print('When l = 0, relative population =',round(P[0]/total,4))\n",
    "print('When l = 1, relative population =',round(P[1]/total,4))\n",
    "print('When l = 2, relative population =',round(P[2]/total,4))\n",
    "print('When l = 3, relative population =',round(P[3]/total,4))\n",
    "\n",
    "print('At 298 K, all of these states potentially contribute to the rotational spectrum of NO.')\n",
    "\n"
   ]
  },
  {
   "cell_type": "markdown",
   "metadata": {
    "colab_type": "text",
    "id": "TRld36MBWIL9"
   },
   "source": [
    "## Quantum mechanics of an H atom: \n",
    "### Consider an excited hydrogen atom with a 2s$^1$ electron configuration. The 2s radial wavefunction is given by $$R_{2,0} = \\frac{1}{\\sqrt{2a_0^3}}(1-\\rho/2)e^{-\\rho/2}, \\rho = r/a_0$$ where $a_0$ = bohr radius. (*Hint:* It’s easiest to solve the following using $a_0$ as the unit of length.)"
   ]
  },
  {
   "cell_type": "markdown",
   "metadata": {
    "colab_type": "text",
    "id": "SnNsWxNPWIL_"
   },
   "source": [
    "### 7. Provide a complete set of possible quantum numbers for an electron with the 2s wavefunction."
   ]
  },
  {
   "cell_type": "markdown",
   "metadata": {
    "colab_type": "text",
    "id": "m6NDjlyjBrzM"
   },
   "source": [
    "Principle Quantum Number: $n = 2$\n",
    "\n",
    "Angular Quantum Number: $m_\\ell = 0$\n",
    "\n",
    "Azimuthal Quantum Number: $\\ell = 0$\n",
    "\n",
    "Spin Quantum Number: $m_s = \\pm1/2$"
   ]
  },
  {
   "cell_type": "markdown",
   "metadata": {
    "colab_type": "text",
    "id": "xCS4l8PlWIMB"
   },
   "source": [
    "### 8. Provide a hand sketch of the 3-D shape of a 2s wavefunction (“orbital”). Be sure to indicate the *sign* of the wavefunction in each region and the location(s) of nodes. How many radial and how many angular nodes does a 2s wavefunction have?"
   ]
  },
  {
   "cell_type": "markdown",
   "metadata": {
    "colab_type": "text",
    "id": "1_PfLr0uCpJk"
   },
   "source": [
    "![](http://www.grandinetti.org/resources/Teaching/Chem121/Lectures/OrbitalShapes/2sOrbital.gif)"
   ]
  },
  {
   "cell_type": "markdown",
   "metadata": {
    "colab_type": "text",
    "id": "pdQjWslvWIMD"
   },
   "source": [
    "### 9. Plot the radial probability function $P_{20}(r) = r^2\\lvert R_{2,0}(r)\\rvert^2$. Be sure to label both axes appropriately. (*Hint:* Stick with $a_0$ as the length unit.)"
   ]
  },
  {
   "cell_type": "markdown",
   "metadata": {
    "colab_type": "text",
    "id": "u38i9FvjWkvR"
   },
   "source": [
    "$P_{20}(r) = r^2\\lvert R_{2,0}(r)\\rvert^2 = \\rho^2a_0^2[\\frac{1}{\\sqrt{2a_0^3}}(1-\\rho/2)e^{-\\rho/2}]^2 = \\frac{\\rho^2}{2}(1-\\rho/2)^2e^{-\\rho}\\frac{1}{a_0}$. Plot $\\frac{\\rho^2}{2}(1-\\rho/2)^2e^{-\\rho}$ vs $\\rho$, the unit of P is $\\frac{1}{a_0}$."
   ]
  },
  {
   "cell_type": "code",
   "execution_count": 0,
   "metadata": {
    "colab": {
     "base_uri": "https://localhost:8080/",
     "height": 287
    },
    "colab_type": "code",
    "id": "Bs5Pq2c-DTde",
    "outputId": "08bdf129-4f93-4385-a9e5-60af06af96dd"
   },
   "outputs": [
    {
     "data": {
      "image/png": "[encoded data removed]",
      "text/plain": [
       "<Figure size 432x288 with 1 Axes>"
      ]
     },
     "metadata": {
      "tags": []
     },
     "output_type": "display_data"
    }
   ],
   "source": [
    "import numpy as np\n",
    "import matplotlib.pyplot as plt\n",
    "\n",
    "rho = np.linspace(0,16,100)\n",
    "a = 1\n",
    "R20 = 1/(np.sqrt(2*a**3))*(1-rho/2)*np.exp(-rho/2)\n",
    "P20 = a**2*rho**2*R20**2\n",
    "\n",
    "plt.plot(rho,P20)\n",
    "plt.xlabel('Length Ratio ($r/a_0$)')\n",
    "plt.ylabel('Probability ($1/a_0$)')\n",
    "plt.axvline(x = 6, color = 'r', linestyle = '--', label = 'Expected')\n",
    "plt.axvline(x = 3 + np.sqrt(5), color = 'g', linestyle = '--', label = 'Most Probable')\n",
    "plt.axvline(x = 8, color = 'k', linestyle = '--', label = 'Classical Limit')\n",
    "plt.legend()\n",
    "plt.show()"
   ]
  },
  {
   "cell_type": "markdown",
   "metadata": {
    "colab_type": "text",
    "id": "8Cg7qADTWIMF"
   },
   "source": [
    "### 10. Determine and indicate on your plot $\\langle r\\rangle$, the expectation value of the distance of the electron from the nucleus."
   ]
  },
  {
   "cell_type": "markdown",
   "metadata": {
    "colab_type": "text",
    "id": "yOQH2B9oWpMi"
   },
   "source": [
    "$\\langle r\\rangle = \\int_{0}^{\\infty}rP_{20}dr = \\int_{0}^{\\infty}\\frac{\\rho^3}{2}(1-\\rho/2)^2e^{-\\rho}dr = a_0\\int_{0}^{\\infty}\\frac{\\rho^3}{2}(1-\\rho/2)^2e^{-\\rho}d\\rho$"
   ]
  },
  {
   "cell_type": "code",
   "execution_count": 0,
   "metadata": {
    "colab": {
     "base_uri": "https://localhost:8080/",
     "height": 34
    },
    "colab_type": "code",
    "id": "clyTRalFdSiK",
    "outputId": "159e78a2-b00b-4e09-f2f9-1b7e591c78d1"
   },
   "outputs": [
    {
     "name": "stdout",
     "output_type": "stream",
     "text": [
      "The expectation value of the distance of the electron from the nucleus is 6 * a0.\n"
     ]
    }
   ],
   "source": [
    "from sympy import * \n",
    "rho = symbols('rho')\n",
    "I = integrate(rho**3/2*(1-rho/2)**2*exp(-rho),(rho,0,oo))\n",
    "print('The expectation value of the distance of the electron from the nucleus is',I,\"* a0.\")"
   ]
  },
  {
   "cell_type": "markdown",
   "metadata": {
    "colab_type": "text",
    "id": "EaT1c6nwWIMI"
   },
   "source": [
    "### 11. Determine and indicate on your plot  $r_{MP}$, the most probable distance of the electron from the nucleus."
   ]
  },
  {
   "cell_type": "code",
   "execution_count": 0,
   "metadata": {
    "colab": {
     "base_uri": "https://localhost:8080/",
     "height": 51
    },
    "colab_type": "code",
    "id": "f77tzjDXd_ke",
    "outputId": "3288a60c-7207-4232-c215-6c659efe2bd5"
   },
   "outputs": [
    {
     "name": "stdout",
     "output_type": "stream",
     "text": [
      "Possible solutions are  [0, 2, -sqrt(5) + 3, sqrt(5) + 3]\n",
      "Comparing these solutions, the universal maximum occurs at sqrt(5) + 3\n"
     ]
    }
   ],
   "source": [
    "print(\"Possible solutions are \", solve(diff(rho**2/2*(1-rho/2)**2*exp(-rho),rho),rho))\n",
    "print('Comparing these solutions, the universal maximum occurs at sqrt(5) + 3')"
   ]
  },
  {
   "cell_type": "markdown",
   "metadata": {
    "colab_type": "text",
    "id": "7y0yeEe_WIML"
   },
   "source": [
    "### 12. Determine and indicate on your plot the maximum classical distance of the electron from the nucleus in this orbital."
   ]
  },
  {
   "cell_type": "markdown",
   "metadata": {
    "colab_type": "text",
    "id": "PPH7j1scXUF3"
   },
   "source": [
    "Classical theory states that orbitals energy must equals to Coulombic energy: $$-\\frac{\\hbar^2}{2m_ea_o^2}\\frac{1}{N^2} = -\\frac{e^2}{4\\pi\\epsilon_0}\\frac{1}{r}, where\\quad N=2\\quad and \\quad a_0 = \\frac{4\\pi\\epsilon_0\\hbar^2}{m_ee^2}$$ \n",
    "$$r_{max,classic} = 8a_0$$"
   ]
  },
  {
   "cell_type": "markdown",
   "metadata": {
    "colab_type": "text",
    "id": "9u6wwqj_WIMN"
   },
   "source": [
    "### 13. What is the probability of finding the electron beyond the classical distance? (Evaluate the necessary integral numerically.)"
   ]
  },
  {
   "cell_type": "code",
   "execution_count": 0,
   "metadata": {
    "colab": {
     "base_uri": "https://localhost:8080/",
     "height": 34
    },
    "colab_type": "code",
    "id": "yhqzQqdAeFy8",
    "outputId": "b7d7d6f4-827c-41e3-af57-0b0cefafbfca"
   },
   "outputs": [
    {
     "name": "stdout",
     "output_type": "stream",
     "text": [
      "Prob = 0.185511\n"
     ]
    }
   ],
   "source": [
    "rho_ = symbols('rho_')\n",
    "I = integrate(rho_**2/2*(1-rho_/2)**2*exp(-rho_),(rho_,8,oo)) #intrgrate from 8 to infinity\n",
    "print(\"Prob = %f\"%I)"
   ]
  },
  {
   "cell_type": "markdown",
   "metadata": {
    "colab_type": "text",
    "id": "DavFb_D0WIMP"
   },
   "source": [
    "### 14. Can a 2s electron undergo an allowed transition to a lower energy electronic state? If so, what frequency (in cm$^{-1}$) of light would be emitted?"
   ]
  },
  {
   "cell_type": "markdown",
   "metadata": {
    "colab_type": "text",
    "id": "HV3_1Vc3eIFf"
   },
   "source": [
    "NO! Quantum number ($n,l,m_l$) of 2s = 2,0,0 while 1s = 1,0,0. Since $\\Delta l\\neq \\pm 1$, the transition is not allowed."
   ]
  }
 ],
 "metadata": {
  "anaconda-cloud": null,
  "colab": {
   "collapsed_sections": [],
   "name": "PChem HW 6 Solutions",
   "provenance": []
  },
  "kernelspec": {
   "display_name": "Python 3",
   "language": "python",
   "name": "python3"
  },
  "language_info": {
   "codemirror_mode": {
    "name": "ipython",
    "version": 3
   },
   "file_extension": ".py",
   "mimetype": "text/x-python",
   "name": "python",
   "nbconvert_exporter": "python",
   "pygments_lexer": "ipython3",
   "version": "3.7.4"
  },
  "name": "HW6.ipynb"
 },
 "nbformat": 4,
 "nbformat_minor": 1
}
