{
 "cells": [
  {
   "cell_type": "markdown",
   "metadata": {
    "collapsed": true
   },
   "source": [
    "### Devon Ngo\n",
    "\n",
    "\n",
    "## Chem 30324, Spring 2020, Homework3\n",
    "\n",
    "### Due February 5, 2020"
   ]
  },
  {
   "cell_type": "markdown",
   "metadata": {},
   "source": [
    "## Heat capacity of solids"
   ]
  },
  {
   "cell_type": "markdown",
   "metadata": {},
   "source": [
    "### 1. In Einstein's [original paper](https://onlinelibrary.wiley.com/doi/abs/10.1002/andp.19063270110) on the heat capacity of solids, he compared his model results to experiments on diamond, using a frequency for the vibrating C atoms $\\nu = 2.75 \\times 10^{13} \\text{s}^{-1}$.  What fundamentally did he assume about the vibrating C atoms to describe the heat capacity of diamond?"
   ]
  },
  {
   "cell_type": "markdown",
   "metadata": {},
   "source": [
    "Einstein assumed that the vibrating C atoms had the same energy as Planck's quantized waves and that they all vibrate at the same frequency."
   ]
  },
  {
   "cell_type": "markdown",
   "metadata": {},
   "source": [
    "### 2. Plot the Einstein model for the heat capacity of diamond from 0 to 1500 K."
   ]
  },
  {
   "cell_type": "code",
   "execution_count": 1,
   "metadata": {},
   "outputs": [],
   "source": [
    "# import libraries\n",
    "import numpy as np\n",
    "import matplotlib.pyplot as plt"
   ]
  },
  {
   "cell_type": "code",
   "execution_count": 2,
   "metadata": {},
   "outputs": [],
   "source": [
    "# constants\n",
    "h = 6.62607 * 10**(-34) # J*s, Planck's constant\n",
    "kb = 1.38065 * 10**(-23) # J/K, Boltzmann cst\n",
    "v = 2.75 * 10**(13) # Hz, frequency\n",
    "hv = h*v # create hv cst\n",
    "R = 8.314\n",
    "\n",
    "T = np.linspace(0, 1500, 1501) # set temperatures\n",
    "Cv = np.zeros(len(T)) # array of zeros to take heat capacities"
   ]
  },
  {
   "cell_type": "code",
   "execution_count": 3,
   "metadata": {},
   "outputs": [
    {
     "name": "stderr",
     "output_type": "stream",
     "text": [
      "C:\\Users\\devon\\Anaconda3\\lib\\site-packages\\ipykernel_launcher.py:3: RuntimeWarning: divide by zero encountered in double_scalars\n",
      "  This is separate from the ipykernel package so we can avoid doing imports until\n",
      "C:\\Users\\devon\\Anaconda3\\lib\\site-packages\\ipykernel_launcher.py:5: RuntimeWarning: invalid value encountered in double_scalars\n",
      "  \"\"\"\n",
      "C:\\Users\\devon\\Anaconda3\\lib\\site-packages\\ipykernel_launcher.py:4: RuntimeWarning: overflow encountered in exp\n",
      "  after removing the cwd from sys.path.\n",
      "C:\\Users\\devon\\Anaconda3\\lib\\site-packages\\ipykernel_launcher.py:5: RuntimeWarning: overflow encountered in exp\n",
      "  \"\"\"\n",
      "C:\\Users\\devon\\Anaconda3\\lib\\site-packages\\ipykernel_launcher.py:5: RuntimeWarning: overflow encountered in double_scalars\n",
      "  \"\"\"\n"
     ]
    },
    {
     "data": {
      "image/png": "[encoded data removed]",
      "text/plain": [
       "<Figure size 432x288 with 1 Axes>"
      ]
     },
     "metadata": {
      "needs_background": "light"
     },
     "output_type": "display_data"
    }
   ],
   "source": [
    "# generate heat capacities for 0-1500K\n",
    "def heat(T):\n",
    "    m = hv/(kb * T)\n",
    "    t = np.exp(m)\n",
    "    tot = 3*R*m**2*(np.exp(m)/ (np.exp(m)-1)**2)\n",
    "    return tot\n",
    "\n",
    "for i in range(1501):\n",
    "    Cv[i] = heat(T[i])\n",
    "\n",
    "# plot graph\n",
    "plt.plot(T, Cv)\n",
    "plt.title(\"Heat Capacity of Diamond\")\n",
    "plt.xlabel(\"Temperature (K)\")\n",
    "plt.ylabel(\"Heat Capacity\")\n",
    "plt.grid()\n",
    "plt.show()"
   ]
  },
  {
   "cell_type": "markdown",
   "metadata": {},
   "source": [
    "### 3. What is the probability for a C atom to have $n=1$ quanta of energy relative to $n=0$ at 1500 K?  At 150 K?"
   ]
  },
  {
   "cell_type": "code",
   "execution_count": 4,
   "metadata": {},
   "outputs": [
    {
     "name": "stdout",
     "output_type": "stream",
     "text": [
      "The probability for a C atom to have n = 1 quanta of energy relative to n = 0 is 0.22232 at 1500 K.\n",
      "The probability for a C atom to have n = 1 quanta of energy relative to n = 0 is 0.00015 at 150 K.\n"
     ]
    }
   ],
   "source": [
    "def fprob(n, temp):\n",
    "    denom = 1 / (1 / (1 - np.exp(-n*hv/(kb*temp))))\n",
    "    return np.exp(-n*hv/(kb*temp)/denom)\n",
    "\n",
    "p1500 = fprob(1, 1500)\n",
    "p150 = fprob(1, 150)\n",
    "\n",
    "\n",
    "print(\"The probability for a C atom to have n = 1 quanta of energy relative to n = 0 is {:.5f} at 1500 K.\".format(p1500))\n",
    "print(\"The probability for a C atom to have n = 1 quanta of energy relative to n = 0 is {:.5f} at 150 K.\".format(p150))"
   ]
  },
  {
   "cell_type": "markdown",
   "metadata": {},
   "source": [
    "## Blackbody radiators.\n",
    "By treating the sun as a blackbody radiator, Joseph Stefan derived the first reliable estimate of the temperature of the sun’s surface."
   ]
  },
  {
   "cell_type": "markdown",
   "metadata": {},
   "source": [
    "### 4. Stefan estimated that the power per unit area radiated from the surface of the sun was 43.5 times greater than that of a metal bar heated to 1950 ̊C. What is the temperature of the sun?"
   ]
  },
  {
   "cell_type": "markdown",
   "metadata": {},
   "source": [
    "Using the Stefan-Boltzmann law, we can find the power per unit area for the metal bar. We can then multiply that by 43.5 and isolate T to find the temperature of the sun."
   ]
  },
  {
   "cell_type": "code",
   "execution_count": 5,
   "metadata": {},
   "outputs": [
    {
     "name": "stdout",
     "output_type": "stream",
     "text": [
      "The temperature of the sun is 5436.26 C.\n"
     ]
    }
   ],
   "source": [
    "sb = 5.67E-8 # W/(m^2 * K^4)\n",
    "Tm = 1950 + 273.15 # T in Kelvin\n",
    "\n",
    "met = sb*Tm**4 # find power/unit area for metal\n",
    "sun = (((43.5 * met)/sb)**.25) # multiply by 43.5 and divide for sun\n",
    "sunC = sun - 273.15 # convert to C\n",
    "\n",
    "print(\"The temperature of the sun is {:.2f} C.\".format(sunC)) # convert back to deg C"
   ]
  },
  {
   "cell_type": "markdown",
   "metadata": {},
   "source": [
    "### 5. Based on this temperature, what wavelength $\\lambda$ of light does the sun emit most intensely, in nm? What frequency of light, in s$^{–1}$? What color does this correspond to?"
   ]
  },
  {
   "cell_type": "markdown",
   "metadata": {},
   "source": [
    "To solve, we can plug the temperature into Wein's law to find $\\lambda$. Plugging that into the equation for the speed of light, $c = \\lambda \\nu$ gives us the frequency. The wavelength found corresponds to green. "
   ]
  },
  {
   "cell_type": "code",
   "execution_count": 6,
   "metadata": {},
   "outputs": [
    {
     "name": "stdout",
     "output_type": "stream",
     "text": [
      "The wavelength emitted by the sun most intensely is 507.54 nm.\n",
      "The frequency of light is 5.907e+14 s^-1.\n"
     ]
    }
   ],
   "source": [
    "wlen = 2897768/sun # nm * K / K\n",
    "print(\"The wavelength emitted by the sun most intensely is {:.2f} nm.\".format(wlen))\n",
    "\n",
    "wlenm = wlen * 1E-9 # convert to m\n",
    "c = 2.99792458E8 # m/s\n",
    "nu = c/wlenm # 1/s\n",
    "print(\"The frequency of light is {:.4g} s^-1.\".format(nu))"
   ]
  },
  {
   "cell_type": "markdown",
   "metadata": {},
   "source": [
    "### 6. What is the ultraviolet catastrophe, and what did Planck have to assume to circumvent it?"
   ]
  },
  {
   "cell_type": "markdown",
   "metadata": {},
   "source": [
    "The ultraviolet catastrophe is the prediction of a continued increase in energy as frequency increases using classical physics as predicted by the Rayleigh-Jeans equation. Planck had to assume that energy is quantized in order to circumvent the ultraviolet catastrophe."
   ]
  },
  {
   "cell_type": "markdown",
   "metadata": {},
   "source": [
    "## Photoelectric effect.\n",
    "The photoelectric effect refers to the emission of electrons that is observed when light is shone on a metal. The effect was the clue that Einstein needed to illucidate the particulate nature of the interaction of light and matter."
   ]
  },
  {
   "cell_type": "markdown",
   "metadata": {},
   "source": [
    "### 7. You set up an experiment in which you shine light of varying intensity and constant frequency at a metal surface and measure the maximum kinetic energy of the emitted electrons. As an accomplished student of classical physics, you know that the energy contained in a wave is proportional to the square of its intensity. Based on this knowledge, sketch how you $expect$ the kinetic energy of the electrons to vary in the experiment. Briefly justify your answer."
   ]
  },
  {
   "cell_type": "markdown",
   "metadata": {},
   "source": [
    "As a classical physics student, I would expect kinetic energy to take a parabolic relationship with regards to the intensity of the light--the more intense the light, the more kinetic energy the emitted electron should have. A higher intensity means more energy is being transferred to the electrons, which will carry a higher kinetic energy."
   ]
  },
  {
   "cell_type": "markdown",
   "metadata": {},
   "source": [
    "Expected relationship of KE and Intensity:\n",
    "<br />\n",
    "<br />\n",
    "<br />\n",
    "<br />\n",
    "<br />\n",
    "<br />\n",
    "<br />\n",
    "<br />\n",
    "<br />\n",
    "<br />\n",
    "<br />\n",
    "<br />\n",
    "<br />\n",
    "<br />\n",
    "<br />\n",
    "<br />\n",
    "<br />\n",
    "<br />"
   ]
  },
  {
   "cell_type": "markdown",
   "metadata": {},
   "source": [
    "### 8. Not finding a result that you like, you set up another experiment in which you vary the frequency of light at constant intensity. Below is the data you collect. Use graphical analysis to determine the workfunction of the metal, in eV, and to estimate Planck’s constant."
   ]
  },
  {
   "cell_type": "markdown",
   "metadata": {},
   "source": [
    "|Light Wavelength (nm)|Electron Kinetic Energy (eV)|\n",
    "|:-:|:-:|\n",
    "|263|0.13|\n",
    "|250|0.33|\n",
    "|234|0.68|\n",
    "|218|1.08|\n",
    "|184|2.13|"
   ]
  },
  {
   "cell_type": "code",
   "execution_count": 7,
   "metadata": {},
   "outputs": [],
   "source": [
    "# import stats\n",
    "from scipy.stats import linregress"
   ]
  },
  {
   "cell_type": "code",
   "execution_count": 8,
   "metadata": {},
   "outputs": [
    {
     "data": {
      "image/png": "[encoded data removed]",
      "text/plain": [
       "<Figure size 432x288 with 1 Axes>"
      ]
     },
     "metadata": {
      "needs_background": "light"
     },
     "output_type": "display_data"
    },
    {
     "name": "stdout",
     "output_type": "stream",
     "text": [
      "The slope is 4.127e-15.\n",
      "The work function of the metal is 4.5978 eV.\n",
      "Planck's constant is estimated to be 4.12e-15 eV.\n"
     ]
    }
   ],
   "source": [
    "w = np.array([263, 250, 234, 218, 184]) # array of wavelengths\n",
    "cev = c*(10**9) # convert speed of light to nm\n",
    "v = cev/w # determine frequencies\n",
    "\n",
    "ke = np.array([.13, .33, .68, 1.08, 2.13]) # kinetic energy\n",
    "\n",
    "plt.plot(v, ke)\n",
    "plt.title(\"Photoelectric Effect\")\n",
    "plt.xlabel(\"Frequency (Hz)\")\n",
    "plt.ylabel(\"Kinetic Energy (eV)\")\n",
    "plt.grid()\n",
    "plt.show()\n",
    "\n",
    "eval = (linregress(v,ke))\n",
    "print(\"The slope is {:.4g}.\".format(eval.slope))\n",
    "print(\"The work function of the metal is {:.4f} eV.\".format(abs(eval.intercept)))\n",
    "\n",
    "\n",
    "h = (w[2]/cev)*(ke[2]-eval.intercept)\n",
    "print(\"Planck's constant is estimated to be {:.4g} eV.\".format(h))"
   ]
  },
  {
   "cell_type": "markdown",
   "metadata": {},
   "source": [
    "Using a linear regression analysis, we can find the slope and y-intercept. This allows us to find the work function and estimate Planck's constant, as stated above."
   ]
  },
  {
   "cell_type": "markdown",
   "metadata": {},
   "source": [
    "### 9. What is the metal? $Hint:$ It is a coinage metal."
   ]
  },
  {
   "cell_type": "markdown",
   "metadata": {},
   "source": [
    "Using a reference table, this metal is identified as Ag (silver) based off the work function."
   ]
  },
  {
   "cell_type": "markdown",
   "metadata": {},
   "source": [
    "## Diffraction.\n",
    "Diffraction is the scattering of particles off of a crystal, and is today an essential means of probing the structure of matter. Modern diffraction is performed using bright light and particle sources of various types."
   ]
  },
  {
   "cell_type": "markdown",
   "metadata": {},
   "source": [
    "### 10. The spacing between atoms in a Ag crystal is approximately 2.9 Å, a distance that can be measured by scattering photons of a comparable wavelength off the crystal. What is the energy (in eV) of a photon of wavelength 2.9 Å? What part of the electromagnetic spectrum does this correspond to?"
   ]
  },
  {
   "cell_type": "code",
   "execution_count": 9,
   "metadata": {},
   "outputs": [
    {
     "name": "stdout",
     "output_type": "stream",
     "text": [
      "The energy of a photon at 2.9 A is 4275.309 eV.\n"
     ]
    }
   ],
   "source": [
    "hev = 4.13566E-15 # planck's cst in eV\n",
    "wave = .29 # convert A to nm\n",
    "freq = cev/wave # use C in nm and divide by wavelength to find frequency\n",
    "energy = (freq)*hev \n",
    "\n",
    "print(\"The energy of a photon at 2.9 A is {:.3f} eV.\".format(energy))"
   ]
  },
  {
   "cell_type": "markdown",
   "metadata": {},
   "source": [
    "$4275$ eV falls in the X-ray portion of the electromagnetic spectrum."
   ]
  },
  {
   "cell_type": "markdown",
   "metadata": {},
   "source": [
    "### 11. Suppose you have a device that produces these photons at a power of 1 μW. How many photons/s does this correspond to?"
   ]
  },
  {
   "cell_type": "code",
   "execution_count": 10,
   "metadata": {},
   "outputs": [
    {
     "name": "stdout",
     "output_type": "stream",
     "text": [
      "1uW corresponds to 1.414e+14 photons.\n"
     ]
    }
   ],
   "source": [
    "pow = 1E-6 # convert to W = J/s\n",
    "en = h*freq # find energy of 1 photon\n",
    "num = pow / en # divide power by energy of 1 photon to find number\n",
    "photons = num * 6.02214E23 # multiply by avagadro's number\n",
    "\n",
    "print(\"1uW corresponds to {:.4g} photons.\".format(photons))"
   ]
  },
  {
   "cell_type": "markdown",
   "metadata": {},
   "source": [
    "### 12. The Ag spacing can also be measured by scattering $electrons$ off a crystal. To what speed (in m/s) would an electron need to be accelerated to have the necessary de Broglie wavelength? What fraction of the speed of light is this?"
   ]
  },
  {
   "cell_type": "code",
   "execution_count": 11,
   "metadata": {},
   "outputs": [
    {
     "name": "stdout",
     "output_type": "stream",
     "text": [
      "The velocity required is 1559414338762849506033664.00 m/s.\n",
      "This is 5.202e+15 the speed of light.\n"
     ]
    }
   ],
   "source": [
    "dist = 2.9E-9 # distance in m\n",
    "me = 9.10938215E-31 # kg\n",
    "\n",
    "v = h/(dist * me)\n",
    "\n",
    "print(\"The velocity required is {:.2f} m/s.\".format(v))\n",
    "\n",
    "frac = v/c\n",
    "print(\"This is {:.4g} the speed of light.\".format(frac))"
   ]
  },
  {
   "cell_type": "code",
   "execution_count": null,
   "metadata": {},
   "outputs": [],
   "source": []
  }
 ],
 "metadata": {
  "anaconda-cloud": {},
  "kernelspec": {
   "display_name": "Python 3",
   "language": "python",
   "name": "python3"
  },
  "language_info": {
   "codemirror_mode": {
    "name": "ipython",
    "version": 3
   },
   "file_extension": ".py",
   "mimetype": "text/x-python",
   "name": "python",
   "nbconvert_exporter": "python",
   "pygments_lexer": "ipython3",
   "version": "3.7.4"
  }
 },
 "nbformat": 4,
 "nbformat_minor": 1
}
