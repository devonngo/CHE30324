{
  "nbformat": 4,
  "nbformat_minor": 0,
  "metadata": {
    "anaconda-cloud": {},
    "kernelspec": {
      "display_name": "Python 3",
      "language": "python",
      "name": "python3"
    },
    "language_info": {
      "codemirror_mode": {
        "name": "ipython",
        "version": 3
      },
      "file_extension": ".py",
      "mimetype": "text/x-python",
      "name": "python",
      "nbconvert_exporter": "python",
      "pygments_lexer": "ipython3",
      "version": "3.7.4"
    },
    "colab": {
      "name": "PChem HW 2- abrown32",
      "provenance": []
    }
  },
  "cells": [
    {
      "cell_type": "markdown",
      "metadata": {
        "id": "EUhP2Er_GDfn",
        "colab_type": "text"
      },
      "source": [
        "# Chem 30324, Spring 2019, Homework 2\n",
        "## Due: January 29, 2020"
      ]
    },
    {
      "cell_type": "markdown",
      "metadata": {
        "id": "BwcfoTvvGDft",
        "colab_type": "text"
      },
      "source": [
        "## Problem 1. Gases on a table top"
      ]
    },
    {
      "cell_type": "markdown",
      "metadata": {
        "id": "-1Yaaa6fGDfx",
        "colab_type": "text"
      },
      "source": [
        "In class we derived the properties of a 3-dimensional gas from the Boltzmann distribution and three postulates, and you studied a 1-dimensional gas in Homework 1. Suppose you were interested instead in a 2-dimensional gas, for example gas molecules able to freely skate around on a surface but that couldn’t escape the surface."
      ]
    },
    {
      "cell_type": "markdown",
      "metadata": {
        "id": "EGXZ0oZNGDf0",
        "colab_type": "text"
      },
      "source": [
        "### 1. Derive the Maxwell-Boltzman speed distribution for a 2-dimensional gas. (*Hint*: Think polar coordinates.)"
      ]
    },
    {
      "cell_type": "markdown",
      "metadata": {
        "id": "qVFPbrCRNOuG",
        "colab_type": "text"
      },
      "source": [
        "For a 1-dimensional gas,\n",
        "$$P=(\\frac{m}{2\\pi kT})^{1/2}\\exp(\\frac{-mv^2}{2kT})$$\n",
        "For a 3-dimensional gas,\n",
        "$$P=4\\pi v^2(\\frac{m}{2\\pi kT})^{3/2}\\exp(\\frac{-mv^2}{2kT})$$\n",
        "Where $4\\pi v^2$ is the number of directions (area of sphere).\n",
        "\n",
        "In a 2-dimensional space, the number of directions is $2\\pi v$ (circumference of circle).\n",
        "\n",
        "Therefore,\n",
        "$$P=2\\pi v(\\frac{m}{2\\pi kT})^{2/2}\\exp(\\frac{-mv^2}{2kT})$$\n",
        "$$=(\\frac{m v}{k T})\\exp(\\frac{-mv^2}{2kT})$$ for a 2-dimensional space."
      ]
    },
    {
      "cell_type": "markdown",
      "metadata": {
        "id": "cjT1mtHuGDf3",
        "colab_type": "text"
      },
      "source": [
        "### 2. Plot this 2-dimensional speed distribution for O$_2$ molecules at 200, 400 and 600 K."
      ]
    },
    {
      "cell_type": "code",
      "metadata": {
        "id": "xLCX08ePRnEP",
        "colab_type": "code",
        "outputId": "b93ee821-87ca-4af0-befb-ead95c848042",
        "colab": {
          "base_uri": "https://localhost:8080/",
          "height": 295
        }
      },
      "source": [
        "import numpy as np\n",
        "import matplotlib.pyplot as plt\n",
        "\n",
        "m = 32/1000/(6.022*10**23) #mass of O2 (kg/molecule)\n",
        "k = 1.38064852*10**-23 # Boltzmann Constant (m^2 kg s^-2 K^-1)\n",
        "v = np.linspace(0,1500,1000) #velocity (m/s)\n",
        "\n",
        "for T in [200,400,600]:\n",
        "  P = (m*v/k/T)*np.exp(-m*v**2/(2*k*T)) #Maxwell-Boltzman speed distribution for a 2-D gas\n",
        "  plt.plot(v,P, label = '{0}K'.format(T))\n",
        "\n",
        "plt.xlabel('Velocity(m/s)')\n",
        "plt.ylabel('Probability')\n",
        "plt.legend(loc='best')\n",
        "plt.title('O2 Speed Distribution')\n",
        "plt.show()\n",
        "\n"
      ],
      "execution_count": 0,
      "outputs": [
        {
          "output_type": "display_data",
          "data": {
            "image/png": "[encoded data removed]",
            "text/plain": [
              "<Figure size 432x288 with 1 Axes>"
            ]
          },
          "metadata": {
            "tags": []
          }
        }
      ]
    },
    {
      "cell_type": "markdown",
      "metadata": {
        "id": "7v0niH9jGDf6",
        "colab_type": "text"
      },
      "source": [
        "### 3. Calculate the mean (expected value) of the speed of a 2-dimensional gas of molecules. How does your answer compare to a 3-dimensional gas?"
      ]
    },
    {
      "cell_type": "code",
      "metadata": {
        "id": "nWL3ul35X4uy",
        "colab_type": "code",
        "outputId": "385f2465-18e0-4a5d-b144-2ea5ff7f639b",
        "colab": {
          "base_uri": "https://localhost:8080/",
          "height": 191
        }
      },
      "source": [
        "from sympy import *\n",
        "\n",
        "T = Symbol('T',positive=True)\n",
        "k = Symbol('k',positive=True)\n",
        "m = Symbol('m',positive=True)\n",
        "v = Symbol('v',positive=True)\n",
        "\n",
        "#2D Gas\n",
        "eqn2d = (2*pi*v)*(m/2/pi/k/T)*exp(-m*v**2/2/k/T)\n",
        "vbar2top = integrate(eqn2d*(v),(v,0,oo))\n",
        "vbar2bot = integrate(eqn2d,(v,0,oo))\n",
        "pprint(vbar2top/vbar2bot)\n",
        "pprint(vbar2top)\n",
        "\n",
        "#1D Gas\n",
        "eqn1d = (m/2/pi/k/T)**(0.5)*exp(-m*v**2/2/k/T)\n",
        "vbar1top = integrate(eqn1d*(v),(v,0,oo))\n",
        "vbar1bot = integrate(eqn1d,(v,0,oo))\n",
        "pprint(vbar1top/vbar1bot)\n",
        "\n",
        "#3D Gas\n",
        "eqn3d = (4*pi*v**2)*(m/2/pi/k/T)**(1.5)*exp(-m*v**2/2/k/T)\n",
        "vbar3top = integrate(eqn3d*(v),(v,0,oo))\n",
        "vbar3bot = integrate(eqn3d,(v,0,oo))\n",
        "pprint(vbar3top/vbar3bot)"
      ],
      "execution_count": 0,
      "outputs": [
        {
          "output_type": "stream",
          "text": [
            "√2⋅√π⋅√T⋅√k\n",
            "───────────\n",
            "    2⋅√m   \n",
            "√2⋅√π⋅√T⋅√k\n",
            "───────────\n",
            "    2⋅√m   \n",
            "        -0.5  0.5  0.5  -0.5\n",
            "1.0⋅√2⋅π    ⋅T   ⋅k   ⋅m    \n",
            "        -0.5  0.5  0.5  -0.5\n",
            "2.0⋅√2⋅π    ⋅T   ⋅k   ⋅m    \n"
          ],
          "name": "stdout"
        }
      ]
    },
    {
      "cell_type": "markdown",
      "metadata": {
        "id": "kRRzD1x9GDf9",
        "colab_type": "text"
      },
      "source": [
        "### 4. Calculate the mean kinetic energy of a 2-dimensional gas. How does your answer compare to a one and 3-dimensional gas?"
      ]
    },
    {
      "cell_type": "code",
      "metadata": {
        "id": "n0WRG_q7eVA5",
        "colab_type": "code",
        "outputId": "0b8a8edf-4e41-4abe-8fde-7a70ed9cb666",
        "colab": {
          "base_uri": "https://localhost:8080/",
          "height": 173
        }
      },
      "source": [
        "from sympy import *\n",
        "\n",
        "T = Symbol('T',positive=True)\n",
        "k = Symbol('k',positive=True)\n",
        "m = Symbol('m',positive=True)\n",
        "v = Symbol('v')\n",
        "\n",
        "#2D Gas\n",
        "eqn2d = (2*pi*v)*(m/2/pi/k/T)*exp(-m*v**2/2/k/T)\n",
        "vbar2top = integrate(eqn2d*(v**2/2),(v,0,oo))\n",
        "vbar2bot = integrate(eqn2d,(v,0,oo))\n",
        "pprint(vbar2top/vbar2bot)\n",
        "\n",
        "#1D Gas\n",
        "eqn1d = (m/2/pi/k/T)**(0.5)*exp(-m*v**2/2/k/T)\n",
        "vbar1top = integrate(eqn1d*(v**2/2),(v,-oo,oo))\n",
        "vbar1bot = integrate(eqn1d,(v,-oo,oo))\n",
        "pprint(vbar1top/vbar1bot)\n",
        "\n",
        "#3D Gas\n",
        "eqn3d = (4*pi*v**2)*(m/2/pi/k/T)**(1.5)*exp(-m*v**2/2/k/T)\n",
        "vbar3top = integrate(eqn3d*(v**2/2),(v,-oo,oo))\n",
        "vbar3bot = integrate(eqn3d,(v,-oo,oo))\n",
        "pprint(vbar3top/vbar3bot)"
      ],
      "execution_count": 0,
      "outputs": [
        {
          "output_type": "stream",
          "text": [
            "T⋅k\n",
            "───\n",
            " m \n",
            "0.5⋅T⋅k\n",
            "───────\n",
            "   m   \n",
            "1.5⋅T⋅k\n",
            "───────\n",
            "   m   \n"
          ],
          "name": "stdout"
        }
      ]
    },
    {
      "cell_type": "markdown",
      "metadata": {
        "id": "MuQT3LkBGDf_",
        "colab_type": "text"
      },
      "source": [
        "## Problem 2. (Kinetics and Transport)"
      ]
    },
    {
      "cell_type": "markdown",
      "metadata": {
        "id": "HgIbl8zEGDgC",
        "colab_type": "text"
      },
      "source": [
        "In junior Chemical Engineering laboratory, you will study the diffusion and solubility of CO$_2$ in an organic solvent using a diffusion cell like the one sketched here. <img src=\"https://gas spacegtheithub.com/wmfschneider/CHE30324/blob/master/Homework/imgs/HW2_P2.png?raw=1\">Let’s suppose that the gas space at the top of the diffusion cell is approximately 2 cm high and 4 cm in diameter. Further suppose that the gas in the head of the cell is pure CO$_2$ at 298 K and 1 bar pressure. Note that CO$_2$ has a collision diameter d of 0.40 nm."
      ]
    },
    {
      "cell_type": "markdown",
      "metadata": {
        "id": "6uSiME9BGDgE",
        "colab_type": "text"
      },
      "source": [
        "### 5. What does gas kinetic theory predict for the gas self-diffusion constant $D_{11}$ of CO$_2$ gas in the cell, in cm$^2$s$^{−1}$?"
      ]
    },
    {
      "cell_type": "code",
      "metadata": {
        "id": "6_qtrg9o8Nva",
        "colab_type": "code",
        "outputId": "f3d303d7-8b92-4674-b554-022329c7292d",
        "colab": {
          "base_uri": "https://localhost:8080/",
          "height": 34
        }
      },
      "source": [
        "import numpy as np\n",
        "\n",
        "#Constants\n",
        "T = 298 #K\n",
        "P = 100000 #Pa (kg/m/s^2)\n",
        "d = 4*10**-10 #m\n",
        "MW = 44.01 #g/mol\n",
        "Na = 6.022*10**23 #molecules/mol\n",
        "kB = 1.38064582*10**-23 #m^2 kg/s^2/K\n",
        "m = MW/Na/1000 # kg/molecule\n",
        "\n",
        "v = (8*kB*T/np.pi/m)**0.5 #m/s, mean speed\n",
        "V = Na*kB*T/P #m^3/mol, volume\n",
        "sigma = np.pi*d**2  #m^2, collision cross section\n",
        "z = np.sqrt(2)*sigma*Na/V*v #1/s, molecular collision frequency\n",
        "lambd = v/z #m, mean free path\n",
        "D11 = 1/3*v*lambd #m^2/s, self-diffusion constant\n",
        "\n",
        "print('The self diffusion constant D11 is',round(D11*100**2,5),'cm^2/s')"
      ],
      "execution_count": 0,
      "outputs": [
        {
          "output_type": "stream",
          "text": [
            "The self diffusion constant D11 is 0.07305 cm^2/s\n"
          ],
          "name": "stdout"
        }
      ]
    },
    {
      "cell_type": "markdown",
      "metadata": {
        "id": "Gw1vE9vtGDgM",
        "colab_type": "text"
      },
      "source": [
        "### 6. Use the Stokes-Einstein relationship to estimate the diffusion constant of CO$_2$ in the Stoddard solvent.  How does this compare with the diffusion constant in the gas phase? Why?"
      ]
    },
    {
      "cell_type": "code",
      "metadata": {
        "id": "5NzPEBB6HcKC",
        "colab_type": "code",
        "outputId": "09e94b2a-d7aa-43c9-d4db-f413a36e5914",
        "colab": {
          "base_uri": "https://localhost:8080/",
          "height": 51
        }
      },
      "source": [
        "r = d/2 #m\n",
        "eta = 14.93e-6 # Pa*s, Viscosity of CO2 at 298 K (source from engineeringtoolbox.com)\n",
        "D12 = kB*T/(4*np.pi*eta*r) #m^2/s\n",
        "\n",
        "print('The diffusion constant in the Stoddard solvent is', round(D12*100**2,7),'cm^2/s.')\n",
        "print('This value is smaller in Stoddard solvent due to greater viscosity.')"
      ],
      "execution_count": 0,
      "outputs": [
        {
          "output_type": "stream",
          "text": [
            "The diffusion constant in the Stoddard solvent is 0.0010965 cm^2/s.\n",
            "This value is smaller in Stoddard solvent due to greater viscosity.\n"
          ],
          "name": "stdout"
        }
      ]
    },
    {
      "cell_type": "markdown",
      "metadata": {
        "id": "CzSmS4x_GDgP",
        "colab_type": "text"
      },
      "source": [
        "### 7. We found in class that the probability for a molecule to diffuse a distance $x$ in time $t$ is Gaussian with mean 0 and standard deviation $\\sigma = \\sqrt{2D_{11}t}$. About how long will it take for 1/3 of the molecules starting at the center of the gas space to diffuse all the way to the surface of the liquid, i.e., > 1 cm?"
      ]
    },
    {
      "cell_type": "code",
      "metadata": {
        "id": "IdJUZ8f1OecB",
        "colab_type": "code",
        "outputId": "bbb7fa66-9ba5-4cbe-88c5-0e2d1f62dcd0",
        "colab": {
          "base_uri": "https://localhost:8080/",
          "height": 105
        }
      },
      "source": [
        "from scipy.stats import norm\n",
        "\n",
        "prob = norm.ppf(2/3) #cm\n",
        "print('The 66.7% percentile of a normal distribution function lies at x =',round(prob,3),'cm.')\n",
        "print('However, we already know that x = 1 cm here. Therefore, sigma must be greater than one.')\n",
        "sigma1 = 1/prob #cm\n",
        "print('sigma =',round(sigma1,3),'cm')\n",
        "t = sigma1**2/2/D11/(100**2) #s\n",
        "print('For 1/3 of the molecules to diffuse all the way to the surface is',round(t,2),'seconds.')"
      ],
      "execution_count": 0,
      "outputs": [
        {
          "output_type": "stream",
          "text": [
            "The 66.7% percentile of a normal distribution function lies at x = 0.431 cm.\n",
            "However, we already know that x = 1 cm here. Therefore, sigma must be greater than one.\n",
            "sigma = 2.322 cm\n",
            "For 1/3 of the molecules to diffuse all the way to the surface is 36.89 seconds.\n"
          ],
          "name": "stdout"
        }
      ]
    },
    {
      "cell_type": "markdown",
      "metadata": {
        "id": "rlX22MT4GDgR",
        "colab_type": "text"
      },
      "source": [
        "### 8. How many collisions on average does one of these diffusing CO$_2$ molecule make with other gas molecules on the way from the middle of the vapor space to the surface of the solvent?"
      ]
    },
    {
      "cell_type": "code",
      "metadata": {
        "id": "xmM_mkp8JdRO",
        "colab_type": "code",
        "outputId": "9a9fa74c-a8b5-4280-dae4-5f8fe3b1e503",
        "colab": {
          "base_uri": "https://localhost:8080/",
          "height": 34
        }
      },
      "source": [
        "print('Average collisons=z*t=',round(z*t,0))"
      ],
      "execution_count": 0,
      "outputs": [
        {
          "output_type": "stream",
          "text": [
            "Average collisons=z*t= 241356542860.0\n"
          ],
          "name": "stdout"
        }
      ]
    },
    {
      "cell_type": "markdown",
      "metadata": {
        "id": "4nGRqaFgGDgT",
        "colab_type": "text"
      },
      "source": [
        "### 9. How far in total distance does this typical CO$_2$ molecule travel in the time it takes to reach the solvent surface from the middle of the cell?"
      ]
    },
    {
      "cell_type": "code",
      "metadata": {
        "id": "R0dZrn3L9fXG",
        "colab_type": "code",
        "outputId": "f5a1174d-1690-4108-b2e2-9456ebce2077",
        "colab": {
          "base_uri": "https://localhost:8080/",
          "height": 34
        }
      },
      "source": [
        "print('Total distance =',round(v*t,1),'m.')"
      ],
      "execution_count": 0,
      "outputs": [
        {
          "output_type": "stream",
          "text": [
            "Total distance = 13969.2 m.\n"
          ],
          "name": "stdout"
        }
      ]
    },
    {
      "cell_type": "markdown",
      "metadata": {
        "id": "6wBS_3mBGDgU",
        "colab_type": "text"
      },
      "source": [
        "### 10. How many CO$_2$ molecules impinge on the surface of the Stoddard solvent in one second?"
      ]
    },
    {
      "cell_type": "code",
      "metadata": {
        "id": "LKhxwljgJzoH",
        "colab_type": "code",
        "outputId": "17345d9a-c88d-443a-e178-ce7e7fccae46",
        "colab": {
          "base_uri": "https://localhost:8080/",
          "height": 34
        }
      },
      "source": [
        "jw = 1/4*P/kB/T*v #collisions/area/time\n",
        "area = np.pi*.02**2 #m^2\n",
        "n = jw*area*1\n",
        "print('Wall collision frequency =',n)"
      ],
      "execution_count": 0,
      "outputs": [
        {
          "output_type": "stream",
          "text": [
            "Wall collision frequency = 2.891114873231068e+24\n"
          ],
          "name": "stdout"
        }
      ]
    },
    {
      "cell_type": "markdown",
      "metadata": {
        "collapsed": true,
        "id": "pZp8KIygGDgV",
        "colab_type": "text"
      },
      "source": [
        "### 11. Using your estimate of the diffusion constant in the solvent, how long does it take the same fraction CO$_2$  molecules to diffuse a similar distance in 1-dimension in the liquid phase?"
      ]
    },
    {
      "cell_type": "code",
      "metadata": {
        "id": "ZBFicMcGRfuF",
        "colab_type": "code",
        "outputId": "af2b2775-c33d-4c00-ef36-d3674e5108ea",
        "colab": {
          "base_uri": "https://localhost:8080/",
          "height": 34
        }
      },
      "source": [
        "t2 = sigma1**2/2/(D12*100**2)\n",
        "print('Using the diffusion constant from #6, t =',round(t2,0),'s.')"
      ],
      "execution_count": 0,
      "outputs": [
        {
          "output_type": "stream",
          "text": [
            "Using the diffusion constant from #6, t = 164629.0 s.\n"
          ],
          "name": "stdout"
        }
      ]
    },
    {
      "cell_type": "markdown",
      "metadata": {
        "id": "gBUunRuYGDgX",
        "colab_type": "text"
      },
      "source": [
        "### 12. Is it safe to assume that any CO$_2$ that travels from the surface into the bulk of the solvent is rapidly replaced from the gas phase?"
      ]
    },
    {
      "cell_type": "code",
      "metadata": {
        "id": "sqjK22Z6TgSt",
        "colab_type": "code",
        "outputId": "997ea6dc-396d-4ab9-c1f7-681952827174",
        "colab": {
          "base_uri": "https://localhost:8080/",
          "height": 52
        }
      },
      "source": [
        "print('Comparing problems 7 and 11, we see that diffusion is order-of-magnitude greater in gas phase than in liquid phase.')\n",
        "print('Therefore, gas molecule dissolved into solvent will be rapidly replaced by other gas molecules.')"
      ],
      "execution_count": 0,
      "outputs": [
        {
          "output_type": "stream",
          "text": [
            "Comparing problems 7 and 11, we see that diffusion is order-of-magnitude greater in gas phase than in liquid phase.\n",
            "Therefore, gas molecule dissolved into solvent will be rapidly replaced by other gas molecules.\n"
          ],
          "name": "stdout"
        }
      ]
    },
    {
      "cell_type": "markdown",
      "metadata": {
        "id": "B8h7mxC9GDgZ",
        "colab_type": "text"
      },
      "source": [
        "### 13. Suppose the volume of the gas-handling manifold is 100 cm$^3$ and is pressurized with CO$_2$ in the morning to 1.1 atm.  What will the pressure in the manifold be four hours later, when lab starts, if the manifold has a pinhole of 1 μm$^2$?"
      ]
    },
    {
      "cell_type": "code",
      "metadata": {
        "id": "pn2q-5fzUsz5",
        "colab_type": "code",
        "outputId": "69e758ac-a061-431b-8cc1-0c43f909ba58",
        "colab": {
          "base_uri": "https://localhost:8080/",
          "height": 34
        }
      },
      "source": [
        "import numpy as np\n",
        "\n",
        "V = 100/(100**3) #m^3\n",
        "P0 = 1.1*101325 #Pa\n",
        "t = 4*3600 #s\n",
        "A = 1/(10**12) #m^2\n",
        "kB = 1.38064582*10**-23 #m^2 kg/s^2/K\n",
        "\n",
        "\n",
        "\n",
        "Tau = V/A*(2*np.pi*m/kB/T)**.5 #s\n",
        "P = P0*np.exp(-t/Tau)\n",
        "print ('Four hours later, P=',round(P,1),'Pa')\n"
      ],
      "execution_count": 0,
      "outputs": [
        {
          "output_type": "stream",
          "text": [
            "Four hours later, P= 109948.6 Pa\n"
          ],
          "name": "stdout"
        }
      ]
    },
    {
      "cell_type": "code",
      "metadata": {
        "id": "hJJ_yfupVenU",
        "colab_type": "code",
        "colab": {}
      },
      "source": [
        ""
      ],
      "execution_count": 0,
      "outputs": []
    }
  ]
}
