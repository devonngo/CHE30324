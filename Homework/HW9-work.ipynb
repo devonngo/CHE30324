{
 "cells": [
  {
   "cell_type": "markdown",
   "metadata": {},
   "source": [
    "# Chem 30324, Spring 2020, Homework 9\n",
    "\n",
    "# Devon Ngo\n"
   ]
  },
  {
   "cell_type": "markdown",
   "metadata": {},
   "source": [
    "## Due April 10, 2020\n"
   ]
  },
  {
   "cell_type": "code",
   "execution_count": 1,
   "metadata": {},
   "outputs": [],
   "source": [
    "import numpy as np\n",
    "import matplotlib.pyplot as plt"
   ]
  },
  {
   "cell_type": "markdown",
   "metadata": {},
   "source": [
    "## The two-state system.\n",
    "### Consider a closed system containing $N$ objects, each of which can be in one of two energy states, of energy either 0 or $\\varepsilon$. The total internal energy $U$ of the box is the sum of the energies of the individual objects."
   ]
  },
  {
   "cell_type": "markdown",
   "metadata": {},
   "source": [
    "![Boltzmann](imgs/Boltzmann.png)"
   ]
  },
  {
   "cell_type": "markdown",
   "metadata": {},
   "source": [
    "### 1. Write down all the possible microstates for a box in which $N = 4$ and the internal energy $U = 2\\varepsilon$."
   ]
  },
  {
   "cell_type": "markdown",
   "metadata": {},
   "source": [
    "Total number of microstates = $\\frac{4*3}{2} = 6$ \n",
    "\n",
    "- 1 1 0 0\n",
    "- 1 0 1 0\n",
    "- 1 0 0 1\n",
    "- 0 1 1 0\n",
    "- 0 1 0 1\n",
    "- 0 0 1 1"
   ]
  },
  {
   "cell_type": "markdown",
   "metadata": {},
   "source": [
    "### 2. What does the postulate of *equal a priori probabilities* say about the relative likelihood of occurance of any one of these microstates?"
   ]
  },
  {
   "cell_type": "markdown",
   "metadata": {},
   "source": [
    "The relative likelihood of occurance of any one of these microstates is equally likely to each other. This means it is equally likely to find any one of the microstates occuring."
   ]
  },
  {
   "cell_type": "markdown",
   "metadata": {},
   "source": [
    "### 3. What is the entropy of the box? (Thank you, Ludwig Boltzmann.)"
   ]
  },
  {
   "cell_type": "markdown",
   "metadata": {},
   "source": [
    "The entropy of the box is found by $S = k*ln(\\Omega)$, so in this case it is:"
   ]
  },
  {
   "cell_type": "code",
   "execution_count": 35,
   "metadata": {},
   "outputs": [
    {
     "name": "stdout",
     "output_type": "stream",
     "text": [
      "S = 2.474e-23 J/K.\n"
     ]
    }
   ],
   "source": [
    "kb = 1.38065E-23 # J/K\n",
    "omega = 6\n",
    "\n",
    "S = kb * np.log(omega)\n",
    "\n",
    "print(\"S = {:.3e} J/K.\".format(S))"
   ]
  },
  {
   "cell_type": "markdown",
   "metadata": {},
   "source": [
    "### 4. Suppose two identical such boxes are brought into thermal contact and allowed to come to equilibrium. Calculate the change in internal energy $\\Delta U$ and in entropy $\\Delta S$ associated with this process."
   ]
  },
  {
   "cell_type": "markdown",
   "metadata": {},
   "source": [
    "We know that for each box, we have $N = 4$ and $U = 2\\varepsilon$. Both U and N are additive, so for this new system, we have a total of $N = 8$ and $U = 4\\varepsilon$. Assuming $q=4$, we can find $\\Omega = (_{8}C_{4})$. Plugging $\\Omega$ into the equation for S, we can find the difference by subtracting the total from the initial two entropies. We can find $\\Delta U$ by finding the difference between the total and initial $U$.\n",
    "\n",
    "For $\\Delta U$, we find that:\n",
    "\n",
    "$\\Delta U = 4\\varepsilon - 2 * (2\\varepsilon) = 0$"
   ]
  },
  {
   "cell_type": "code",
   "execution_count": 32,
   "metadata": {},
   "outputs": [
    {
     "name": "stdout",
     "output_type": "stream",
     "text": [
      "The change in entropy is 9.181e-24 J/K.\n"
     ]
    }
   ],
   "source": [
    "N = 8\n",
    "q = 4\n",
    "\n",
    "omega = np.math.factorial(N) / ((np.math.factorial(q)*np.math.factorial(N-q)))\n",
    "\n",
    "Stot = kb * np.log(omega)\n",
    "\n",
    "deltaS = Stot - (2 * S)\n",
    "\n",
    "print(\"The change in entropy is {:.3e} J/K.\".format(deltaS))\n"
   ]
  },
  {
   "cell_type": "markdown",
   "metadata": {},
   "source": [
    "## The canonical ensemble.\n",
    "### The energy spectrum of some molecule is described by the diagram below.  A large number $N$ of these distinguishable molecules is in thermal equilibrium with a much larger reservoir of temperature $T$."
   ]
  },
  {
   "cell_type": "markdown",
   "metadata": {},
   "source": [
    "![Energy States](imgs/EnergyStates.png)"
   ]
  },
  {
   "cell_type": "markdown",
   "metadata": {},
   "source": [
    "### 5. Write the partition function $q$ for one of the molecules in the system (a) in terms of $T$ and $\\varepsilon$, (b) in terms of $\\beta = 1/k_B T$ and $\\varepsilon$, and (c) in terms of a characteristic temperature $\\theta = \\varepsilon/k_B$."
   ]
  },
  {
   "cell_type": "markdown",
   "metadata": {},
   "source": [
    "For one molecule, the general partition function is: $$ q(T) = \\sum\\limits_{i} exp(-\\frac{\\varepsilon _i}{k_BT})$$\n",
    "\n",
    "Putting it together, we have:\n",
    "\n",
    "(a) $q(T) = 1 + exp(-\\frac{\\varepsilon}{k_BT}) + exp(-\\frac{2\\varepsilon _i}{k_BT})$\n",
    "\n",
    "(b) $q(T) = 1 + exp(-\\varepsilon \\beta) + exp(-2\\varepsilon \\beta)$\n",
    "\n",
    "(c) $q(T) = 1 + exp(-\\frac{\\theta}{T} ) + exp(-\\frac{2\\theta}{T})$"
   ]
  },
  {
   "cell_type": "markdown",
   "metadata": {},
   "source": [
    "### 6. Plot the relative fractions of molecules of energy 0, $\\varepsilon$, and $2\\varepsilon$  vs. temperature.  Assume $\\theta = 300$ K. Be sure to indicate the probabilities in the limits of $T\\rightarrow 0$ and $T \\rightarrow \\infty$."
   ]
  },
  {
   "cell_type": "code",
   "execution_count": 4,
   "metadata": {},
   "outputs": [
    {
     "data": {
      "image/png": "[encoded data removed]",
      "text/plain": [
       "<Figure size 432x288 with 1 Axes>"
      ]
     },
     "metadata": {
      "needs_background": "light"
     },
     "output_type": "display_data"
    }
   ],
   "source": [
    "T = np.linspace(1, 10000, 1000)\n",
    "q1 = np.ones(len(T)) # at energy equals 0, q = 1\n",
    "q2 = np.zeros(len(T))\n",
    "q3 = np.zeros(len(T))\n",
    "\n",
    "theta = 300 # K\n",
    "\n",
    "\n",
    "\n",
    "def part1(T, theta):\n",
    "    return np.exp(-theta / T)\n",
    "\n",
    "def part2(T, theta):\n",
    "    return np.exp(-2 * theta / T)\n",
    "\n",
    "for i in range(len(T)):\n",
    "    q2[i] = part1(T[i], theta)\n",
    "    q3[i] = part2(T[i], theta)\n",
    "\n",
    "qtot = q1 + q2 + q3\n",
    "plt.plot(T, q1/qtot, label='Energy = 0')\n",
    "plt.plot(T, q2/qtot, label='Energy = E')\n",
    "plt.plot(T, q3/qtot, label='Energy = 2E')\n",
    "plt.xlabel('Temperature [K]')\n",
    "plt.ylabel('Probability')\n",
    "plt.legend()\n",
    "plt.grid()\n",
    "plt.show()"
   ]
  },
  {
   "cell_type": "markdown",
   "metadata": {},
   "source": [
    "From the graph, we see that as $T \\rightarrow 0$, the probability of molecules of energy 0 = 1 while the probability of molecules at energy = 0.\n",
    "\n",
    "As $T \\rightarrow \\infty$, the probability of molecules of all energies = 0.333."
   ]
  },
  {
   "cell_type": "markdown",
   "metadata": {},
   "source": [
    "### 7. Derive an expression for the internal energy $U$ per molecule by summing over the possible microstates weighted by their probabilities. Plot the average energy vs. temperature, assuming  $\\theta =300$ K."
   ]
  },
  {
   "cell_type": "markdown",
   "metadata": {},
   "source": [
    "The expression for internal energy is $U = N \\sum \\varepsilon_i P_i$. For this system, it is represented by:\n",
    "\n",
    "$$U = N (0 * \\frac{1}{q(T)} + \\varepsilon\\frac{exp(-\\varepsilon \\beta)}{q(T)} + 2\\varepsilon\\frac{exp(-2\\varepsilon \\beta)}{q(T)})$$\n",
    "\n",
    "which can be simplified to:\n",
    "\n",
    "$$U = N\\varepsilon (\\frac{exp(-\\varepsilon \\beta)}{q(T)} + \\varepsilon\\frac{exp(-2\\varepsilon \\beta)}{q(T)})$$\n",
    "\n",
    "dividing by N results in the final equation:\n",
    "\n",
    "$$\\frac{U}{N} = \\frac{\\varepsilon exp(-\\varepsilon \\beta) + 2\\varepsilon exp(-2\\varepsilon \\beta)}{q(T)}$$\n"
   ]
  },
  {
   "cell_type": "code",
   "execution_count": 36,
   "metadata": {},
   "outputs": [
    {
     "data": {
      "image/png": "[encoded data removed]",
      "text/plain": [
       "<Figure size 432x288 with 1 Axes>"
      ]
     },
     "metadata": {
      "needs_background": "light"
     },
     "output_type": "display_data"
    }
   ],
   "source": [
    "T1 = np.linspace(0.1, 1000, 1000)\n",
    "\n",
    "ep = theta * kb\n",
    "\n",
    "def beta(T):\n",
    "    return 1 / (kb * T)\n",
    "\n",
    "def Uq(b, ep):\n",
    "    top = (ep * np.exp(-ep*b)) + (2 * ep * np.exp(-2*ep*b))\n",
    "    bot = 1 + np.exp(-ep*b) + np.exp(-2*ep*b)\n",
    "    return (top/bot)\n",
    "\n",
    "Ud = np.zeros(len(T1))\n",
    "b = np.zeros(len(T1))\n",
    "\n",
    "for i in range(len(T1)):\n",
    "    b[i] = beta(T1[i])\n",
    "    Ud[i] = Uq(b[i], ep)\n",
    "    \n",
    "plt.plot(T1, Ud, label='derivative')\n",
    "plt.xlabel('Temperature [K]')\n",
    "plt.ylabel('Internal Energy, U [J/N]')\n",
    "plt.grid()\n",
    "plt.show()"
   ]
  },
  {
   "cell_type": "markdown",
   "metadata": {},
   "source": [
    "### 8. Derive an expression for the internal energy $U$ per molecule by taking the appropriate derivative of the partition function from problem 5 (*Hint:* it is easier to work with the expressions in term of $\\beta$ than in $T$.) Does your result agree with that from Question 7?"
   ]
  },
  {
   "cell_type": "markdown",
   "metadata": {},
   "source": [
    "$$U = -(\\frac{\\partial lnQ}{\\partial \\beta}) = -N(\\frac{\\partial lnq}{\\partial \\beta}) = -\\frac{N}{q} \\frac{\\partial q}{\\partial \\beta}$$\n",
    "\n",
    "We know that:\n",
    "\n",
    "$q(T) = 1 + exp(-\\varepsilon \\beta) + exp(-2\\varepsilon \\beta)$\n",
    "\n",
    "$\\frac{\\partial q}{\\partial \\beta} = -\\varepsilon exp(-\\varepsilon \\beta) - 2\\varepsilon exp(-2\\varepsilon \\beta)$\n",
    "\n",
    "Subbing the values in and dividing both sides by $N$, we get:\n",
    "\n",
    "$$\\frac{U}{N} =  \\frac{\\varepsilon exp(-\\varepsilon \\beta) + 2\\varepsilon exp(-2\\varepsilon \\beta)}{q(T)} $$\n",
    "\n",
    "This agrees with the result from Question 7."
   ]
  },
  {
   "cell_type": "markdown",
   "metadata": {},
   "source": [
    "### 9. Derive an expression for the Helmholtz energy $A$ per molecule from the partition function. Plot $A$ vs. temperature, assuming $\\theta\n",
    "= 300$ K."
   ]
  },
  {
   "cell_type": "markdown",
   "metadata": {},
   "source": [
    "We know that $A = U - TS$, which is equal to $A = -Nk_BTln(q)$ and finding the energy per molecule, we divide by $N$ to get $\\frac{A}{N} = -k_BTln(q)$."
   ]
  },
  {
   "cell_type": "code",
   "execution_count": 28,
   "metadata": {},
   "outputs": [
    {
     "data": {
      "image/png": "[encoded data removed]",
      "text/plain": [
       "<Figure size 432x288 with 1 Axes>"
      ]
     },
     "metadata": {
      "needs_background": "light"
     },
     "output_type": "display_data"
    }
   ],
   "source": [
    "A = -kb * T1 * np.log(qtot)\n",
    "    \n",
    "plt.plot(T1, A)\n",
    "plt.xlabel('Temperature')\n",
    "plt.ylabel('Helmholz Energy per Molecule')\n",
    "plt.grid()\n",
    "plt.show()\n"
   ]
  },
  {
   "cell_type": "markdown",
   "metadata": {},
   "source": [
    "### 10. Derive an expression for the entropy $S$ per molecules and plot vs. temperature, again assuming $\\theta = 300$ K."
   ]
  },
  {
   "cell_type": "markdown",
   "metadata": {},
   "source": [
    "$\\frac{S}{k_B} = \\beta U + N ln(q)$\n",
    "\n",
    "$\\frac{S}{N} = \\frac{U-A}{TN}= k_B(\\beta \\frac{U}{N} + ln(q)) = \\frac{ \\varepsilon e^{-\\beta \\varepsilon}+2 \\varepsilon e^{-2 \\beta \\varepsilon}}{T(1 + e^{-\\beta \\varepsilon} + e^{-2 \\beta \\varepsilon})}+ k_B T ln(1 + e^{-\\beta \\varepsilon} + e^{-2 \\beta \\varepsilon})$"
   ]
  },
  {
   "cell_type": "code",
   "execution_count": 37,
   "metadata": {},
   "outputs": [
    {
     "data": {
      "image/png": "[encoded data removed]",
      "text/plain": [
       "<Figure size 432x288 with 1 Axes>"
      ]
     },
     "metadata": {
      "needs_background": "light"
     },
     "output_type": "display_data"
    }
   ],
   "source": [
    "S = (Ud-A)/T1\n",
    "\n",
    "plt.plot(T1, S)\n",
    "plt.ylabel('Entropy [J/NK]')\n",
    "plt.xlabel('Temperature [K]')\n",
    "plt.grid()\n",
    "plt.show()"
   ]
  },
  {
   "cell_type": "markdown",
   "metadata": {},
   "source": [
    "### 11. In class we took the First Law as a postulate and demonstrated the Second Law. Look at your results for Problems 6 and 10. Can you use them to rationalize the Third Law? Explain your answer."
   ]
  },
  {
   "cell_type": "markdown",
   "metadata": {},
   "source": [
    "We can use them to rationalize the Third Law. The Third Law states that entropy at absolute zero equals zero. With problem 6, we see that the probability of the energy state to be 0 is 1. Plugging in an internal energy value of 0 at T = 0 for problem 10 shows that the entropy is also 0, and as temperature approaches 0, the entropy does likewise."
   ]
  }
 ],
 "metadata": {
  "anaconda-cloud": {},
  "kernelspec": {
   "display_name": "Python 3",
   "language": "python",
   "name": "python3"
  },
  "language_info": {
   "codemirror_mode": {
    "name": "ipython",
    "version": 3
   },
   "file_extension": ".py",
   "mimetype": "text/x-python",
   "name": "python",
   "nbconvert_exporter": "python",
   "pygments_lexer": "ipython3",
   "version": "3.7.4"
  }
 },
 "nbformat": 4,
 "nbformat_minor": 1
}
