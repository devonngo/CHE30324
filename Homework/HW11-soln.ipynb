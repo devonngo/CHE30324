{
 "cells": [
  {
   "cell_type": "markdown",
   "metadata": {
    "colab_type": "text",
    "id": "JIWbVn9wBaXB"
   },
   "source": [
    "# Chem 30324, Spring 2020, Homework 11\n"
   ]
  },
  {
   "cell_type": "markdown",
   "metadata": {
    "colab_type": "text",
    "id": "9YDPbG1UBaXH"
   },
   "source": [
    "# Due May 1, 2020"
   ]
  },
  {
   "cell_type": "markdown",
   "metadata": {
    "colab_type": "text",
    "id": "wLhgU-mABaXJ"
   },
   "source": [
    "## What to do with all that ethane?\n",
    "### Shale gas is often rich in ethane (C$_2$H$_6$), and what to do with that ethane is a pressing question. In the Thermodynamics lectures we looked at endothermic ethane dehydrogenation and the high temperatures necessary to push that equilibrium forward.  Partial oxidation of ethane to ethylene oxide (oxirane) is another option:"
   ]
  },
  {
   "cell_type": "markdown",
   "metadata": {
    "colab_type": "text",
    "id": "fH8CPtxFBaXK"
   },
   "source": [
    "$$\\text{C}_2\\text{H}_6 \\text{(g)} + \\frac{1}{2} \\text{O}_2 \\text{(g)}\\rightarrow \\text{C}_2\\text{H}_4\\text{O}\\text{(g)} + \\text{H}_2\\text{O}\\text{(g)}$$"
   ]
  },
  {
   "cell_type": "markdown",
   "metadata": {
    "colab_type": "text",
    "id": "MkXeYkZWBaXM"
   },
   "source": [
    "### At 500 K over an appropriate catalyst, the reaction is half-order in ethane, first-order in O$_2$, zero order in products, and has a rate constant of 0.8 bar$^{-1/2}$ s$^{-1}$. You plan to study the reaction in an isothermal, contant pressure batch reactor, starting with a 20 mole % excess of ethane ($n_\\text{C2H6}/n_\\text{O2} =1.2$) at 2 bar total pressure."
   ]
  },
  {
   "cell_type": "markdown",
   "metadata": {
    "colab_type": "text",
    "id": "SnOmtxoSBaXN"
   },
   "source": [
    "### 1. Draw the structure of ethylene oxide. "
   ]
  },
  {
   "cell_type": "markdown",
   "metadata": {
    "colab_type": "text",
    "id": "QcYPjRW1XJ5_"
   },
   "source": [
    "![](https://upload.wikimedia.org/wikipedia/commons/3/3f/Ethylene_oxide.png)"
   ]
  },
  {
   "cell_type": "markdown",
   "metadata": {
    "colab_type": "text",
    "id": "XD5F8KVhBaXO"
   },
   "source": [
    "### 2. Is the reaction as written an elementary step? Why or why not?"
   ]
  },
  {
   "cell_type": "markdown",
   "metadata": {
    "colab_type": "text",
    "id": "pmNDHUlLvO68"
   },
   "source": [
    "No, elementary step are not supposed to have half molecule. Also the rate law is not consistent with stoichiometry."
   ]
  },
  {
   "cell_type": "markdown",
   "metadata": {
    "colab_type": "text",
    "id": "9i4Z9bGvBaXS"
   },
   "source": [
    "### 3. Write down the rate law for the formation of ethylene oxide."
   ]
  },
  {
   "cell_type": "markdown",
   "metadata": {
    "colab_type": "text",
    "id": "HavXnYhCvdY1"
   },
   "source": [
    "$ r = k P_{ethane}^\\frac{1}{2} P_{oxygen}$"
   ]
  },
  {
   "cell_type": "markdown",
   "metadata": {
    "colab_type": "text",
    "id": "CTkIL6V-BaXU"
   },
   "source": [
    "### 4. Create an ICE table for this reaction.  My advice is to create the table in terms of *moles* of species and an  advancement $\\xi$.  What is the maximum possible value of $\\xi$?"
   ]
  },
  {
   "cell_type": "markdown",
   "metadata": {},
   "source": [
    "Choose basis of 1 mole O2 and 1.2 mole C2H6"
   ]
  },
  {
   "cell_type": "markdown",
   "metadata": {
    "colab_type": "text",
    "id": "I9Mo4-kewDh-"
   },
   "source": [
    "|                     | $C_2H_6$             | $O_2$ | $C_2H_4O$ | $H_2O$ | \n",
    "|:--------------------|---------------------:|-------------------------:|----------:|---:| \n",
    "| I     |      1.2   | 1  | 0 | 0 |  \n",
    "| C    |    $-\\xi$     |    $-\\xi$           | $+\\xi$ |$+\\xi$  |  \n",
    "| E     |    1.2$-\\xi$     |    1$-\\xi$            | $\\xi$ | $\\xi$ |  $\\xi_{max} = 1 \\rightarrow$ complete conversion of $O_2$"
   ]
  },
  {
   "cell_type": "markdown",
   "metadata": {},
   "source": [
    "Maximum value of $\\xi$ is 1."
   ]
  },
  {
   "cell_type": "markdown",
   "metadata": {
    "colab_type": "text",
    "id": "6m9xW6HkBaXV"
   },
   "source": [
    "### 5. Define a conversion *X* as $\\xi/\\xi_\\text{max}$, so $0 \\le X \\le 1$ Plot the partial pressures of all species vs $X$.  *Hint*: Recall the partial pressure is $P y_i$, and $y_i = N_i/N_\\text{tot}$  from the ICE table."
   ]
  },
  {
   "cell_type": "code",
   "execution_count": 3,
   "metadata": {
    "colab": {
     "base_uri": "https://localhost:8080/",
     "height": 295
    },
    "colab_type": "code",
    "id": "7JkYvW95xu9x",
    "outputId": "fa618393-9aae-4fdc-f4b3-d4809b3dad86"
   },
   "outputs": [
    {
     "data": {
      "image/png": "[encoded data removed]",
      "text/plain": [
       "<Figure size 432x288 with 1 Axes>"
      ]
     },
     "metadata": {
      "needs_background": "light"
     },
     "output_type": "display_data"
    }
   ],
   "source": [
    "import numpy as np\n",
    "import matplotlib.pyplot as plt\n",
    "\n",
    "P = 2 # bar\n",
    "\n",
    "xi = np.linspace(0,1,1000)\n",
    "ximax = 1.0\n",
    "\n",
    "X = xi/ximax\n",
    "\n",
    "n_e0 = 1.2\n",
    "n_o0 = 1\n",
    "n_eo0 = 0\n",
    "n_w0 = 0\n",
    "\n",
    "n_e = n_e0 - X\n",
    "n_o = n_o0 - X\n",
    "n_eo = n_eo0 + X\n",
    "n_w = n_w0 + X\n",
    "\n",
    "Ntot = n_e + n_o + n_eo + n_w\n",
    "\n",
    "y_e = n_e /Ntot\n",
    "y_o = n_o /Ntot\n",
    "y_eo = n_eo /Ntot\n",
    "y_w = n_w / Ntot\n",
    "\n",
    "P_e = P*y_e\n",
    "P_o = P*y_o\n",
    "P_eo = P*y_eo\n",
    "P_w = P*y_w\n",
    "\n",
    "plt.plot(X,P_e,label='P_e')\n",
    "plt.plot(X,P_o,label='P_o')\n",
    "plt.plot(X,P_eo,label='P_eo')\n",
    "plt.plot(X,P_w,label='P_w')\n",
    "plt.xlabel('X')\n",
    "plt.ylabel('P(bar)')\n",
    "plt.title('Partial pressures vs conversion')\n",
    "plt.legend()\n",
    "plt.show()\n",
    "\n",
    "\n"
   ]
  },
  {
   "cell_type": "markdown",
   "metadata": {
    "colab_type": "text",
    "id": "lGjcpKdYBaXW"
   },
   "source": [
    "### 6. Plot the reaction rate vs $X$. Be sure to include appropriate units."
   ]
  },
  {
   "cell_type": "code",
   "execution_count": 19,
   "metadata": {
    "colab": {
     "base_uri": "https://localhost:8080/",
     "height": 279
    },
    "colab_type": "code",
    "id": "JijQfkE-0TyS",
    "outputId": "af0a1c27-78fc-4451-9273-f4be1e9a9501"
   },
   "outputs": [
    {
     "data": {
      "image/png": "[encoded data removed]",
      "text/plain": [
       "<Figure size 432x288 with 1 Axes>"
      ]
     },
     "metadata": {
      "needs_background": "light",
      "tags": []
     },
     "output_type": "display_data"
    }
   ],
   "source": [
    "k = 0.8\n",
    "r = k*P_e**(1/2)*P_o\n",
    "plt.plot(X,r)\n",
    "plt.xlabel('X')\n",
    "plt.ylabel('r (bar/s)')\n",
    "plt.show()"
   ]
  },
  {
   "cell_type": "markdown",
   "metadata": {
    "colab_type": "text",
    "id": "7ighXo-MBaXW"
   },
   "source": [
    "### 7. The apparent activation energy of the reaction is 60 kJ mol$^{-1}$.  What is the reaction prefactor? Include appropriate units."
   ]
  },
  {
   "cell_type": "code",
   "execution_count": 29,
   "metadata": {
    "colab": {
     "base_uri": "https://localhost:8080/",
     "height": 35
    },
    "colab_type": "code",
    "id": "cqod9OhtQtjm",
    "outputId": "382b8f32-b870-4ec9-f22c-c66c500f7e97"
   },
   "outputs": [
    {
     "name": "stdout",
     "output_type": "stream",
     "text": [
      "Prefactor A is 1484134.21 bar^(-0.5)*s^(-1)\n"
     ]
    }
   ],
   "source": [
    "import numpy as np\n",
    "R = 8.314e-3 #kj/mol*K\n",
    "Ea = 60 #kj/mol\n",
    "T = 500 #K \n",
    "k1 = 0.8 #bar^-0.5 * s^-1\n",
    "A = k1/(np.exp(-Ea/R/T)) #bar^-0.5 * s^-1\n",
    "print('Prefactor A is %.2f bar^(-0.5)*s^(-1)'%A)"
   ]
  },
  {
   "cell_type": "markdown",
   "metadata": {
    "colab_type": "text",
    "id": "j76JFWfbBaXX"
   },
   "source": [
    "### 8. The apparent activation energy of the reaction is 60 kJ mol$^{-1}$.  Estimate the rate constant at 550 K."
   ]
  },
  {
   "cell_type": "code",
   "execution_count": 30,
   "metadata": {
    "colab": {
     "base_uri": "https://localhost:8080/",
     "height": 35
    },
    "colab_type": "code",
    "id": "gHTASKzSRbX7",
    "outputId": "aa4fb365-1bce-4571-9f47-897e7f71603a"
   },
   "outputs": [
    {
     "name": "stdout",
     "output_type": "stream",
     "text": [
      "rate constant at 550K is 2.97 bar^(-0.5)*s^(-1)\n"
     ]
    }
   ],
   "source": [
    "k_550 = A*np.exp(-Ea/R/550)\n",
    "print('rate constant at 550K is %.2f bar^(-0.5)*s^(-1)'%k_550)"
   ]
  },
  {
   "cell_type": "markdown",
   "metadata": {
    "colab_type": "text",
    "id": "piG4uShQBaXZ"
   },
   "source": [
    "### 9. From the information given, can you predict the rate law for the reverse reaction?"
   ]
  },
  {
   "cell_type": "markdown",
   "metadata": {
    "colab_type": "text",
    "id": "2iItqhmLYgQZ"
   },
   "source": [
    "No we can't predict the rate law. This is not an elementary step process so that we can't know the reaction order from the equation stoichiometry."
   ]
  },
  {
   "cell_type": "markdown",
   "metadata": {
    "colab_type": "text",
    "id": "I4t2LBsABaXa"
   },
   "source": [
    "## Rate constants from scratch\n",
    "### In 1996, Schneider and co-workers used quantum chemistry to compute the reaction pathway for unimolecular decomposition of trifluoromethanol, a reaction of relevance to the atmospheric degradation of hydrofluorocarbon refrigerants (*J. Phys. Chem.* **1996**, *100*, 6097- 6103, [doi:10.1021/jp952703m](https://pubs.acs.org/doi/abs/10.1021/jp952703m)): \n",
    "\n",
    "$$\\text{CF}_3\\text{OH}\\rightarrow \\text{COF}_2 + \\text{HF}$$\n",
    "### Following are some of the reported results, computed at 298 K:"
   ]
  },
  {
   "cell_type": "markdown",
   "metadata": {
    "colab_type": "text",
    "id": "DSIl0MZpBaXb"
   },
   "source": [
    "|                     | CF$_3$OH             | \\[CF$_3$OH\\]$^\\ddagger$ | C(O)F$_2$ | HF |    |\n",
    "|:--------------------|---------------------:|-------------------------|----------:|---:|----:| \n",
    "| $E^\\text{elec}$     | -412.90047           | -412.82771              | -312.57028 | -100.31885 | (Hartree) |\n",
    "| ZPE                 | 0.02889              | 0.02313                 | 0.01422 | 0.00925 | (Hartree) |\n",
    "| $U^\\text{trans}$    | 3.7                  | 3.7   | 3.7| 3.7 | (kJ mol$^{-1}$) |\n",
    "| $U^\\text{rot }$     | 3.7                  | 3.7   | 3.7| 2.5 | (kJ mol$^{-1}$) |\n",
    "| $U^\\text{vib}$      | 4.3                  | 4.1   |1.2 | 0 |  (kJ mol$^{-1}$) |\n",
    "| $q^{\\text{trans}}/V$| $7.72\\times 10^{32}$ | $7.72\\times 10^{32}$   |$1.59\\times 10^{32}$ |$8.65\\times 10^{31}$ | (m$^{-3}$) |\n",
    "| $q^\\text{rot}$      | 61830                |  68420  | 679 | 9.59 | |\n",
    "| $q^\\text{vib}$      | 2.33                 |  2.28  | 1.16 | 1 | |"
   ]
  },
  {
   "cell_type": "markdown",
   "metadata": {
    "colab_type": "text",
    "id": "96VKVh4VBaXc"
   },
   "source": [
    "### 10. Provide a rough sketch of what you expect the transition state to look like."
   ]
  },
  {
   "cell_type": "markdown",
   "metadata": {
    "colab_type": "text",
    "id": "z8VVOva-Zvtj"
   },
   "source": [
    "![HW11-1](https://github.com/wfschneidergroup/CHEM30324-HW/blob/master/imgs/HW11-1.jpg?raw=1)"
   ]
  },
  {
   "cell_type": "markdown",
   "metadata": {
    "colab_type": "text",
    "id": "noJujw3OBaXd"
   },
   "source": [
    "### 11. Based on the data in the table, sketch out an approximate potential energy surface for the unimolecular decomposition reaction. Indicate on the PES the location of the reactants, the products, and the transition state. Also indicate relevant zero point energies, the 0 K reaction energy, and the activation energy."
   ]
  },
  {
   "cell_type": "markdown",
   "metadata": {
    "colab_type": "text",
    "id": "umFexCaTZxIR"
   },
   "source": [
    "![](https://github.com/wfschneidergroup/CHEM30324-HW/blob/master/imgs/HW11-2.jpg?raw=1)"
   ]
  },
  {
   "cell_type": "markdown",
   "metadata": {
    "colab_type": "text",
    "collapsed": true,
    "id": "L9EdUd4IBaXd"
   },
   "source": [
    "### 12. Using data from the table and harmonic transition state theory, compute the  first-order rate constant for CF$_3$OH decomposition at 298 K, in s$^{-1}$."
   ]
  },
  {
   "cell_type": "code",
   "execution_count": 31,
   "metadata": {
    "colab": {
     "base_uri": "https://localhost:8080/",
     "height": 35
    },
    "colab_type": "code",
    "id": "R-wTlx3DKyw0",
    "outputId": "784bdea5-67a8-4c74-c592-67486ec46279"
   },
   "outputs": [
    {
     "name": "stdout",
     "output_type": "stream",
     "text": [
      "First-order rate constant for CF3OH decompostion at 298 K is 9.852726E-19 s^-1.\n"
     ]
    }
   ],
   "source": [
    "import numpy as np\n",
    "\n",
    "kB=8.61734e-5 # eV/K\n",
    "T1=298 # K\n",
    "h=4.136e-15 # eV*s\n",
    "q_TS= 7.72e32*68420*2.28 # 1/m^3, q(trans)*q(rot)*q(vib)\n",
    "q_A=7.72e32*61830*2.33 # 1/m^3, q(trans)*q(rot)*q(vib)\n",
    "delta_E= ((-412.82771+0.02313)-(-412.90047+0.02889))*27.212 # eV\n",
    "k=kB*T1/h*q_TS/q_A*np.exp(-delta_E/kB/T1)\n",
    "print(\"First-order rate constant for CF3OH decompostion at 298 K is %E s^-1.\"%k)"
   ]
  },
  {
   "cell_type": "markdown",
   "metadata": {
    "colab_type": "text",
    "id": "yJsq0fCbBaXf"
   },
   "source": [
    "### 13. In Homework 10, you computed the equilibrium constant for this reaction at 298 K.  Use that result and your rate constant for the decomposition to determine the rate constant for the reverse, CF$_3$OH formation reaction."
   ]
  },
  {
   "cell_type": "code",
   "execution_count": 32,
   "metadata": {
    "colab": {
     "base_uri": "https://localhost:8080/",
     "height": 35
    },
    "colab_type": "code",
    "id": "ZwLS9jleM_Yz",
    "outputId": "9a707d03-82d9-414a-b449-634161e88bdc"
   },
   "outputs": [
    {
     "name": "stdout",
     "output_type": "stream",
     "text": [
      "rate constant for reverse reaction is 3.367302E-19 s^-1\n"
     ]
    }
   ],
   "source": [
    "Kc = 2.926\n",
    "kr = k/Kc\n",
    "print('rate constant for reverse reaction is %E s^-1'%kr)"
   ]
  },
  {
   "cell_type": "markdown",
   "metadata": {
    "colab_type": "text",
    "id": "F_v0RispBaXf"
   },
   "source": [
    "### 14. Use the data in the table to compute the overall reaction enthalpy, and the forward and reverse reaction enthalpies."
   ]
  },
  {
   "cell_type": "code",
   "execution_count": 33,
   "metadata": {
    "colab": {
     "base_uri": "https://localhost:8080/",
     "height": 35
    },
    "colab_type": "code",
    "id": "XXZwOXsmOTP9",
    "outputId": "f7ffb5bf-5c00-4d26-e952-90b5d7dd5961"
   },
   "outputs": [
    {
     "name": "stdout",
     "output_type": "stream",
     "text": [
      "The overall enthalpy is 21.12 kJ/mol, forward half reaction enthalpy is 175.71 kJ/mol and reverse half reaction enthalpy is 143.99 kJ/mol.\n"
     ]
    }
   ],
   "source": [
    "dH = 21.121 #kJ/mol\n",
    "\n",
    "T = 298 # K\n",
    "R = 8.31447 # J/(mol*K)\n",
    "autokJ = 2625.50\n",
    "\n",
    "#forward\n",
    "Eelec = [-412.90047 ,-412.82771] # kJ/mol\n",
    "ZPE = [0.02889 ,0.02313] # kJ/mol\n",
    "dE0 = ((Eelec[1] + ZPE[1]) - (Eelec[0] + ZPE[0]))* autokJ # kJ/mol\n",
    "u_trans = [3.7,3.7] #kJ/mol\n",
    "u_rot = [3.7,3.7] #kJ/mol\n",
    "u_vib = [4.3,4.1] #kJ/mol\n",
    "dU = dE0 + (u_trans[1]+u_rot[1]+u_vib[1])-(u_trans[0]+u_rot[0]+u_vib[0])#kJ/mol\n",
    "dH_f = dU\n",
    "\n",
    "#reverse\n",
    "Eelec_r = [-412.82771 ,-312.57028 ,-100.31885 ] # kJ/mol\n",
    "ZPE_r = [0.02313 ,0.01422 ,0.00925 ] # kJ/mol\n",
    "dE0_r = -((Eelec_r[1] + ZPE_r[1] + Eelec_r[2] + ZPE_r[2]) - (Eelec_r[0] + ZPE_r[0]))* autokJ # kJ/mol\n",
    "u_trans_r = [3.7,3.7,3.7] #kJ/mol\n",
    "u_rot_r = [3.7,3.7,2.5] #kJ/mol\n",
    "u_vib_r = [4.1,1.2,0] #kJ/mol\n",
    "dU_r = dE0_r - (u_trans_r[1]+u_rot_r[1]+u_vib_r[1])+(u_trans_r[2]+u_rot_r[2]+u_vib_r[2])-(u_trans_r[0]+u_rot_r[0]+u_vib_r[0])#kJ/mol\n",
    "dH_r = dU_r - R/1000*T\n",
    "\n",
    "print('The overall enthalpy is %.2f kJ/mol, forward half reaction enthalpy is %.2f kJ/mol and reverse half reaction enthalpy is %.2f kJ/mol.'%(dH,dH_f,dH_r)) \n"
   ]
  },
  {
   "cell_type": "markdown",
   "metadata": {
    "colab_type": "text",
    "id": "A2vLL287BaXj"
   },
   "source": [
    "### 15. Based on your computed rate constant, what is the half-life of CF$_3$OH at 298 K?"
   ]
  },
  {
   "cell_type": "code",
   "execution_count": 3,
   "metadata": {
    "colab": {
     "base_uri": "https://localhost:8080/",
     "height": 36
    },
    "colab_type": "code",
    "id": "CuSrb-A5NnsU",
    "outputId": "6e75cb99-b7b1-4c7f-a9ba-0df1baa18dee"
   },
   "outputs": [
    {
     "name": "stdout",
     "output_type": "stream",
     "text": [
      "The half-life is 7.035080E+17 s, which is about 2.230809E+10 years.\n"
     ]
    }
   ],
   "source": [
    "t=np.log(2)/k2 # s\n",
    "print('The half-life is %E s, which is about %E years.'%(t,t/3600/24/365))"
   ]
  },
  {
   "cell_type": "markdown",
   "metadata": {
    "colab_type": "text",
    "id": "Q8go3dL9BaXk"
   },
   "source": [
    "### 16. Experiments reveal that the CF$_3$OH comes to equilibrium far faster than the unimolecular rate would suggest. Provide a possible explanation for this observation (other than that Schneider calculations are incorrect!)."
   ]
  },
  {
   "cell_type": "markdown",
   "metadata": {
    "colab_type": "text",
    "id": "ui9jCwa3Z3Kh"
   },
   "source": [
    "Must decompose by some other route!  Biomolecular processes, for instance. One proposed mechanism is the existence of H$_2$O lowers the activation energy of the decomposition of CF$_3$OH. The proposed reaction pathway is shown in J. Phys. Chem. 1996, 100, 6097- 6103.![](https://github.com/wfschneidergroup/CHEM30324-HW/blob/master/imgs/HW11-3.gif?raw=1)"
   ]
  },
  {
   "cell_type": "code",
   "execution_count": null,
   "metadata": {},
   "outputs": [],
   "source": []
  }
 ],
 "metadata": {
  "anaconda-cloud": {},
  "colab": {
   "name": "“HW11.ipynb”的副本",
   "provenance": []
  },
  "kernelspec": {
   "display_name": "Python 3",
   "language": "python",
   "name": "python3"
  },
  "language_info": {
   "codemirror_mode": {
    "name": "ipython",
    "version": 3
   },
   "file_extension": ".py",
   "mimetype": "text/x-python",
   "name": "python",
   "nbconvert_exporter": "python",
   "pygments_lexer": "ipython3",
   "version": "3.7.4"
  }
 },
 "nbformat": 4,
 "nbformat_minor": 1
}
