{
  "nbformat": 4,
  "nbformat_minor": 0,
  "metadata": {
    "anaconda-cloud": {},
    "kernelspec": {
      "display_name": "Python 3",
      "language": "python",
      "name": "python3"
    },
    "language_info": {
      "codemirror_mode": {
        "name": "ipython",
        "version": 3
      },
      "file_extension": ".py",
      "mimetype": "text/x-python",
      "name": "python",
      "nbconvert_exporter": "python",
      "pygments_lexer": "ipython3",
      "version": "3.7.4"
    },
    "colab": {
      "name": "P.Chem HW4.ipynb",
      "provenance": [],
      "collapsed_sections": []
    }
  },
  "cells": [
    {
      "cell_type": "markdown",
      "metadata": {
        "id": "z2a4FtSU8fG8",
        "colab_type": "text"
      },
      "source": [
        "# Chem 30324, Spring 2020, Homework 4\n",
        "\n",
        "# Due February 18, 2020"
      ]
    },
    {
      "cell_type": "markdown",
      "metadata": {
        "id": "aI3Gx2Nv8fG_",
        "colab_type": "text"
      },
      "source": [
        "### Schr&ouml;dinger developed a wave equation to describe the motion (mechanics) of quantum-scale particles moving in potentials. An electron (mass $m_e$) is moving in a one-dimensional potential given by"
      ]
    },
    {
      "cell_type": "markdown",
      "metadata": {
        "id": "iX59U0OX8fHB",
        "colab_type": "text"
      },
      "source": [
        "$$V(x) = \\frac{1}{2} k x^ 2, \\quad -\\infty < x < \\infty$$"
      ]
    },
    {
      "cell_type": "markdown",
      "metadata": {
        "id": "DdCHQ7yY8fHE",
        "colab_type": "text"
      },
      "source": [
        "### where $k$ is a real number. "
      ]
    },
    {
      "cell_type": "markdown",
      "metadata": {
        "id": "k_G7kKbG8fHG",
        "colab_type": "text"
      },
      "source": [
        "### 1. Write down the time-independent Schrödinger equation for this system. Remember to include the domain of the equation. Indicate the parts of the equation corresponding to the kinetic, potential, and total energies of the system. (*Hint*: Leave your expression in terms of $m_e$ and $k$.)"
      ]
    },
    {
      "cell_type": "markdown",
      "metadata": {
        "id": "d8N9n05tGjPk",
        "colab_type": "text"
      },
      "source": [
        "\\begin{equation}\n",
        " - \\frac{\\hbar^{2}}{2m_e} \\frac{d^2\\psi}{dx^2}\\,+ \\frac{1}{2}kx^2 \\psi= E \\psi\\quad -\\infty < x < \\infty\n",
        "\\end{equation}\n",
        "\n",
        "Kinetic: $$ - \\frac{\\hbar^{2}}{2m_e} \\frac{d^2\\psi}{dx^2}\\$$\n",
        "\n",
        "Potential: $$ \\frac{1}{2}kx^2 \\psi  $$\n",
        "Total Energy:  $$ E \\psi\\ $$\n"
      ]
    },
    {
      "cell_type": "markdown",
      "metadata": {
        "id": "cMpV0J6V8fHH",
        "colab_type": "text"
      },
      "source": [
        "### 2. Only one of the three following candidates could be an acceptable wavefunction for this system.  Which one, and why? (In each case, $b=\\left ( \\hbar^2/m_ek\\right )^{1/4}$ is a unit of length, and $a$ is an arbitrary normalization constant."
      ]
    },
    {
      "cell_type": "markdown",
      "metadata": {
        "id": "Nl2hz8jz8fHJ",
        "colab_type": "text"
      },
      "source": [
        "$$\\psi(x) = a \\sin(bx) \\quad\\quad \\quad \\psi(x)=a \\exp\\left(-\\frac{x^2}{2b^2}\\right) \\quad\\quad \\quad \\psi(x)= \\begin{cases}1-|x|/b, |x|\\le b \\\\ 0, |x|>b \\end{cases}$$"
      ]
    },
    {
      "cell_type": "markdown",
      "metadata": {
        "id": "_Kler6sxJNFU",
        "colab_type": "text"
      },
      "source": [
        "The second one is the acceptable wavefunction for this system. The first one is not square integrable. The third one is not differentiable."
      ]
    },
    {
      "cell_type": "markdown",
      "metadata": {
        "id": "EKnTRENe8fHL",
        "colab_type": "text"
      },
      "source": [
        "### 3. Normalize the \"good\" wavefunction. You can leave your answer in terms of $b$.  "
      ]
    },
    {
      "cell_type": "code",
      "metadata": {
        "id": "CJdb6z6YQYjc",
        "colab_type": "code",
        "outputId": "6437c84f-686f-44b9-a939-f5eb9cb4d49e",
        "colab": {
          "base_uri": "https://localhost:8080/",
          "height": 175
        }
      },
      "source": [
        "import sympy as sy\n",
        "from sympy import *\n",
        "x=Symbol('x')\n",
        "a=Symbol('a',positive=True)\n",
        "b=Symbol('b',positive=True)\n",
        "Wavefunction=a*exp(-x**2/2/b**2)\n",
        "A=integrate(Wavefunction**2,(x,-oo,+oo))        # calculate the integral of (wavefunc) * (wavefunc*) from -oo to +oo\n",
        "Wavefunction_normalized=Wavefunction/sqrt(A)\n",
        "pprint(Wavefunction_normalized)\n"
      ],
      "execution_count": 0,
      "outputs": [
        {
          "output_type": "stream",
          "text": [
            "    2   \n",
            "  -x    \n",
            "  ────  \n",
            "     2  \n",
            "  2⋅b   \n",
            " ℯ      \n",
            "────────\n",
            "4 ___   \n",
            "╲╱ π ⋅√b\n"
          ],
          "name": "stdout"
        }
      ]
    },
    {
      "cell_type": "markdown",
      "metadata": {
        "id": "kmJeoUB8AEIE",
        "colab_type": "text"
      },
      "source": [
        "The normalized wavefunction is:\n",
        "\n",
        "$$ \\frac{e^ \\frac{-x^2}{2b^2}} {\\pi ^ \\frac{1} {4} b ^ \\frac{1}{2}}$$"
      ]
    },
    {
      "cell_type": "markdown",
      "metadata": {
        "id": "3FNew21m8fHM",
        "colab_type": "text"
      },
      "source": [
        "### 4. Plot $V(x)$ and your normalized $\\tilde{\\psi}^2(x)$ along the same $x$ axis. (*Hint*: Plot your answers in units of $b$ length and units of $k$ force constant.)"
      ]
    },
    {
      "cell_type": "code",
      "metadata": {
        "id": "6Tu8_AEqTdWa",
        "colab_type": "code",
        "colab": {}
      },
      "source": [
        "import numpy as np\n",
        "import matplotlib.pyplot as plt"
      ],
      "execution_count": 0,
      "outputs": []
    },
    {
      "cell_type": "code",
      "metadata": {
        "id": "oF0_mwLDTMD8",
        "colab_type": "code",
        "outputId": "365c42fc-aff2-4c83-e8c6-5507ccafbb88",
        "colab": {
          "base_uri": "https://localhost:8080/",
          "height": 330
        }
      },
      "source": [
        "x_d = np.linspace(-2.5,2.5,100) # x_d=x/b which is the dimensionless length \n",
        "V=1/2*x_d**2 # in unit of kb^2\n",
        "# V = 1/2*k*x^2 = 1/2*x_d^2 *k*b^2. \n",
        "# Since k and b are constant, we can consider kb^2 to be the unit of energy.\n",
        "\n",
        "Wavefunction2_normalized=Wavefunction**2/A\n",
        "print(Wavefunction2_normalized)\n",
        "Wavefunction2_normalized=np.exp(-x_d**2)/(sqrt(pi)) # in unit of 1/b\n",
        "#normalized_wavefunction^2 = exp(-x^2/b^2)/sqrt(pi)/b = exp(-x_d**2)/(sqrt(pi))/b\n",
        "#Since b is constant, we can consider b to be the unit of length.\n",
        "\n",
        "fig, ax1 = plt.subplots()\n",
        "color = 'tab:green'\n",
        "ax1.set_xlabel('x (b)')\n",
        "ax1.set_ylabel('V (kb^2)', color=color)\n",
        "ax1.plot(x_d, V, color=color, label='V(x)')\n",
        "ax1.tick_params(axis='y', labelcolor=color)\n",
        "\n",
        "plt.legend(loc='upper left')\n",
        "ax2 = ax1.twinx()  # instantiate a second axes that shares the same x-axis\n",
        "ax2.set_ylabel('Wavefunction2_normalized (1/b)')  # we already handled the x-label with ax1\n",
        "ax2.plot(x_d, Wavefunction2_normalized,label='Wavefunc2_norm')\n",
        "plt.legend(loc='lower left')\n",
        "plt.title('V(x) & Wavefunction2_normalized')"
      ],
      "execution_count": 0,
      "outputs": [
        {
          "output_type": "stream",
          "text": [
            "exp(-x**2/b**2)/(sqrt(pi)*b)\n"
          ],
          "name": "stdout"
        },
        {
          "output_type": "execute_result",
          "data": {
            "text/plain": [
              "Text(0.5, 1.0, 'V(x) & Wavefunction2_normalized')"
            ]
          },
          "metadata": {
            "tags": []
          },
          "execution_count": 10
        },
        {
          "output_type": "display_data",
          "data": {
            "image/png": "[encoded data removed]",
            "text/plain": [
              "<Figure size 432x288 with 2 Axes>"
            ]
          },
          "metadata": {
            "tags": []
          }
        }
      ]
    },
    {
      "cell_type": "markdown",
      "metadata": {
        "id": "dfNFMbct8fHN",
        "colab_type": "text"
      },
      "source": [
        "### 5. If you look for this particle, what is the probability you find it in the region $0 < x <b $?"
      ]
    },
    {
      "cell_type": "code",
      "metadata": {
        "id": "6wHR6xecDrSK",
        "colab_type": "code",
        "outputId": "92c7a6ee-bfdc-4d49-9cf8-d0071159f734",
        "colab": {
          "base_uri": "https://localhost:8080/",
          "height": 51
        }
      },
      "source": [
        "# Analytical solution\n",
        "Wavefunction2_normalized=Wavefunction**2/A\n",
        "print(Wavefunction2_normalized)\n",
        "#normalized_wavefunction^2 = exp(-x^2/b^2)/sqrt(pi)/b = exp(-x_d**2)/(sqrt(pi)*b)\n",
        "\n",
        "x_d=Symbol('x_d')\n",
        "b=Symbol('b', positive = True)\n",
        "Prob=integrate(exp(-x_d**2)/(sqrt(pi)),(x_d,0,1))\n",
        "float(Prob)"
      ],
      "execution_count": 42,
      "outputs": [
        {
          "output_type": "stream",
          "text": [
            "exp(-x**2/b**2)/(sqrt(pi)*b)\n"
          ],
          "name": "stdout"
        },
        {
          "output_type": "execute_result",
          "data": {
            "text/plain": [
              "0.42135039647485745"
            ]
          },
          "metadata": {
            "tags": []
          },
          "execution_count": 42
        }
      ]
    },
    {
      "cell_type": "markdown",
      "metadata": {
        "id": "DdTHvAcQG9RW",
        "colab_type": "text"
      },
      "source": [
        "Prob = $$\\int_{0}^{b}  \\frac{e^ \\frac{-x^2}{b^2}} { \\pi^\\frac{1}{2} b}  dx\n",
        "=\\int_{0}^{1}  \\frac{e^{-x_d^2}} { \\pi^\\frac{1}{2}b}  b*dx_d\n",
        "=\\int_{0}^{1}  \\frac{e^{-x_d^2}} { \\pi^\\frac{1}{2}}  dx_d$$ "
      ]
    },
    {
      "cell_type": "markdown",
      "metadata": {
        "id": "xG1pDqM78fHO",
        "colab_type": "text"
      },
      "source": [
        "### 6. Is your normalized $\\tilde{\\psi}(x)$ a solution of your Schr&ouml;dinger equation? If so, what is its total energy?  (*Hint*: $\\dfrac{d^2}{dx^2}e^{-ax^2} = 2 a e^{-ax^2} \\left (2a x^2 -1\\right)$. You can leave your answer in terms of fundamental constants.)"
      ]
    },
    {
      "cell_type": "code",
      "metadata": {
        "id": "QfY-FTtueBrL",
        "colab_type": "code",
        "outputId": "dc4f7eca-e28f-41f3-ba5a-79cb6ee5ef01",
        "colab": {
          "base_uri": "https://localhost:8080/",
          "height": 52
        }
      },
      "source": [
        "m=Symbol('m',positive=True)\n",
        "b=Symbol('b',positive=True)\n",
        "h=Symbol('h',positive=True)\n",
        "k=h**2/b**4/m\n",
        "\n",
        "x = sy.Symbol('x')\n",
        "der2 = Wavefunction_normalized.diff(x,2)\n",
        "E1=(der2*(-h**2)/2/m+1/2*k*x**2*Wavefunction_normalized)/Wavefunction_normalized\n",
        "E1= simplify(E1) \n",
        "\n",
        "if x in E1.free_symbols: # check if E1 is a function of x or not\n",
        "  print('No. The normalized wavefunction is not a solution of Schrodinger equation.')\n",
        "else:\n",
        "  print('Yes. The normalized wavefunction is a solution of Schrodinger equation.')\n",
        "  print('The total energy is', E1)"
      ],
      "execution_count": 0,
      "outputs": [
        {
          "output_type": "stream",
          "text": [
            "Yes. The normalized wavefunction is a solution of Schrodinger equation\n",
            "The total energy is h**2/(2*b**2*m)\n"
          ],
          "name": "stdout"
        }
      ]
    },
    {
      "cell_type": "markdown",
      "metadata": {
        "id": "3dT9ga1L8fHR",
        "colab_type": "text"
      },
      "source": [
        "### 7. Is your normalized $\\tilde{\\psi}(x)$ an eigenfunction of the linear momentum operator? If so, what is its eigenvalue?"
      ]
    },
    {
      "cell_type": "code",
      "metadata": {
        "id": "KNqD9JzFUvtA",
        "colab_type": "code",
        "outputId": "1894bacb-ba9d-4d6b-ce0c-1e0b2c4ca2db",
        "colab": {
          "base_uri": "https://localhost:8080/",
          "height": 52
        }
      },
      "source": [
        "import numpy as np\n",
        "der1 = Wavefunction_normalized.diff(x,1)\n",
        "Eigenvalue=complex(0,-1)*h*der1/Wavefunction_normalized\n",
        "\n",
        "if x in Eigenvalue.free_symbols: # check if Eigenvalue is a function of x or not\n",
        "  print('No. It is not an eigenfunction of the linear momentum operator.')\n",
        "else:\n",
        "  print('Yes. It is an eigenfunction of the linear momentum operator.')\n"
      ],
      "execution_count": 0,
      "outputs": [
        {
          "output_type": "stream",
          "text": [
            "No. It is not an eigenfunction of the linear momentum operator.\n",
            "It is not an eigenfunction of the linear momentum operator.\n"
          ],
          "name": "stdout"
        }
      ]
    },
    {
      "cell_type": "markdown",
      "metadata": {
        "id": "2WtJ00kb8fHT",
        "colab_type": "text"
      },
      "source": [
        "### 8. If you were to measure the linear momentum of many electrons, all with the same wavefunction $\\tilde{\\psi}(x)$ , will you get the same answer every time?   "
      ]
    },
    {
      "cell_type": "code",
      "metadata": {
        "id": "nWhDS70sBeDk",
        "colab_type": "code",
        "outputId": "ba7562fa-9a30-4636-89fe-03b58a80464a",
        "colab": {
          "base_uri": "https://localhost:8080/",
          "height": 52
        }
      },
      "source": [
        "# Not a eigenfunction\n",
        "print('No. Because this wavefunction is not an eigenfunction of momentum.') \n",
        "print('Only the eigenfunction of momentum can give us a single result.')"
      ],
      "execution_count": 0,
      "outputs": [
        {
          "output_type": "stream",
          "text": [
            "No. Because this wavefunction is not an eigenfunction of momentum.\n",
            "Only the eigenfunction of momentum can give us a single result.\n"
          ],
          "name": "stdout"
        }
      ]
    },
    {
      "cell_type": "markdown",
      "metadata": {
        "id": "8zS0KuX_8fHV",
        "colab_type": "text"
      },
      "source": [
        "### 9. If you were to measure the linear momentum of many electrons, all with the same wavefunction $\\tilde{\\psi}(x)$ , what will you get on average?"
      ]
    },
    {
      "cell_type": "code",
      "metadata": {
        "id": "Av_AKGPcBuCu",
        "colab_type": "code",
        "outputId": "c4ecd6ec-8212-4b1d-b0f4-89556ba4c1e5",
        "colab": {
          "base_uri": "https://localhost:8080/",
          "height": 34
        }
      },
      "source": [
        "# Momentum operator\n",
        "der1 = Wavefunction_normalized.diff(x,1)\n",
        "P1 = complex(0,-1)*h*der1 # First momentum operator \n",
        "Ep_p= integrate(P1*Wavefunction_normalized,(x,-oo,+oo))\n",
        "print('Expectation value is equal to ', Ep_p)"
      ],
      "execution_count": 0,
      "outputs": [
        {
          "output_type": "stream",
          "text": [
            "Expectation value is equal to  0\n"
          ],
          "name": "stdout"
        }
      ]
    },
    {
      "cell_type": "markdown",
      "metadata": {
        "id": "qYQwqsqS8fHW",
        "colab_type": "text"
      },
      "source": [
        "### 9. What is the *uncertainty* in the momentum of the electron? (Recall the uncertainty is given by $\\Delta p = \\sqrt{\\langle p^2 \\rangle - \\langle p \\rangle^2}$.)  You can give your answer in units of $m_e$, $\\hbar$, and $b$."
      ]
    },
    {
      "cell_type": "code",
      "metadata": {
        "id": "WErCzdl6DQ0I",
        "colab_type": "code",
        "outputId": "be562ecb-1fdb-4f84-eb6c-385feda1f75f",
        "colab": {
          "base_uri": "https://localhost:8080/",
          "height": 34
        }
      },
      "source": [
        "# Momentum operator^2\n",
        "der2 = Wavefunction_normalized.diff(x,2)\n",
        "Ep_p2= integrate(-h**2*der2*Wavefunction_normalized,(x,-oo,+oo))\n",
        "dp=sqrt(Ep_p2-Ep_p*2)\n",
        "print('The uncertainty in the momentum of the electron is ' ,dp)"
      ],
      "execution_count": 0,
      "outputs": [
        {
          "output_type": "stream",
          "text": [
            "The uncertainty in the momentum of the electron is  sqrt(2)*h/(2*b)\n"
          ],
          "name": "stdout"
        }
      ]
    },
    {
      "cell_type": "markdown",
      "metadata": {
        "id": "aqHjoE0E8fHX",
        "colab_type": "text"
      },
      "source": [
        "### 10. What is the maximum precision with which you could measure the position of the electron? Give your answer in units of $b$."
      ]
    },
    {
      "cell_type": "code",
      "metadata": {
        "id": "6X5bF0dZEJcO",
        "colab_type": "code",
        "outputId": "ae9f4d0d-9498-463f-8fd9-0228b99881c1",
        "colab": {
          "base_uri": "https://localhost:8080/",
          "height": 34
        }
      },
      "source": [
        "dx=h/2/dp\n",
        "print('The maximum precision with the position of the electron is ',dx)"
      ],
      "execution_count": 0,
      "outputs": [
        {
          "output_type": "stream",
          "text": [
            "The maximum precision with the position of the electron is  sqrt(2)*b/2\n"
          ],
          "name": "stdout"
        }
      ]
    },
    {
      "cell_type": "markdown",
      "metadata": {
        "id": "K9sD6fNX8fHY",
        "colab_type": "text"
      },
      "source": [
        "### 11. You probably recognize $V(x)$ as the potential for a harmonic oscillator, and you remember that a classic harmonic oscillator always oscillates within some amplitude $A$. Look at $\\tilde{\\psi}(x)$. Does it go to zero at some $A$?  Or is it non-zero all the way to infinity?"
      ]
    },
    {
      "cell_type": "code",
      "metadata": {
        "id": "HhulBeJKETYG",
        "colab_type": "code",
        "outputId": "53b025e8-c670-44b6-e2a4-4709b5ffe8cb",
        "colab": {
          "base_uri": "https://localhost:8080/",
          "height": 329
        }
      },
      "source": [
        "x = np.linspace(-5,5,300)\n",
        "\n",
        "Wavefunction_normalized=Wavefunction/sqrt(A)\n",
        "print(Wavefunction_normalized)\n",
        "\n",
        "b=1\n",
        "Wavefunction_normalized=np.exp(-x**2/(2*b**2))/(pi**(1/4)*sqrt(b))\n",
        "\n",
        "plt.plot(x,Wavefunction_normalized)\n",
        "plt.xlabel('x')\n",
        "plt.ylabel('Wavefunction_normalized')\n",
        "plt.title('Wavefunction_normalized')\n",
        "\n",
        "print('It is non-zero all the way to infinity as long as A is a finite value. ')"
      ],
      "execution_count": 0,
      "outputs": [
        {
          "output_type": "stream",
          "text": [
            "exp(-x**2/(2*b**2))/(pi**(1/4)*sqrt(b))\n",
            "It is non-zero all the way to infinity as long as A is a finite value. \n"
          ],
          "name": "stdout"
        },
        {
          "output_type": "display_data",
          "data": {
            "image/png": "[encoded data removed]",
            "text/plain": [
              "<Figure size 432x288 with 1 Axes>"
            ]
          },
          "metadata": {
            "tags": []
          }
        }
      ]
    }
  ]
}