{
  "nbformat": 4,
  "nbformat_minor": 0,
  "metadata": {
    "anaconda-cloud": {},
    "celltoolbar": "Raw Cell Format",
    "kernelspec": {
      "display_name": "Python 3",
      "language": "python",
      "name": "python3"
    },
    "language_info": {
      "codemirror_mode": {
        "name": "ipython",
        "version": 3
      },
      "file_extension": ".py",
      "mimetype": "text/x-python",
      "name": "python",
      "nbconvert_exporter": "python",
      "pygments_lexer": "ipython3",
      "version": "3.7.4-final"
    },
    "colab": {
      "name": "HW1.ipynb",
      "provenance": []
    }
  },
  "cells": [
    {
      "cell_type": "markdown",
      "execution_count": null,
      "metadata": {},
      "outputs": [
        {
          "evalue": "Error: Jupyter cannot be started. Error attempting to locate jupyter: Error: Module 'notebook' not installed.",
          "output_type": "error"
        }
      ],
      "source": [
        "# Chem 30324, Spring 2020, Homework 1 "
      ]
    },
    {
      "cell_type": "markdown",
      "metadata": {
        "colab_type": "text",
        "id": "0cl-rK-HCXXC"
      },
      "source": [
        "# Due on January 22, 2020"
      ]
    },
    {
      "cell_type": "markdown",
      "metadata": {
        "colab_type": "text",
        "id": "sQAPRxVoCXXC"
      },
      "source": [
        "## Problem 1: Discrete, probably"
      ]
    },
    {
      "cell_type": "markdown",
      "metadata": {
        "colab_type": "text",
        "id": "19WnICkbCXXD"
      },
      "source": [
        "*In five card study, a poker player is dealt five cards from a standard deck of 52 cards.*"
      ]
    },
    {
      "cell_type": "markdown",
      "metadata": {
        "colab_type": "text",
        "id": "woT1qvpRCXXD"
      },
      "source": [
        "### 1. How many different 5-card hands are there?  (Remember, in poker the order in which the cards are received does *not* matter.)"
      ]
    },
    {
      "cell_type": "code",
      "execution_count": 5,
      "metadata": {},
      "outputs": [
        {
          "name": "stdout",
          "output_type": "stream",
          "text": "6\n"
        }
      ],
      "source": [
        "# import libraries\n",
        "import math as m\n",
        "\n",
        "# create function for nCi\n",
        "def nCi(n, i):\n",
        "    f = m.factorial\n",
        "    return f(n) // f(i) // f(n-i)"
      ]
    },
    {
      "cell_type": "code",
      "execution_count": 8,
      "metadata": {},
      "outputs": [
        {
          "name": "stdout",
          "output_type": "stream",
          "text": "2598960 different 5-card hands\n"
        }
      ],
      "source": [
        "print(nCi(52,5), \"different 5-card hands\")"
      ]
    },
    {
      "cell_type": "markdown",
      "metadata": {
        "colab_type": "text",
        "id": "HdoAMFLwCXXE"
      },
      "source": [
        "### 2. What is the probability of being dealt four of a kind (a card of the same rank from each suit)?"
      ]
    },
    {
      "cell_type": "code",
      "execution_count": 13,
      "metadata": {},
      "outputs": [
        {
          "name": "stdout",
          "output_type": "stream",
          "text": "The probability of being dealt four of a kind is: 0.0002401\n"
        }
      ],
      "source": [
        "# choose 1 card of 13 of a kind\n",
        "a = nCi(13,1)\n",
        "\n",
        "# choose a suit\n",
        "b = nCi(4,4) \n",
        "\n",
        "# for the last card, it will not be part of the initial set\n",
        "c = nCi(48,1) \n",
        "\n",
        "# total number of ways to draw a card\n",
        "d = nCi(52,5)\n",
        "\n",
        "# putting it together in [# of ways]/[# total possibilities]\n",
        "P = (a*b*c)/d\n",
        "\n",
        "print(\"The probability of being dealt four of a kind is: {0:0.7f}.\".format(P))"
      ]
    },
    {
      "cell_type": "markdown",
      "metadata": {
        "colab_type": "text",
        "id": "CFF7ZwXTCXXF"
      },
      "source": [
        "### 3. What is the probability of being dealt a flush (five cards of the same suit)?"
      ]
    },
    {
      "cell_type": "code",
      "execution_count": 16,
      "metadata": {},
      "outputs": [
        {
          "name": "stdout",
          "output_type": "stream",
          "text": "The probability of being dealt a flush is:  0.00198.\n"
        }
      ],
      "source": [
        "# choose a rank\n",
        "x = nCi(4,1)\n",
        "\n",
        "# choose 5 cards of the same rank\n",
        "y = nCi(13,5)\n",
        "\n",
        "# total number of possibilities\n",
        "z = nCi(52,5)\n",
        "\n",
        "# probability\n",
        "P = (x*y)/z\n",
        "\n",
        "print(\"The probability of being dealt a flush is: {0: 0.5f}.\".format(P))"
      ]
    },
    {
      "cell_type": "markdown",
      "metadata": {
        "colab_type": "text",
        "id": "aBAIPhISCXXF"
      },
      "source": [
        "## Problem 2: Continuous, probably"
      ]
    },
    {
      "cell_type": "markdown",
      "metadata": {
        "colab_type": "text",
        "id": "imd-jbY1CXXG"
      },
      "source": [
        "The probability distribution function for a random variable $x$ is given by $P(x)=x e^{-2x}, 0\\le x < \\infty$."
      ]
    },
    {
      "cell_type": "markdown",
      "metadata": {
        "colab_type": "text",
        "id": "hvQgzUzQCXXG"
      },
      "source": [
        "### 1. Is $P(x)$ normalized?  If not, normalize it.  Plot the normalized $P(x)$."
      ]
    },
    {
      "cell_type": "code",
      "execution_count": null,
      "metadata": {},
      "outputs": [],
      "source": []
    },
    {
      "cell_type": "markdown",
      "metadata": {
        "colab_type": "text",
        "id": "u1vkxXVFCXXH"
      },
      "source": [
        "### 2. What is the most probable value of $x$?"
      ]
    },
    {
      "cell_type": "markdown",
      "metadata": {
        "colab_type": "text",
        "id": "n88PQvomCXXH"
      },
      "source": [
        "### 3. What is the expectation value of $x$?"
      ]
    },
    {
      "cell_type": "markdown",
      "metadata": {
        "colab_type": "text",
        "id": "IHfU7A37CXXI"
      },
      "source": [
        "### 4. What is the variance of $x$?"
      ]
    },
    {
      "cell_type": "markdown",
      "metadata": {
        "colab_type": "text",
        "id": "3LujRiVqCXXI"
      },
      "source": [
        "## Problem 3: One rough night"
      ]
    },
    {
      "cell_type": "markdown",
      "metadata": {
        "colab_type": "text",
        "id": "_b_1KcoQCXXJ"
      },
      "source": [
        "It's late on a Friday night and people are stumbling up Notre Dame Ave. to their dorms. You observe one particularly impaired individual who is taking steps of equal length 1m to the north or south (i.e., in one dimension), with equal probability."
      ]
    },
    {
      "cell_type": "markdown",
      "metadata": {
        "colab_type": "text",
        "id": "zNOTJ9p3CXXJ"
      },
      "source": [
        "### 1. What is the furthest distance the person could travel after 20 steps?\n",
        "\n",
        "20 meters"
      ]
    },
    {
      "cell_type": "markdown",
      "metadata": {
        "colab_type": "text",
        "id": "jUhhMqUTCXXK"
      },
      "source": [
        "### 2. What is the probability that the person won't have traveled any net distance at all after 20 steps?"
      ]
    },
    {
      "cell_type": "markdown",
      "metadata": {
        "colab_type": "text",
        "id": "FpA5IkuxCXXK"
      },
      "source": [
        "### 3. What is the probability that the person has traveled half the maximum distance after 20 steps?"
      ]
    },
    {
      "cell_type": "markdown",
      "metadata": {
        "colab_type": "text",
        "id": "8slmJCVTCXXL"
      },
      "source": [
        "### 4. Plot the probability of traveling a given distance vs distance. Does the probability distribution look familiar?  You'll see it again when we talk about diffusion."
      ]
    },
    {
      "cell_type": "markdown",
      "metadata": {
        "colab_type": "text",
        "id": "-GTpf883CXXL"
      },
      "source": [
        "## Problem 4: Now this is what I call equilibrium"
      ]
    },
    {
      "cell_type": "markdown",
      "metadata": {
        "colab_type": "text",
        "id": "aHs1_8nRCXXM"
      },
      "source": [
        "The Boltzmann distribution tells us that, at thermal equilibrium, the probability of a particle having an energy $E$ is proportional to $\\exp(-E/k_\\text{B}T)$, where $k_\\text{B}$ is the Boltzmann constant.  Suppose a bunch of gas particles of mass $m$ are in thermal equilibrium at temperature $T$ and are traveling back and forth in one dimension with various velocities $v$ and kinetic energies $K=mv^2/2$."
      ]
    },
    {
      "cell_type": "markdown",
      "metadata": {
        "colab_type": "text",
        "id": "9Vfds2xdCXXM"
      },
      "source": [
        "### 1. What is the expectation value of the velocity $v$ of a particle?"
      ]
    },
    {
      "cell_type": "markdown",
      "metadata": {
        "colab_type": "text",
        "id": "balOZ2qwCXXN"
      },
      "source": [
        "### 2. What is the expectation value of the kinetic energy $K$ of a particle? How does your answer depend on the particle mass? On temperature?"
      ]
    }
  ]
}