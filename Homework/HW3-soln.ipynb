{
 "cells": [
  {
   "cell_type": "markdown",
   "metadata": {
    "colab_type": "text",
    "collapsed": true,
    "id": "LRyOrGApIYp3"
   },
   "source": [
    "##### Chem 30324, Spring 2020, Homework3\n",
    "\n",
    "# Due February 5, 2020"
   ]
  },
  {
   "cell_type": "markdown",
   "metadata": {
    "colab_type": "text",
    "id": "7CFKXLWhIYp-"
   },
   "source": [
    "## Heat capacity of solids"
   ]
  },
  {
   "cell_type": "markdown",
   "metadata": {
    "colab_type": "text",
    "id": "YSIqmbtnIYqE"
   },
   "source": [
    "### 1. In Einstein's [original paper](https://onlinelibrary.wiley.com/doi/abs/10.1002/andp.19063270110) on the heat capacity of solids, he compared his model results to experiments on diamond, using a frequency for the vibrating C atoms $\\nu = 2.75 \\times 10^{13} \\text{s}^{-1}$.  What fundamentally did he assume about the vibrating C atoms to describe the heat capacity of diamond?"
   ]
  },
  {
   "cell_type": "markdown",
   "metadata": {
    "colab_type": "text",
    "id": "anwJNIh8pSF4"
   },
   "source": [
    "Einstein assumed that the energy of a vibrating atom was proportional to the frequency of vibration $E\\propto\\nu$ and that the vibrating atom could have only discrete amounts of vibrational energy, $E = n h \\nu$, where $n = 0, 1, \\ldots$."
   ]
  },
  {
   "cell_type": "markdown",
   "metadata": {
    "colab_type": "text",
    "id": "6EwlOOccIYqH"
   },
   "source": [
    "### 2. Plot the Einstein model for the heat capacity of diamond from 0 to 1500 K."
   ]
  },
  {
   "cell_type": "code",
   "execution_count": 11,
   "metadata": {
    "colab": {
     "base_uri": "https://localhost:8080/",
     "height": 363
    },
    "colab_type": "code",
    "id": "SRKQ_surmz81",
    "outputId": "68556876-43fa-4bdb-b40e-215897fef285"
   },
   "outputs": [
    {
     "data": {
      "image/png": "[encoded data removed]",
      "text/plain": [
       "<Figure size 432x288 with 1 Axes>"
      ]
     },
     "metadata": {
      "needs_background": "light"
     },
     "output_type": "display_data"
    }
   ],
   "source": [
    "import numpy as np\n",
    "import matplotlib.pyplot as plt\n",
    "\n",
    "#Constants\n",
    "h = 6.626e-34 #m^2 kg/s\n",
    "kB = 1.3806e-23 #m^2 kg/s^2 K\n",
    "Nav = 6.022e23 # /mol\n",
    "v = 2.75e13 #1/s\n",
    "\n",
    "T = np.linspace(10,3000,100)\n",
    "Cp = (3*h**2*v**2*np.exp(h*v/kB/T))/(kB*T**2*(np.exp(h*v/kB/T)-1)**2) #The derivative of the expected energy function wrt temperature\n",
    "Cp = Cp*Nav\n",
    "\n",
    "plt.plot(T,Cp)\n",
    "plt.xlabel('Temperature (K)')\n",
    "plt.ylabel('Heat Capacity (J/mol K)')\n",
    "plt.title('Heat Capacity vs. Temperature of Diamond')\n",
    "plt.plot([0,3000],[3*kB*Nav,3*kB*Nav],color='black',linestyle='dashed',label='3R')\n",
    "plt.legend()\n",
    "plt.show()"
   ]
  },
  {
   "cell_type": "markdown",
   "metadata": {
    "colab_type": "text",
    "id": "mhwXDfwEIYqM"
   },
   "source": [
    "### 3. What is the probability for a C atom to have $n=1$ quanta of energy relative to $n=0$ at 1500 K?  At 150 K?"
   ]
  },
  {
   "cell_type": "markdown",
   "metadata": {},
   "source": [
    "$P(n=1)/P(n=0) = \\exp(-(E_1 -E_0)/k_BT) = \\exp(-(1 h\\nu - 0 h\\nu)/k_BT) = \\exp(-h\\nu/k_BT)$"
   ]
  },
  {
   "cell_type": "code",
   "execution_count": 15,
   "metadata": {
    "colab": {
     "base_uri": "https://localhost:8080/",
     "height": 296
    },
    "colab_type": "code",
    "id": "LMHwfKJMrerb",
    "outputId": "150d5d9d-3ccf-4b7a-e9e2-14a67dd6d6e5"
   },
   "outputs": [
    {
     "name": "stdout",
     "output_type": "stream",
     "text": [
      "Ratio at 1500 and 150 K are 0.414831384968452 and 0.00015090932081352938, respectively\n"
     ]
    }
   ],
   "source": [
    "import numpy as np\n",
    "import matplotlib.pyplot as plt\n",
    "\n",
    "#Constants\n",
    "h = 6.626e-34 #m^2 kg/s\n",
    "kB = 1.3806e-23 #m^2 kg/s^2 K\n",
    "v = 2.75e13 #1/s\n",
    "\n",
    "\n",
    "P1500 = np.exp(-h * v/kB/1500.)\n",
    "P150 = np.exp(-h * v/kB/150.)\n",
    "\n",
    "print('Ratio at 1500 and 150 K are {} and {}, respectively'.format(P1500,P150))\n",
    "T = 1500 #K"
   ]
  },
  {
   "cell_type": "markdown",
   "metadata": {},
   "source": [
    "Very probably at high $T$, not at all probable at low $T$."
   ]
  },
  {
   "cell_type": "markdown",
   "metadata": {
    "colab_type": "text",
    "id": "Vlpew9oTIYqY"
   },
   "source": [
    "## Blackbody radiators.\n",
    "By treating the sun as a blackbody radiator, Joseph Stefan derived the first reliable estimate of the temperature of the sun’s surface."
   ]
  },
  {
   "cell_type": "markdown",
   "metadata": {
    "colab_type": "text",
    "id": "AbKNxK__IYqb"
   },
   "source": [
    "### 4. Stefan estimated that the power per unit area radiated from the surface of the sun was 43.5 times greater than that of a metal bar heated to 1950 ̊C. What is the temperature of the sun?"
   ]
  },
  {
   "cell_type": "markdown",
   "metadata": {},
   "source": [
    "Stefan-Boltzmann law relates power and temperature, $I =\\sigma T^4$.  $I_{sun}/I_{bar}=43.5 = (T_{sun}/T_{bar})^4$"
   ]
  },
  {
   "cell_type": "code",
   "execution_count": 0,
   "metadata": {
    "colab": {
     "base_uri": "https://localhost:8080/",
     "height": 34
    },
    "colab_type": "code",
    "id": "MwGn7vC0y_O9",
    "outputId": "c1616f8d-156a-4a20-8144-e73c030d47a2"
   },
   "outputs": [
    {
     "name": "stdout",
     "output_type": "stream",
     "text": [
      "The temperature of the sun is 5709.408017572795 Kelvin.\n"
     ]
    }
   ],
   "source": [
    "Tmetal = 1950+273.15 #K\n",
    "Tsun = (43.5*Tmetal**4)**.25\n",
    "print('The temperature of the sun is {} Kelvin.'.format(Tsun))"
   ]
  },
  {
   "cell_type": "markdown",
   "metadata": {
    "colab_type": "text",
    "id": "cjp0M4E-IYqf"
   },
   "source": [
    "### 5. Based on this temperature, what wavelength $\\lambda$ of light does the sun emit most intensely, in nm? What frequency of light, in s$^{–1}$? What color does this correspond to?"
   ]
  },
  {
   "cell_type": "code",
   "execution_count": 0,
   "metadata": {
    "colab": {
     "base_uri": "https://localhost:8080/",
     "height": 68
    },
    "colab_type": "code",
    "id": "n38coISH1Pcn",
    "outputId": "21701d7a-a059-4ee7-fa93-1dc2bd4ba047"
   },
   "outputs": [
    {
     "name": "stdout",
     "output_type": "stream",
     "text": [
      "The sun emits a wavelength of 507.54263683398653 nm most intensely.\n",
      "The freqency is 5.906744E+14 1/s.\n",
      "This wavelength corresponds to the color cyan/green.\n"
     ]
    }
   ],
   "source": [
    "wavelength = 2897768/Tsun #nm\n",
    "c = 299792458 #m/s\n",
    "freq= c/wavelength *1e9\n",
    "print('The sun emits a wavelength of {} nm most intensely.'.format(wavelength))\n",
    "print('The freqency is %E 1/s.'%(freq))\n",
    "print('This wavelength corresponds to the color cyan/green.')"
   ]
  },
  {
   "cell_type": "markdown",
   "metadata": {
    "colab_type": "text",
    "id": "XKEAtMCwIYqi"
   },
   "source": [
    "### 6. What is the ultraviolet catastrophe, and what did Planck have to assume to circumvent it?"
   ]
  },
  {
   "cell_type": "markdown",
   "metadata": {
    "colab_type": "text",
    "id": "iELSKXoQ2x0v"
   },
   "source": [
    "In classical physics, Rayleigh-Jeans law predicted that radiation intensity approached infinity at small wavelengths. This phenomena is known as the ultraviolet catastrophe. \n",
    "\n",
    "Planck assumed that a:\n",
    "- the black body radiator is full of standing waves of light\n",
    "- the energy of a wave of light is proportional to its frequency\n",
    "- only discrete amounts of energy were possible at a given frequency, $E = n h \\nu$"
   ]
  },
  {
   "cell_type": "markdown",
   "metadata": {
    "colab_type": "text",
    "id": "wrlfDBP8IYql"
   },
   "source": [
    "## Photoelectric effect.\n",
    "The photoelectric effect refers to the emission of electrons that is observed when light is shone on a metal. The effect was the clue that Einstein needed to illucidate the particulate nature of the interaction of light and matter."
   ]
  },
  {
   "cell_type": "markdown",
   "metadata": {
    "colab_type": "text",
    "id": "07MJuwQvIYqo"
   },
   "source": [
    "### 7. You set up an experiment in which you shine light of varying intensity and constant frequency at a metal surface and measure the maximum kinetic energy of the emitted electrons. As an accomplished student of classical physics, you know that the energy contained in a wave is proportional to the square of its intensity. Based on this knowledge, sketch how you $expect$ the kinetic energy of the electrons to vary in the experiment. Briefly justify your answer."
   ]
  },
  {
   "cell_type": "code",
   "execution_count": 0,
   "metadata": {
    "colab": {
     "base_uri": "https://localhost:8080/",
     "height": 262
    },
    "colab_type": "code",
    "id": "9rNP-CCQ4N7b",
    "outputId": "cc99dd9e-ab71-40bd-bdd1-b5a3ad6609de"
   },
   "outputs": [
    {
     "data": {
      "image/png": "[encoded data removed]",
      "text/plain": [
       "<Figure size 432x288 with 1 Axes>"
      ]
     },
     "metadata": {
      "tags": []
     },
     "output_type": "display_data"
    }
   ],
   "source": [
    "import numpy as np\n",
    "import matplotlib.pyplot as plt\n",
    "\n",
    "I = np.linspace(0,2*np.pi,30)\n",
    "E = I**2\n",
    "\n",
    "plt.plot(I,E)\n",
    "plt.xlabel('Intensity')\n",
    "plt.ylabel('Energy')\n",
    "plt.xticks([])\n",
    "plt.yticks([])\n",
    "plt.show()"
   ]
  },
  {
   "cell_type": "markdown",
   "metadata": {
    "colab_type": "text",
    "id": "jWX_AEVMIYqs"
   },
   "source": [
    "### 8. Not finding a result that you like, you set up another experiment in which you vary the frequency of light at constant intensity. Below is the data you collect. Use graphical analysis to determine the workfunction of the metal, in eV, and to estimate Planck’s constant."
   ]
  },
  {
   "cell_type": "markdown",
   "metadata": {
    "colab_type": "text",
    "id": "vg9CNysaIYqv"
   },
   "source": [
    "|Light Wavelength (nm)|Electron Kinetic Energy (eV)|\n",
    "|:-:|:-:|\n",
    "|263|0.13|\n",
    "|250|0.33|\n",
    "|234|0.68|\n",
    "|218|1.08|\n",
    "|184|2.13|"
   ]
  },
  {
   "cell_type": "code",
   "execution_count": 0,
   "metadata": {
    "colab": {
     "base_uri": "https://localhost:8080/",
     "height": 51
    },
    "colab_type": "code",
    "id": "WNWhR4ts81CJ",
    "outputId": "0b80a405-4a78-497a-ec36-1d51055149a2"
   },
   "outputs": [
    {
     "name": "stdout",
     "output_type": "stream",
     "text": [
      "The workfunction is 4.597804368955146 eV\n",
      "Estimation of Planck's constant: 4.1268123345226185e-15 eV*s\n"
     ]
    }
   ],
   "source": [
    "from scipy.stats import linregress\n",
    "c = 299792458e9 #nm/s\n",
    "x = [c/263,c/250,c/234,c/218,c/184] #1/s\n",
    "y = [.13,.33,.68,1.08,2.13] #eV\n",
    "slope, intercept, r_value, p_value, std_err = linregress(x,y)\n",
    "\n",
    "i = np.abs(intercept)\n",
    "\n",
    "print('The workfunction is {} eV'.format(i))\n",
    "print('Estimation of Planck\\'s constant: {} eV*s'.format(slope))\n"
   ]
  },
  {
   "cell_type": "markdown",
   "metadata": {
    "colab_type": "text",
    "id": "1_cyTZ93IYqx"
   },
   "source": [
    "### 9. What is the metal? $Hint:$ It is a coinage metal."
   ]
  },
  {
   "cell_type": "markdown",
   "metadata": {
    "colab_type": "text",
    "id": "xyEUKcPzADPV"
   },
   "source": [
    "Copper has a work function of 4.7 eV."
   ]
  },
  {
   "cell_type": "markdown",
   "metadata": {
    "colab_type": "text",
    "id": "va_434nrIYqz"
   },
   "source": [
    "## Diffraction.\n",
    "Diffraction is the scattering of particles off of a crystal, and is today an essential means of probing the structure of matter. Modern diffraction is performed using bright light and particle sources of various types."
   ]
  },
  {
   "cell_type": "markdown",
   "metadata": {
    "colab_type": "text",
    "id": "05fX4qdnIYq2"
   },
   "source": [
    "### 10. The spacing between atoms in a Ag crystal is approximately 2.9 Å, a distance that can be measured by scattering photons of a comparable wavelength off the crystal. What is the energy (in eV) of a photon of wavelength 2.9 Å? What part of the electromagnetic spectrum does this correspond to?"
   ]
  },
  {
   "cell_type": "code",
   "execution_count": 0,
   "metadata": {
    "colab": {
     "base_uri": "https://localhost:8080/",
     "height": 51
    },
    "colab_type": "code",
    "id": "gABUn0btBN2_",
    "outputId": "384ff008-d9bf-4a93-f8cc-5e025a7cd438"
   },
   "outputs": [
    {
     "name": "stdout",
     "output_type": "stream",
     "text": [
      "The energy of a photon at 2.9 A is 4275.317500661877 eV\n",
      "This corresponds to soft X-rays in the electromagnetic spectrum.\n"
     ]
    }
   ],
   "source": [
    "h = 4.135668e-15 #eV*s\n",
    "c = 299792458e9 #nm/s\n",
    "wavelength = .29 #nm\n",
    "\n",
    "E = h*c/wavelength #eV\n",
    "print ('The energy of a photon at 2.9 A is {} eV'.format(E))\n",
    "print('This corresponds to soft X-rays in the electromagnetic spectrum.')\n"
   ]
  },
  {
   "cell_type": "markdown",
   "metadata": {},
   "source": [
    "This is the basis of x-ray diffraction, used to figure out the crystal structure of things, like proteins."
   ]
  },
  {
   "cell_type": "markdown",
   "metadata": {
    "colab_type": "text",
    "id": "SF5mskZkIYq4"
   },
   "source": [
    "### 11. Suppose you have a device that produces these photons at a power of 1 μW. How many photons/s does this correspond to?"
   ]
  },
  {
   "cell_type": "code",
   "execution_count": 0,
   "metadata": {
    "colab": {
     "base_uri": "https://localhost:8080/",
     "height": 34
    },
    "colab_type": "code",
    "id": "ylNSpd62DPdp",
    "outputId": "2fb13ae2-4ede-4333-9f53-24bc88500153"
   },
   "outputs": [
    {
     "name": "stdout",
     "output_type": "stream",
     "text": [
      "1 microwatt corrsponds to 1.460009E+09 photons/second.\n"
     ]
    }
   ],
   "source": [
    "P = 1e-6 #J/s\n",
    "photons = P/E*6.242e18 #photons/s\n",
    "print('1 microwatt corrsponds to %E photons/second.'%(photons))"
   ]
  },
  {
   "cell_type": "markdown",
   "metadata": {
    "colab_type": "text",
    "id": "orQlAI0GIYq7"
   },
   "source": [
    "### 12. The Ag spacing can also be measured by scattering *electrons* off a crystal. To what speed (in m/s) would an electron need to be accelerated to have the necessary de Broglie wavelength? What fraction of the speed of light is this?"
   ]
  },
  {
   "cell_type": "code",
   "execution_count": 0,
   "metadata": {
    "colab": {
     "base_uri": "https://localhost:8080/",
     "height": 51
    },
    "colab_type": "code",
    "id": "4ksdv25xEL5r",
    "outputId": "fb5f5d31-4edf-42c7-e599-4c95ba99750f"
   },
   "outputs": [
    {
     "name": "stdout",
     "output_type": "stream",
     "text": [
      "To have the necessary de Broglie wavelength, v= 2508318.7904346217 m/s\n",
      "This is 0.008366850877998478 of the speed of light.\n"
     ]
    }
   ],
   "source": [
    "c = 299792458 #m/s\n",
    "m = 9.109e-31 #kg\n",
    "h = 6.626e-34 #m^2 kg/s\n",
    "wavelength = .29e-9 #m\n",
    "\n",
    "v = h/wavelength/m #m/s\n",
    "fraction = v/c\n",
    "\n",
    "print('To have the necessary de Broglie wavelength, v= {} m/s'.format(v))\n",
    "print('This is {} of the speed of light.'.format(fraction))\n",
    "\n",
    "\n"
   ]
  },
  {
   "cell_type": "markdown",
   "metadata": {},
   "source": [
    "This is the basis of electron diffraction, often used to observe surfaces, eg with an electron microscope."
   ]
  },
  {
   "cell_type": "markdown",
   "metadata": {
    "colab_type": "text",
    "id": "QIrYCTkXIYq9"
   },
   "source": [
    "## The Bohr atom. \n",
    "Bohr developed the first successful model of the energy spectrum of a hydrogen atom by postulating that electrons can only exist in certain fixed energy “orbits” indexed by the quantum number $n$. (Recall that the equations describing the Bohr atom are in Table 4 of the course outline.)"
   ]
  },
  {
   "cell_type": "markdown",
   "metadata": {
    "colab_type": "text",
    "id": "t8z89Q35IYq_"
   },
   "source": [
    "### 13. Would light need to be absorbed or emitted to cause an electron to jump from the $n$ = 1 to the $n$ = 2 orbit? What wavelength of light does this correspond to?"
   ]
  },
  {
   "cell_type": "code",
   "execution_count": 18,
   "metadata": {
    "colab": {
     "base_uri": "https://localhost:8080/",
     "height": 51
    },
    "colab_type": "code",
    "id": "vyb66Y7oD7nQ",
    "outputId": "78a51aa9-4e45-493a-ca23-dd30b810b606"
   },
   "outputs": [
    {
     "name": "stdout",
     "output_type": "stream",
     "text": [
      "Light needs to be absorbed to provide energy for electrons to jump to higher orbitals.\n",
      "This corresponds to a wavelength of 121.55159347276592 nm.\n"
     ]
    }
   ],
   "source": [
    "Z = 1\n",
    "n1 = 1\n",
    "n2 = 2\n",
    "E1 = -13.6*Z**2/(n1**2) #eV\n",
    "E2 = -13.6*Z**2/(n2**2) #eV\n",
    "\n",
    "c = 299792458 #m/s\n",
    "h = 6.626e-34 #m^2 kg/s\n",
    "\n",
    "wavelength = h*c/(E2-E1)*1e9/1.60218e-19\n",
    "\n",
    "print('Light needs to be absorbed to provide energy for electrons to jump to higher orbitals.')\n",
    "print('This corresponds to a wavelength of',wavelength,'nm.')"
   ]
  },
  {
   "cell_type": "markdown",
   "metadata": {
    "colab_type": "text",
    "id": "ZT4B3At8IYrB"
   },
   "source": [
    "### 14. What is the circumference of the $n$ = 2 orbit? What is the de Broglie wavelength of an electron in the $n$ = 2 orbit? How do these compare?"
   ]
  },
  {
   "cell_type": "code",
   "execution_count": 19,
   "metadata": {
    "colab": {
     "base_uri": "https://localhost:8080/",
     "height": 34
    },
    "colab_type": "code",
    "id": "IKcHoQl2YvE8",
    "outputId": "2084e87a-5576-4110-96b4-3859959c57d9"
   },
   "outputs": [
    {
     "name": "stdout",
     "output_type": "stream",
     "text": [
      "The circumference of the n=2 orbit is 1.3295220109992005e-09 m\n"
     ]
    }
   ],
   "source": [
    "import numpy as np\n",
    "a0 = 5.29e-11 #m, Bohr radius\n",
    "r = a0*n2**2 #m\n",
    "l = np.pi*2*r #m\n",
    "print('The circumference of the n=2 orbit is {} m'.format(l))"
   ]
  },
  {
   "cell_type": "code",
   "execution_count": 24,
   "metadata": {
    "colab": {
     "base_uri": "https://localhost:8080/",
     "height": 34
    },
    "colab_type": "code",
    "id": "CwiRbeElZN2F",
    "outputId": "666255e3-698f-40b1-fc9e-e3bcd001dcfa"
   },
   "outputs": [
    {
     "name": "stdout",
     "output_type": "stream",
     "text": [
      "The de Broglie wavelength for an electron in n=2 orbit is 6.649969202654155e-10 m.\n"
     ]
    }
   ],
   "source": [
    "m = 9.109e-31 #kg\n",
    "h = 6.626e-34 #m^2 kg/s\n",
    "hbar = h/(2*np.pi) #m^2 kg/s, reduced Planck constant\n",
    "k0 = 2.30708e-28\n",
    "p0 = k0*m/hbar*1/1 #kg m/s\n",
    "p2 = p0/2\n",
    "wavelength3 = h/p2\n",
    "print('The de Broglie wavelength for an electron in n=2 orbit is {} m.'.format(wavelength3))"
   ]
  },
  {
   "cell_type": "code",
   "execution_count": 23,
   "metadata": {
    "colab": {},
    "colab_type": "code",
    "id": "xD5mFyN4Z16y"
   },
   "outputs": [
    {
     "name": "stdout",
     "output_type": "stream",
     "text": [
      "1.9992904786214014\n"
     ]
    }
   ],
   "source": [
    "print(l/wavelength3)"
   ]
  },
  {
   "cell_type": "markdown",
   "metadata": {},
   "source": [
    "Circumference is twice the wavelength. Would be exact if we carried through the constants to higher precision."
   ]
  },
  {
   "cell_type": "code",
   "execution_count": null,
   "metadata": {},
   "outputs": [],
   "source": []
  }
 ],
 "metadata": {
  "anaconda-cloud": {},
  "colab": {
   "name": "HW3-soln",
   "provenance": []
  },
  "kernelspec": {
   "display_name": "Python 3",
   "language": "python",
   "name": "python3"
  },
  "language_info": {
   "codemirror_mode": {
    "name": "ipython",
    "version": 3
   },
   "file_extension": ".py",
   "mimetype": "text/x-python",
   "name": "python",
   "nbconvert_exporter": "python",
   "pygments_lexer": "ipython3",
   "version": "3.7.4"
  }
 },
 "nbformat": 4,
 "nbformat_minor": 1
}
