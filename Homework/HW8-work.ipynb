{
 "cells": [
  {
   "cell_type": "markdown",
   "metadata": {},
   "source": [
    "# Chem 30324, Spring 2020, Homework 8\n",
    "\n",
    "## Devon Ngo\n",
    "\n",
    "Due April 3, 2020"
   ]
  },
  {
   "cell_type": "code",
   "execution_count": 2,
   "metadata": {},
   "outputs": [],
   "source": [
    "import matplotlib.pyplot as plt\n",
    "import numpy as np\n",
    "import math as m"
   ]
  },
  {
   "cell_type": "markdown",
   "metadata": {},
   "source": [
    "## Chemical bonding\n",
    "### The electron wavefunctions (molecular orbitals) in molecules can be thought of as coming from combinations of atomic orbitals on the constituent atoms. One of the factors that determines whether two atomic orbitals  form a bond is there ability to overlap. Consider two atoms, A and B, aligned on the z axis and separated by a distance $R$."
   ]
  },
  {
   "cell_type": "markdown",
   "metadata": {},
   "source": [
    "### 1. The overlap between two 1s orbitals on A and B can be shown to be: $$S = \\left \\{1+\\frac{R}{a_0}+\\frac{1}{3}\\left (\\frac{R}{a_0}\\right )^2\\right \\}e^{-R/a_0}$$ Plot out the overlap as a function of the internuclear distance $R$. Qualitatively explain why it has the shape it has."
   ]
  },
  {
   "cell_type": "code",
   "execution_count": 2,
   "metadata": {},
   "outputs": [],
   "source": [
    "def overlap(R, a0):\n",
    "    s = (1 + (R/a0) + ((1/3)*(R/a0)**2)) * np.exp(-R/a0)\n",
    "    return s"
   ]
  },
  {
   "cell_type": "code",
   "execution_count": 20,
   "metadata": {},
   "outputs": [
    {
     "data": {
      "image/png": "[encoded data removed]",
      "text/plain": [
       "<Figure size 432x288 with 1 Axes>"
      ]
     },
     "metadata": {
      "needs_background": "light"
     },
     "output_type": "display_data"
    }
   ],
   "source": [
    "R = np.linspace(0, 1e-9, 100)\n",
    "S = np.zeros(len(R))\n",
    "\n",
    "a0 = 5.29e-11 # m\n",
    "\n",
    "for i in range(len(R)):\n",
    "    S[i] = overlap(R[i], a0)\n",
    "    \n",
    "plt.plot(R, S)\n",
    "plt.xlabel('Distance, R')\n",
    "plt.ylabel('Overlap, S')\n",
    "plt.grid()\n",
    "plt.show()"
   ]
  },
  {
   "cell_type": "markdown",
   "metadata": {},
   "source": [
    "The function results in this shape because at a distance of 0, there is a 100% overlap. As the orbitals move further away, there is less of an overlap. Because of its shape, it does not decrease linearly, but instead the result is the curve as seen above."
   ]
  },
  {
   "cell_type": "markdown",
   "metadata": {},
   "source": [
    "### 2. The overlap functions for other pairs of orbitals are more complicated, but the general features are easily inferred. Neatly sketch the orbital overlap between a 1s orbital on A and 2p$_z$ orbital on B as a function $R$. Carefully indicate the limiting values as $R \\rightarrow 0$ and $R \\rightarrow \\infty$."
   ]
  },
  {
   "cell_type": "markdown",
   "metadata": {},
   "source": [
    "<br>\n",
    "<br>\n",
    "<br>\n",
    "<br>\n",
    "<br>\n",
    "<br>\n",
    "<br>\n",
    "<br>\n",
    "<br>\n",
    "<br>\n",
    "<br>\n",
    "<br>\n",
    "<br>\n",
    "<br>\n",
    "<br>\n",
    "<br>\n",
    "<br>"
   ]
  },
  {
   "cell_type": "markdown",
   "metadata": {},
   "source": [
    "### 3. Choose some other pair of atomic orbitals on A and B and sketch out their overlap as a function of $R$. Carefully indicate the limiting values as  $ R \\rightarrow 0$  and  $ R\\rightarrow \\infty$."
   ]
  },
  {
   "cell_type": "markdown",
   "metadata": {},
   "source": [
    "<br>\n",
    "<br>\n",
    "<br>\n",
    "<br>\n",
    "<br>\n",
    "<br>\n",
    "<br>\n",
    "<br>\n",
    "<br>\n",
    "<br>\n",
    "<br>\n",
    "<br>\n",
    "<br>\n",
    "<br>\n",
    "<br>\n",
    "<br>\n",
    "<br>"
   ]
  },
  {
   "cell_type": "markdown",
   "metadata": {},
   "source": [
    "### 4. What property besides overlap determines whether two atomic orbitals will form a bond?"
   ]
  },
  {
   "cell_type": "markdown",
   "metadata": {},
   "source": [
    "Energy matching and distance also plays a role on whether two atomic orbitals will form a bond."
   ]
  },
  {
   "cell_type": "markdown",
   "metadata": {},
   "source": [
    "### 5. A chemical bond is a compromise between the electrons trying to get close to both nuclei and the nuclei trying to stay apart. The function below captures this compromise as a function of internuclear distance, $R$. Plot the function for different values of the parameters $A$, $\\alpha$, and $R_0$.  Provide a physical interpretation of each of the parameters. $$V(R) = A \\left ( 1 - e^{(-\\alpha(R - R_0))}\\right)^2$$"
   ]
  },
  {
   "cell_type": "code",
   "execution_count": 4,
   "metadata": {},
   "outputs": [],
   "source": [
    "def potential(A, alpha, R0, R):\n",
    "    V = A * (1 - np.exp(-alpha * (R-R0)))**2\n",
    "    return V"
   ]
  },
  {
   "cell_type": "code",
   "execution_count": 22,
   "metadata": {},
   "outputs": [
    {
     "data": {
      "image/png": "[encoded data removed]",
      "text/plain": [
       "<Figure size 432x288 with 1 Axes>"
      ]
     },
     "metadata": {
      "needs_background": "light"
     },
     "output_type": "display_data"
    }
   ],
   "source": [
    "# Vary the parameter A\n",
    "\n",
    "alpha = 1\n",
    "R0 = 1\n",
    "R = np.linspace(0, 10, 100)\n",
    "V1 = np.zeros(len(R))\n",
    "V2 = np.zeros(len(R))\n",
    "V3 = np.zeros(len(R))\n",
    "\n",
    "for i in range(len(R)):\n",
    "    V1 = potential(1, alpha, R0, R)\n",
    "    V2 = potential(2, alpha, R0, R)\n",
    "    V3 = potential(3, alpha, R0, R)\n",
    "    \n",
    "plt.plot(R, V1, label='A=1')\n",
    "plt.plot(R, V2, label='A=2')\n",
    "plt.plot(R, V3, label='A=3')\n",
    "plt.xlabel('R')\n",
    "plt.ylabel('V(R)')\n",
    "plt.title('V(R) by varying A')\n",
    "plt.legend()\n",
    "plt.show()"
   ]
  },
  {
   "cell_type": "markdown",
   "metadata": {},
   "source": [
    "By varying the parameter, $A$, we can see that it affects the asymptote of the potential energy as the internuclear distance approaches infinity. Most notably, we can see that the asymptote matches the value set for $A$."
   ]
  },
  {
   "cell_type": "code",
   "execution_count": 6,
   "metadata": {},
   "outputs": [
    {
     "data": {
      "image/png": "[encoded data removed]",
      "text/plain": [
       "<Figure size 432x288 with 1 Axes>"
      ]
     },
     "metadata": {
      "needs_background": "light"
     },
     "output_type": "display_data"
    }
   ],
   "source": [
    "# Vary the parameter alpha\n",
    "\n",
    "A = 1\n",
    "R0 = 1\n",
    "R = np.linspace(0, 5, 100)\n",
    "V1 = np.zeros(len(R))\n",
    "\n",
    "V2 = np.zeros(len(R))\n",
    "V3 = np.zeros(len(R))\n",
    "\n",
    "for i in range(len(R)):\n",
    "    V1 = potential(A, 1, R0, R)\n",
    "    V2 = potential(A,1.5, R0, R)\n",
    "    V3 = potential(A, 2, R0, R)\n",
    "    \n",
    "plt.plot(R, V1, label='alpha=1.0')\n",
    "plt.plot(R, V2, label='alpha=1.5')\n",
    "plt.plot(R, V3, label='alpha=2.0')\n",
    "plt.xlabel('R')\n",
    "plt.ylabel('V(R)')\n",
    "plt.title('V(R) by varying alpha')\n",
    "plt.legend()\n",
    "plt.show()"
   ]
  },
  {
   "cell_type": "markdown",
   "metadata": {},
   "source": [
    "Using the graph above, we can see that varying $\\alpha$ increases the strength of the interaction between the two nuclei. As $\\alpha$ increases, the potential energy increases, which is prominently seen as R approaches 0."
   ]
  },
  {
   "cell_type": "code",
   "execution_count": 7,
   "metadata": {},
   "outputs": [
    {
     "data": {
      "image/png": "[encoded data removed]",
      "text/plain": [
       "<Figure size 432x288 with 1 Axes>"
      ]
     },
     "metadata": {
      "needs_background": "light"
     },
     "output_type": "display_data"
    }
   ],
   "source": [
    "# Vary the parameter R0\n",
    "\n",
    "alpha = 1\n",
    "A = 1\n",
    "R = np.linspace(0, 5, 100)\n",
    "V1 = np.zeros(len(R))\n",
    "V2 = np.zeros(len(R))\n",
    "V3 = np.zeros(len(R))\n",
    "\n",
    "for i in range(len(R)):\n",
    "    V1 = potential(A, alpha, .5, R)\n",
    "    V2 = potential(A, alpha, 1, R)\n",
    "    V3 = potential(A, alpha, 1.5, R)\n",
    "    \n",
    "plt.plot(R, V1, label='R0=0.5')\n",
    "plt.plot(R, V2, label='R0=1.0')\n",
    "plt.plot(R, V3, label='R0=1.5')\n",
    "plt.xlabel('R')\n",
    "plt.ylabel('V(R)')\n",
    "plt.title('V(R) by varying R0')\n",
    "plt.legend()\n",
    "plt.show()"
   ]
  },
  {
   "cell_type": "markdown",
   "metadata": {},
   "source": [
    "Varying $R_0$ changes the placement of the equilibrium bond distance. As we can see above, each line's equilibrium bond distance falls roughly if not exactly where the $R_0$ value was set."
   ]
  },
  {
   "cell_type": "markdown",
   "metadata": {},
   "source": [
    "### 6. For each pair, draw a Lewis dot structure. Indicate which bond is stronger in the pair, and give a very brief rationalization: \n",
    "\n",
    "#### (a) H$_2$ vs LiH \n",
    "<br>\n",
    "<br>\n",
    "<br>\n",
    "\n",
    "\n",
    "#### (b) N$_2$ vs H$_2$\n",
    "<br>\n",
    "<br>\n",
    "<br>\n",
    "\n",
    "#### (c) N$_2$ vs CO\n",
    "<br>\n",
    "<br>\n",
    "<br>\n",
    "\n",
    "#### (d) H$_2$ vs He$_2$\n",
    "<br>\n",
    "<br>\n",
    "<br>"
   ]
  },
  {
   "cell_type": "markdown",
   "metadata": {
    "collapsed": true
   },
   "source": [
    "## Computational chemistry. \n",
    "### Today properties of a molecule are more often than not calculated rather than inferred. Quantitative molecular quantum mechanical calculations require specialized numerical solvers like [Orca](https://orcaforum.kofo.mpg.de/app.php/portal). Following are instructions for using Orca with the [Webmo](https://www.webmo.net/demoserver/cgi-bin/webmo/login.cgi) graphical interface."
   ]
  },
  {
   "cell_type": "markdown",
   "metadata": {},
   "source": [
    "### Now, let’s set up your calculation (you may do this with a partner or partners if you choose):\n",
    "1. Log into the Webmo server https://www.webmo.net/demoserver/cgi-bin/webmo/login.cgi using \"guest\" as your username and password.\n",
    "2. Select New Job-Creat New Job.\n",
    "3. Use the available tools to sketch a molecule.\n",
    "4. Use the right arrow at the bottom to proceed to the Computational Engines.\n",
    "5. Select Orca\n",
    "5. Select \"Molecular Energy,\" “B3LYP” functional and the default def2-SVP basis set.\n",
    "6. Select the right arrow to run the calculation.\n",
    "7. From the job manager window choose the completed calculation to view the results."
   ]
  },
  {
   "cell_type": "markdown",
   "metadata": {},
   "source": [
    "The molecule you are to study depends on your last name. Choose according to the list:\n",
    "+ A-G: **CO**\n",
    "+ H-R: **BN**\n",
    "+ S-Z: **BeO**"
   ]
  },
  {
   "cell_type": "markdown",
   "metadata": {},
   "source": [
    "For your convenience, here are the total energies (in Hartree, 27.212 eV/Hartree) of the constituent atoms, calculated using the B3LYP DFT treatment of $v_{ee}$ and the def2-SVP basis set:"
   ]
  },
  {
   "cell_type": "markdown",
   "metadata": {},
   "source": [
    "|Atom|Energy|Atom|Energy|\n",
    "|-|-|-|-|\n",
    "|B|–24.61703|N|\t-54.51279|\n",
    "|Be|-14.64102|O|-74.98784|\n",
    "|C|-37.79271|F|-99.60655|"
   ]
  },
  {
   "cell_type": "markdown",
   "metadata": {},
   "source": [
    "### 7. Construct a potential energy surface for your molecule. Using covalent radii, guess an approximate equilbrium bond length, and use the Webmo editor to draw the molecule with that length. Specify the “Molecular Energy” option to Orga and the def2-SVP basis set. Calculate and plot out total molecular energy vs. bond distance in increments of 0.05 Å about your guessed minimum, including enough points to encompass the actual minimum. (You will find it convenient to subtract off the individual atom energies from the molecular total energy and to convert to more convenient units, like eV or kJ/mol.) By fitting the few points nearest the minimum, determine the equilibrium bond length. How does your result compare to literature?"
   ]
  },
  {
   "cell_type": "code",
   "execution_count": 3,
   "metadata": {},
   "outputs": [
    {
     "data": {
      "image/png": "[encoded data removed]",
      "text/plain": [
       "<Figure size 432x288 with 1 Axes>"
      ]
     },
     "metadata": {
      "needs_background": "light"
     },
     "output_type": "display_data"
    }
   ],
   "source": [
    "R = np.array([1.6, 1.55, 1.50, 1.45, 1.40, 1.35, 1.30, 1.25, 1.20, 1.15, 1.10, 1.05, 1.00]) #A\n",
    "tE = np.array([-79.202, -79.218, -79.233, -79.247, -79.260, -79.270, -79.276, -79.277, -79.270, -79.253, -79.223, -79.175, -79.103]) # Hartree\n",
    "E = (tE + 24.61703 + 54.51279) # Hartree\n",
    "\n",
    "fitted = np.zeros(len(R))\n",
    "\n",
    "c2, c1, c0 = np.polyfit(R, E, 2)\n",
    "\n",
    "\n",
    "def quadfit(c2, c1, c0, x):\n",
    "    return (c2*x**2) + (c1*x) + c0\n",
    "\n",
    "for i in range(len(R)):\n",
    "    fitted[i] = quadfit(c2, c1, c0, R[i])\n",
    "\n",
    "min = quadfit(c2, c1, c0, 1.33237)\n",
    "    \n",
    "plt.plot(R,E, label='WebMO')\n",
    "plt.plot(R,fitted, label='Fitted Quad')\n",
    "plt.xlabel('Bond length (A)')\n",
    "plt.ylabel('Molecular Energy (Hartrees)')\n",
    "plt.legend()\n",
    "plt.plot(1.33237, min, 'b*')\n",
    "plt.show()"
   ]
  },
  {
   "cell_type": "markdown",
   "metadata": {},
   "source": [
    "According to NIST [https://cccbdb.nist.gov/exp2x.asp?casno=10043115], the ideal bond length is 1.325A, while the minimum found via the fitted function is 1.332A, which is remarkably close to the literature value. However, comparing the WebMO result of 1.25A as the ideal bond length, there is a larger difference between the two."
   ]
  },
  {
   "cell_type": "markdown",
   "metadata": {},
   "source": [
    "### 8. Use the quadratic fit from Question 8 to determine the harmonic vibrational frequency of your molecule, in cm$^{-1}$. Recall that the force constant is the second derivative of the energy at the minimum, and that the frequency (in wavenumbers) is related to the force constant according to $$\\tilde{\\nu} = \\frac{1}{2\\pi c}\\sqrt{\\frac{k}{\\mu}}$$"
   ]
  },
  {
   "cell_type": "code",
   "execution_count": 12,
   "metadata": {},
   "outputs": [
    {
     "name": "stdout",
     "output_type": "stream",
     "text": [
      "Frequency = 1309.533 cm^-1.\n"
     ]
    }
   ],
   "source": [
    "k = 2 * .707 # Hartree / A^2\n",
    "nK = k * (1/1E-16) * 4.36E-11 #erg/cm^2\n",
    "B = 10.811\n",
    "N = 14.0076\n",
    "mu = (B*N / (B+N)) * 1.66054E-24 #g\n",
    "ccm = 2.99792458E10 # cm/s\n",
    "h = 4.13566E-15 #eV * s\n",
    "hJ = 6.62607E-34 #J*s\n",
    "\n",
    "nu = (1 / (2 * np.pi * ccm)) * np.sqrt(nK/mu)\n",
    "print('Frequency = {:.3f} cm^-1.'.format(nu))"
   ]
  },
  {
   "cell_type": "markdown",
   "metadata": {},
   "source": [
    "### 9. Use your results to determine the zero-point-corrected bond energy of your molecule. How does this model compare with the experimental value?"
   ]
  },
  {
   "cell_type": "code",
   "execution_count": 25,
   "metadata": {},
   "outputs": [
    {
     "name": "stdout",
     "output_type": "stream",
     "text": [
      "The zero-point-corrected bond energy is: 2.984e-03 Hartrees.\n",
      "The ZPE from NIST is 3.443e-03 Hartrees.\n"
     ]
    }
   ],
   "source": [
    "hz = nu * ccm # Hz\n",
    "\n",
    "corr = .5 * hJ * hz # J\n",
    "fcorr = corr * 2.294E17 # J to Hartree\n",
    "\n",
    "print('The zero-point-corrected bond energy is: {:.3e} Hartrees.'.format(fcorr))\n",
    "\n",
    "litE = 755.6137 * 4.5563E-6 # convert from cm^1 to Hartrees\n",
    "print('The ZPE from NIST is {:.3e} Hartrees.'.format(litE))"
   ]
  },
  {
   "cell_type": "markdown",
   "metadata": {},
   "source": [
    "The model is a falls a bit short of the literature value. The calculated is $0.459*10^{-3}$ less than the literature value. The difference most like occurs because of the difference in considerations taken in by the respective models or calculation methods."
   ]
  },
  {
   "cell_type": "markdown",
   "metadata": {},
   "source": [
    "## Computational chemistry, part deux"
   ]
  },
  {
   "cell_type": "markdown",
   "metadata": {},
   "source": [
    "### Diatomics are a little mundane.  These same methods can be used to compute the properties of much more complicated things.  As example, the OQMD database <http://oqmd.org/> contains results for many solids. We don't have time to get this complicated in class, but at least you can compute properties of some molecules."
   ]
  },
  {
   "cell_type": "markdown",
   "metadata": {},
   "source": [
    "### 10. Working with some of your classmates, compute the equilibrium structures of C$_2$H$_6$, C$_2$H$_4$, and C$_2$H$_2$.  Compare their equilibrium C-C bond lengths.  Do they vary in the way you expect?\n",
    "\n",
    "1. Log into the Webmo server https://www.webmo.net/demoserver/cgi-bin/webmo/login.cgi using \"guest\" as your username and password.\n",
    "2. Select New Job-Creat New Job.\n",
    "3. Use the available tools to sketch a molecule.  Make sure the bond distances and angles are in a plausible range.\n",
    "4. Use the right arrow at the bottom to proceed to the Computational Engines.\n",
    "5. Select Orca\n",
    "5. Select \"Geometry optimization,\" “B3LYP” functional and the default def2-SVP basis set.\n",
    "6. Select the right arrow to run the calculation.\n",
    "7. From the job manager window choose the completed calculation to view the results."
   ]
  },
  {
   "cell_type": "markdown",
   "metadata": {},
   "source": [
    "Results:\n",
    "\n",
    "- $C_2H_6$ = 1.527 A\n",
    "- $C_2H_4$ = 1.334 A\n",
    "- $C_2H_2$ = 1.209 A\n",
    "\n",
    "These results vary in the way I expected because as the number of H decrease, the C-C bonds go from a single to double to triple bond, meaning the C-C bond shortens"
   ]
  },
  {
   "cell_type": "markdown",
   "metadata": {},
   "source": [
    "### 11. Compute the corresponding vibrational spectra.  Could you distinguish these molecules by their spectra?\n",
    "\n",
    "1. Log into the Webmo server https://www.webmo.net/demoserver/cgi-bin/webmo/login.cgi using \"guest\" as your username and password.\n",
    "2. Select the job with the optimized geometry and open it.\n",
    "3. Use the right arrow at the bottom to proceed to the Computational Engines.\n",
    "4. Select Orca\n",
    "5. Select \"Vibrational frequency,\" “B3LYP” functional and the default def2-SVP basis set.\n",
    "6. Select the right arrow to run the calculation.\n",
    "7. From the job manager window choose the completed calculation to view the results."
   ]
  },
  {
   "cell_type": "markdown",
   "metadata": {},
   "source": [
    "Yes, you could distinguish the molecules by the amount of vibrational modes that they exhibit. C2H6 has 18 modes, C2H4 has 12 modes, and C2H2 has 6 modes. This matches the results produced by WebMO.\n",
    "\n",
    "Furthermore, these vibrational modes exhibit characteristic peaks and peak splitting in the IR spectra. In ethane, we observe a large peak around 3100 cm^-1. The other two IR spectra lack this. Ethylene can be characterized by its two small peaks at 3100 and 3300 cm^-1, whereas acetylene is characterized by a moderate-sized, single peak at 3400 cm^-1.\n",
    "\n",
    "See appended document for reference."
   ]
  },
  {
   "cell_type": "markdown",
   "metadata": {},
   "source": [
    "### 12. Compute the structure and energy of H$_2$.   Use it to compare the energies to hydrogenate acetylene to ethylene and ethylene to ethane.  Which is easier to hydrogenate?  Can you see why selective hydrogenation of acetylene to ethylene is difficult to do?"
   ]
  },
  {
   "cell_type": "markdown",
   "metadata": {},
   "source": [
    "|Molecule| ZPE (Hartree)|\n",
    "|:---:|:---:|\n",
    "|$H_2$|-1.167|\n",
    "|$C_2H_2$|-77.221|\n",
    "|$C_2H_4$|-78.473|\n",
    "|$C_2H_6$|-79.706|"
   ]
  },
  {
   "cell_type": "markdown",
   "metadata": {},
   "source": [
    "To find the energy to hydrogenate acetylene to ethylene, we simply find the difference between the two zero-point-energies. For acetylene to ethylene, 1.252 Ha is required.\n",
    "\n",
    "Repeating the same for ethylene and ethane, we find that the difference in energies between the two is 1.233 Ha.\n",
    "\n",
    "Comparing the two hydrogenation reactions, we observe that it takes less energy to hydrogenate ethylene to ethane.\n",
    "\n",
    "We can observe that both hydrogenations require more energy than just adding the $H_2$ energy. This may be attributed to the additional energy required to break bonds from the C-C. It is harder to hydrogenate acetylene to ethylene because that reaction requires a triple bond to be broken. Since triple bonds are more stable and lower energy than double bonds, it requires more energy to break and thus the hydrogenation of acetylene to ethylene requires more energy than the hydrogenation of ethylene to ethane."
   ]
  }
 ],
 "metadata": {
  "anaconda-cloud": {},
  "kernelspec": {
   "display_name": "Python 3",
   "language": "python",
   "name": "python3"
  },
  "language_info": {
   "codemirror_mode": {
    "name": "ipython",
    "version": 3
   },
   "file_extension": ".py",
   "mimetype": "text/x-python",
   "name": "python",
   "nbconvert_exporter": "python",
   "pygments_lexer": "ipython3",
   "version": "3.7.4"
  }
 },
 "nbformat": 4,
 "nbformat_minor": 1
}
