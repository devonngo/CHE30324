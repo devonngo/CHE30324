{
 "cells": [
  {
   "cell_type": "markdown",
   "metadata": {},
   "source": [
    "# Chem 30324, Spring 2020, Homework 7\n",
    "\n",
    "## Devon Ngo\n",
    "\n",
    "### Due March 27, 2020"
   ]
  },
  {
   "cell_type": "code",
   "execution_count": 1,
   "metadata": {},
   "outputs": [],
   "source": [
    "# import libraries\n",
    "import numpy as np\n",
    "import math as m\n",
    "from scipy.integrate import quad\n",
    "import matplotlib.pyplot as plt\n",
    "from sympy import *"
   ]
  },
  {
   "cell_type": "markdown",
   "metadata": {},
   "source": [
    "## Variations on the hydrogen atom:\n",
    "### The *variational principle* guarantees that the expectation value of the energy of a guessed wavefunction is allows greater than that of the true lowest energy solution. Here you will apply the variational principle to the H atom.  For this problem it is easiest to work in atomic units.  In these units, $\\hbar$, $a_0$, and $4\\pi\\epsilon_0$ are all equal to 1 and the unit of energy is the Hartree, equivalent to 27.212 eV.  In atomic units the H atom Schrödinger equation is written:\n",
    "\n",
    "$$\\left \\{-\\frac{1}{2}\\frac{d^2}{dr^2} - \\frac{1}{r}\\frac{d}{dr}-\\frac{1}{r}+\\frac{l(l+1)}{2r^2}  \\right \\}R(r) = ER(r)$$"
   ]
  },
  {
   "cell_type": "markdown",
   "metadata": {},
   "source": [
    "### 1. Suppose in a fit of panic you forget the 1s radial function when asked on an exam. Not wanting to leave the answer blank, you decide to guess something, and liking bell-shaped curves, you guess $R_{10}(r) = e^{-r^2}$.  Normalize this guess. Do not forget to include the $r^2$ Jacobian integration factor."
   ]
  },
  {
   "cell_type": "markdown",
   "metadata": {},
   "source": [
    "Using the normalization constant, $F$, we have $$\\tilde R_{10}(r) = Fe^{-r^2}$$\n",
    "$$\\int^{\\infty}_0 \\tilde R_{10}(r) * \\tilde R_{10}(r) * r^2 dr = 1$$\n",
    "$$\\int^{\\infty}_0 r^2 F^2 e^{-2r^2} dr = 1$$\n",
    "$$F^2 = \\frac {1}{\\int^\\infty_0 r^2e^{-2r^2}}dr$$\n",
    "$$F = \\sqrt{\\frac {1}{\\int^\\infty_0 r^2e^{-2r^2}}dr}$$\n",
    "\n",
    "So to find the normalized guess, we multiply the guess by the normalization factor, $F$. We find that:\n",
    "$$\\tilde R_{10}(r) = e^{-r^2}\\sqrt{\\frac {1}{\\int^\\infty_0 r^2e^{-2r^2}}dr}$$"
   ]
  },
  {
   "cell_type": "code",
   "execution_count": 2,
   "metadata": {},
   "outputs": [
    {
     "name": "stdout",
     "output_type": "stream",
     "text": [
      "Normalized guess =\n",
      "                    2\n",
      "                  -r \n",
      "2.52647511098426⋅ℯ   \n"
     ]
    }
   ],
   "source": [
    "def fnR(r):\n",
    "    return r**2 * np.exp(-2*r**2)\n",
    "\n",
    "ans = quad(fnR, 0, np.inf)[0]\n",
    "\n",
    "F = np.sqrt(1/ans) # normalization cst\n",
    "r = Symbol('r')\n",
    "print('Normalized guess =')\n",
    "pprint( F * exp(-r**2))"
   ]
  },
  {
   "cell_type": "markdown",
   "metadata": {},
   "source": [
    "### 2. Calculate the expectation value of the energy of your normalized guess.  Is it greater or less than the true value?"
   ]
  },
  {
   "cell_type": "markdown",
   "metadata": {},
   "source": [
    "From $$\\left \\{-\\frac{1}{2}\\frac{d^2}{dr^2} - \\frac{1}{r}\\frac{d}{dr}-\\frac{1}{r}+\\frac{l(l+1)}{2r^2}  \\right \\}R(r) = ER(r)$$ we insert $l=0$ for the 1s orbital. This results in:\n",
    "$$\\left \\{-\\frac{1}{2}\\frac{d^2}{dr^2} - \\frac{1}{r}\\frac{d}{dr}-\\frac{1}{r}  \\right \\}R(r) = ER(r)$$\n",
    "Using the derivatives from the equation in part 1 and substituting into the equation above, we get:\n",
    "$$ -\\frac{1}{2} \\frac{d^2}{dr^2} \\tilde R_{10}(r) - \\frac{1}{r} \\frac{d}{dr} \\tilde R_{10}(r) - \\frac{\\tilde R_{10}(r)}{r} = H\\tilde R_{10}(r)$$\n",
    "Simplifying the equation, we find that:\n",
    "$$-2Nr^2e^{-r^2}+3Ne^{-r^2}-\\frac{Ne^{-r^2}}{r} = H\\tilde R_{10}(r)$$ which is equal to:\n",
    "$$Ne^{-r^2}(-2r^2+3-\\frac{1}{r}) =  H\\tilde R_{10}(r)$$\n",
    "\n",
    "To find the expectation value, we use the equation $<E>=<\\tilde R_{10}(r)|\\hat H|\\tilde R_{10}(r)>$ which results in:\n",
    "$$<E>=N^2\\int ^\\infty _0 e^{-2r^2}(-2r^4+3r^2-r)dr$$"
   ]
  },
  {
   "cell_type": "code",
   "execution_count": 7,
   "metadata": {},
   "outputs": [
    {
     "name": "stdout",
     "output_type": "stream",
     "text": [
      "-1.59576912160573 + 0.598413420602149*sqrt(2)*sqrt(pi)\n"
     ]
    }
   ],
   "source": [
    "ex =  F**2*integrate(exp(-2*r**2)*(-2*r**4+3*r**2-r),(r,0,np.inf))\n",
    "print(ex)"
   ]
  },
  {
   "cell_type": "code",
   "execution_count": 12,
   "metadata": {},
   "outputs": [
    {
     "name": "stdout",
     "output_type": "stream",
     "text": [
      "The expected energy value is -0.096 Hartree.\n",
      "The true energy value is -0.500 Hartree.\n",
      "\n",
      "The expected value is greater than the true value.\n"
     ]
    }
   ],
   "source": [
    "E = -1.59576912160573 + 0.598413420602149*np.sqrt(2)*sqrt(np.pi)\n",
    "print('The expected energy value is {:.3f} Hartree.'.format(E))\n",
    "\n",
    "trueVal = (-1/2)*(1/1**2) # E = -(Eh/2) * (1/N^2)\n",
    "print('The true energy value is {:.3f} Hartree.'.format(trueVal))\n",
    "\n",
    "print('\\nThe expected value is greater than the true value.')"
   ]
  },
  {
   "cell_type": "markdown",
   "metadata": {},
   "source": [
    "### 3. What does the variational principle say about the expectation value of the energy of your guess as you vary a parameter $\\gamma$ in your guess, $R_{10}=e^{-\\gamma r^2}$?  Suggest a strategy for determining the \"best\" $\\gamma$."
   ]
  },
  {
   "cell_type": "markdown",
   "metadata": {},
   "source": [
    "The variation principle states that the expectation value as you vary $\\gamma$ in your guess should decrease as you approach the best guess. A strategy for determining the best $\\gamma$ could be:\n",
    "\n",
    "- Normalize the guess function\n",
    "- Find an equation for the expectation value for the normalized guess function\n",
    "- Find a point where the derivative of the equation approaches 0, or is the closest to 0.\n",
    "- The energy value at the corresponding point where $\\frac{dE_\\gamma}{d\\gamma}=0$ will have the best $\\gamma$."
   ]
  },
  {
   "cell_type": "markdown",
   "metadata": {},
   "source": [
    "### 3.5 *Extra credit*: Determine the best value of $\\gamma$.  Show and carefully justify your work to receive credit."
   ]
  },
  {
   "cell_type": "markdown",
   "metadata": {},
   "source": [
    "## Many-electrons means many troubles\n",
    "### Helium (He) is only one electron larger than hydrogen, but that one more electron makes a big difference in difficulty in setting up and solving the Schrödinger equation."
   ]
  },
  {
   "cell_type": "markdown",
   "metadata": {},
   "source": [
    "### 4. Write down in as much detail as you can the exact Schrödinger equation for the electrons in a He atom."
   ]
  },
  {
   "cell_type": "markdown",
   "metadata": {},
   "source": [
    "$$\\left\\{-\\frac{\\hbar^2}{2m_e}(\\nabla_1^2+\\nabla_2^2)-\\frac{2e^2}{4 \\pi \\epsilon_0}(\\frac{1}{|\\vec{r_1}|}+\\frac{1}{|\\vec{r_2}|}) + \\frac{e^2}{4\\pi \\epsilon_0} \\frac{1}{|\\vec{r_1}-\\vec{r_2}|}\\right\\} \\Psi(\\vec{r_1}\\vec{r_2}) = E\\Psi(\\vec{r_1}\\vec{r_2})$$"
   ]
  },
  {
   "cell_type": "markdown",
   "metadata": {},
   "source": [
    "### 5. This equation is conventionally solved within the \"independent electron\" approximation, by writing an effective one-electron Schrödinger equation with approximate potentials (shown below in atomic units).  Briefly, what does it mean to solve this equation \"self-consistently\"?\n",
    "\n",
    "$$\\left\\{-\\frac{1}{2}\\nabla^2 - \\frac{2}{r} + \\hat v_\\mathrm{Coul}[\\psi_i] + \\hat\n",
    "            v_\\mathrm{ex}[\\psi_i]+\\hat v_\\mathrm{corr}[\\psi_i] \\right\\}\\psi=\\epsilon\\psi$$\n",
    "            \n"
   ]
  },
  {
   "cell_type": "markdown",
   "metadata": {},
   "source": [
    "Solving this equation self-consistently means that we begin with a guess and use that guess to try to solve what we are trying to find. The solution will give a new $\\psi$ and potentials, so we use that until the difference between the input and output $\\psi$ and potentials begin to converge. The solution is the point where they fall within the tolerance."
   ]
  },
  {
   "cell_type": "markdown",
   "metadata": {},
   "source": [
    "### 6. How many solutions are needed to describe the electrons in a He atom?  Provide a possible set of quantum numbers ($n, l, m_l , m _s$)  for each electron."
   ]
  },
  {
   "cell_type": "markdown",
   "metadata": {},
   "source": [
    "We have two electrons, so we'll need two equations. The possible quantum numbers are $(1, 0, 0, -\\frac{1}{2})$ and $(1, 0, 0, \\frac{1}{2})$ for the two electrons."
   ]
  },
  {
   "cell_type": "markdown",
   "metadata": {},
   "source": [
    "### 7. The Schrödinger equation has five terms, or operators, on the left.  Identify the physical meaning of each term and the *sign* of the expectation value when it is applied to one of the solutions."
   ]
  },
  {
   "cell_type": "markdown",
   "metadata": {},
   "source": [
    "The kinetic energy, $-\\frac{1}{2}\\nabla^2$ represents the energy of an electron moving around. This has a negative expectation value.\n",
    "\n",
    "The attraction to nucleus,$\\frac{2}{r}$, is the attractive force between the electron and nucleus. This has a negative expectation value.\n",
    "\n",
    "The coulombic potentional, $\\hat v_\\mathrm{Coul}[\\psi_i]$, represents the repulsive forces between electrons. This has a positive expectation value.\n",
    "\n",
    "The exchange potential, $\\hat v_\\mathrm{ex}[\\psi_i]$, accounts for the quantum mechanical properties of electrons and imposes constrains such as 2 electrons per orbital with opposite spins. This has a negative expectation value.\n",
    "\n",
    "The correlation potential, $\\hat v_\\mathrm{corr}[\\psi_i]$, accounts for the electrons being in different places instantaneously because of repulsion and other effects. This has a negative expectation value."
   ]
  },
  {
   "cell_type": "markdown",
   "metadata": {},
   "source": [
    "### Sophisticated computer programs that solve the many-electron Schrödinger equation are now widely available and powerful tool for predicting the properties of atoms, molecules, solids, and interfaces. *Density functional theory* (DFT) is the most common set of approximations for the electron-electron interactions used today. In this problem you’ll do a DFT calculation using the *Orca* program (<https://www.its.hku.hk/services/research/hpc/software/orca>)."
   ]
  },
  {
   "cell_type": "markdown",
   "metadata": {},
   "source": [
    "### Now, let’s set up your calculation (you may do this with a partner or two if you choose):\n",
    "1. Log into the Webmo server https://www.webmo.net/demoserver/cgi-bin/webmo/login.cgi using \"guest\" as your username and password.\n",
    "2. Select New Job-Creat New Job.\n",
    "3. Use the available tools to draw an atom on the screen.\n",
    "4. Use the right arrow at the bottom to proceed to the Computational Engines.\n",
    "5. Choose Orca\n",
    "6. Select “Molecular Orbitals” for the Calculation type, “PBE” for theory, “def2-SVP” for the basis set, “0” for the charge, an appropriate value for the \"Multiplicity\", and check “Unrestricted.” \n",
    "7. Select the right arrow to run the calculation.\n",
    "8. From the job manager window choose the completed calculation to view the results.\n",
    "9. For fun, click on the Magnifying Glass icons to see the molecular orbitals in 3-D. You may have to play around with the Display Settings and Preferences to get good views."
   ]
  },
  {
   "cell_type": "markdown",
   "metadata": {},
   "source": [
    "### 8. Perform calculations across the first row of the periodic table (B, C, N, O, F, Ne).  Make a table of energies of the occupied orbitals and identify them by their shell ( $n = 1, 2, \\ldots$) and subshell (s, p, d, ...). "
   ]
  },
  {
   "cell_type": "markdown",
   "metadata": {},
   "source": [
    "Found using PBE\n",
    "\n",
    "| | B | C | N | O | F | Ne |\n",
    "|:---:|:---:|:---:|:---:|:---:|:---:|:---:|\n",
    "|1s| -6.622 au |-10.021 au |-14.096 au |-18.880 au |-24.336 au |-30.460 au |\n",
    "|1s| -6.613 au |-9.993 au |-14.041 au |-18.833 au |-24.308 au |-30.460 au |\n",
    "|2s| -0.347 au |-0.515 au |-0.703 au |-0.884 au |-1.071 au |-1.264 au |\n",
    "|2s| -0.311 au |-0.421 au |-0.535 au |-0.753 au |-0.999 au |-1.264 au |\n",
    "|2p| -0.151 au |-0.217 au |-0.292 au |-0.378 au |-0.465 au |-0.448 au |\n",
    "|2p|--- |-0.217 au |-0.292 au |-0.378 au |-0.373 au |-0.448 au |\n",
    "|2p|--- |--- |-0.292 au |-0.298 au |-0.373 au |-0.448 au |\n",
    "|2p|--- |--- |--- |-0.252 au |-0.344 au |-0.448 au |\n",
    "|2p|--- |--- |--- |--- |-0.344 au |-0.448 au |\n",
    "|2p|--- |--- |--- |--- |--- |-0.448 au |"
   ]
  },
  {
   "cell_type": "markdown",
   "metadata": {},
   "source": [
    "### 9. Contrast the energies of the 1s electrons across the series.  Determine the wavelength of light necessary to remove each 1s electron. What range of the spectrum is this light in?"
   ]
  },
  {
   "cell_type": "code",
   "execution_count": 13,
   "metadata": {},
   "outputs": [
    {
     "name": "stdout",
     "output_type": "stream",
     "text": [
      "For the 1s electron in B the wavelength required is -6.885e-09 m.\n",
      "For the 1s electron in C the wavelength required is -4.550e-09 m.\n",
      "For the 1s electron in N the wavelength required is -3.235e-09 m.\n",
      "For the 1s electron in O the wavelength required is -2.415e-09 m.\n",
      "For the 1s electron in F the wavelength required is -1.874e-09 m.\n",
      "For the 1s electron in Ne the wavelength required is -1.497e-09 m.\n",
      "\n",
      "This is in the x-ray region.\n"
     ]
    }
   ],
   "source": [
    "atom = np.array(['B','C','N','O','F','Ne'])\n",
    "au = np.array([-6.622, -10.021, -14.096, -18.880, -24.336, -30.460]) # energy in au\n",
    "energy = np.zeros(len(au))\n",
    "wl = np.zeros(len(atom))\n",
    "\n",
    "h = 6.62607015E-34\n",
    "c = 3E8\n",
    "\n",
    "for i in range(len(au)):\n",
    "    energy[i] = au[i] * 4.35974E-18 # Hartrees to J\n",
    "    wl[i] = (h*c)/energy[i]\n",
    "    print('For the 1s electron in', atom[i], 'the wavelength required is {:.3e} m.'.format(wl[i]))\n",
    "\n",
    "print('\\nThis is in the x-ray region.')"
   ]
  },
  {
   "cell_type": "markdown",
   "metadata": {},
   "source": [
    "### 10. Why, qualitatively, do the energies vary as they do?"
   ]
  },
  {
   "cell_type": "markdown",
   "metadata": {},
   "source": [
    "As the nucleus grows larger, the nucleus increases in positive charge, drawing the electron closer to the nucleus and stabilizing the electron. This means that the energy of the electron is lowered. As it is the closest electron to the nucleus, it will have the lowest energy. The larger and more positive the nucleus, the lower the energy of the 1s electron."
   ]
  },
  {
   "cell_type": "markdown",
   "metadata": {},
   "source": [
    "### 11. Compare the energies of the highest-energy (valence) electrons compare across the series. Determine the wavelength of light necessary to remove each valence electron. What range of the spectrum is this light in?"
   ]
  },
  {
   "cell_type": "code",
   "execution_count": 14,
   "metadata": {},
   "outputs": [
    {
     "name": "stdout",
     "output_type": "stream",
     "text": [
      "For the 1s electron in B the wavelength required is -3.020e-07 m.\n",
      "For the 1s electron in C the wavelength required is -2.101e-07 m.\n",
      "For the 1s electron in N the wavelength required is -1.561e-07 m.\n",
      "For the 1s electron in O the wavelength required is -1.809e-07 m.\n",
      "For the 1s electron in F the wavelength required is -1.325e-07 m.\n",
      "For the 1s electron in Ne the wavelength required is -1.018e-07 m.\n",
      "\n",
      "This is in the UV region.\n"
     ]
    }
   ],
   "source": [
    "atom = np.array(['B','C','N','O','F','Ne'])\n",
    "au = np.array([-0.151, -0.217, -0.292, -0.252, -0.344, -0.448]) # energy in au\n",
    "energy = np.zeros(len(au))\n",
    "wl = np.zeros(len(atom))\n",
    "\n",
    "h = 6.62607015E-34\n",
    "c = 3E8\n",
    "\n",
    "for i in range(len(au)):\n",
    "    energy[i] = au[i] * 4.35974E-18 # Hartrees to J\n",
    "    wl[i] = (h*c)/energy[i]\n",
    "    print('For the 1s electron in', atom[i], 'the wavelength required is {:.3e} m.'.format(wl[i]))\n",
    "\n",
    "print('\\nThis is in the UV region.')"
   ]
  },
  {
   "cell_type": "markdown",
   "metadata": {},
   "source": [
    "### 12. Why, qualitatively, do the energies vary as they do?"
   ]
  },
  {
   "cell_type": "markdown",
   "metadata": {},
   "source": [
    "The more valence electrons that are present in an electron, the more stable the individual valence electron is. As an atom increases its amount of valence electrons, the more stable those valence electrons become. "
   ]
  }
 ],
 "metadata": {
  "anaconda-cloud": {},
  "kernelspec": {
   "display_name": "Python 3",
   "language": "python",
   "name": "python3"
  },
  "language_info": {
   "codemirror_mode": {
    "name": "ipython",
    "version": 3
   },
   "file_extension": ".py",
   "mimetype": "text/x-python",
   "name": "python",
   "nbconvert_exporter": "python",
   "pygments_lexer": "ipython3",
   "version": "3.7.4"
  }
 },
 "nbformat": 4,
 "nbformat_minor": 1
}
