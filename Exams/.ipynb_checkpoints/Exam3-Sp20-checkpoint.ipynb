{
 "cells": [
  {
   "cell_type": "markdown",
   "metadata": {},
   "source": [
    "# Chem 30324, Spring 2020, Exam 3\n"
   ]
  },
  {
   "cell_type": "markdown",
   "metadata": {},
   "source": [
    "### April 14, 2020, 9 am EDT to 9 pm EDT"
   ]
  },
  {
   "cell_type": "markdown",
   "metadata": {},
   "source": [
    "### You have 12 hours to complete this exam.  You may refer to the extended outline available on the course website, to the HW 7, HW 8, and HW 9 solutions, and your two pages of written notes, which you must turn in with your solution.  When you are done, create a pdf and upload to Gradescope, as you have done with your homeworks."
   ]
  },
  {
   "cell_type": "markdown",
   "metadata": {},
   "source": [
    "## Name: Devon Ngo"
   ]
  },
  {
   "cell_type": "markdown",
   "metadata": {},
   "source": [
    "## 1. Quantum atoms (15 pts)\n",
    "Quantum mechanics helps us explain periodic trends in the properties of atoms.  Consider the halogens, group 7:  F, Cl, Br, I."
   ]
  },
  {
   "cell_type": "markdown",
   "metadata": {},
   "source": [
    "1.1  (3 pts) What do you expect for the spin multiplicity of each atom?\n",
    "\n",
    "For the halogens, we note that they all have incomplete P orbitals, all with 5 electrons in their respective P orbitals. There are three different P orbitals, meaning that there will be two paired electrons and 1 unpaired electron ($Spin =2*0 + 1*\\frac{1}{2} = \\frac{1}{2}$). Using $2s+1 = 2*\\frac{1}{2} + 1 = 2$, we find that all halogens have a spin multiplicity of doublet.\n",
    "\n",
    "<br>"
   ]
  },
  {
   "cell_type": "markdown",
   "metadata": {},
   "source": [
    "1.2 (3 pts) Rank the atoms in terms of their first ionization energy (i.e.,minimum energy to remove a valence electron).\n",
    "\n",
    "From most energy to least: F > Cl > Br > I\n",
    "\n",
    "<br>"
   ]
  },
  {
   "cell_type": "markdown",
   "metadata": {},
   "source": [
    "1.3 (3 pts) Rank the atoms in terms of the frequency of light ($h\\nu$) necessary to eject a 1s electron from them.\n",
    "\n",
    "The 1s electrons are the closest electrons to the nucleus and feel the full attractive force of it. Therefore as it grows larger, more energy is needed to eject that 1s electron, which corresponds to a shorter wavelength and higher frequency. \n",
    "\n",
    "I > Br > Cl > F\n",
    "\n",
    "<br>"
   ]
  },
  {
   "cell_type": "markdown",
   "metadata": {},
   "source": [
    "1.4 (3 pts) All the halogens exist as dimers in their elemental state (F$_2$, Cl$_2$, ...). Rank the dimeric elements according to increasing boiling point.\n",
    "\n",
    "F$_2$ < Cl$_2$ < Br$_2$ < I$_2$\n",
    "\n",
    "<br>"
   ]
  },
  {
   "cell_type": "markdown",
   "metadata": {},
   "source": [
    "1.5 (3 pts) The halogen dimers all have a bond order of 1.  Do they all have the same bond energy?  If not, which do you think will have the strongest bond?\n",
    "\n",
    "No, because other properties, such as size, electron shielding, etc., will have an effect on the bond energy. F$_2$ could have the strongest bond, but depending on nuclear repulsion, it could be weaker than Cl$_2$. Br$_2$ and I$_2$ are huge, so they have more distance between their nuclei and have a weaker bond."
   ]
  },
  {
   "cell_type": "markdown",
   "metadata": {},
   "source": [
    "## 2.Tunneling will bring us together (53 pts)"
   ]
  },
  {
   "cell_type": "markdown",
   "metadata": {},
   "source": [
    "Applications of the Schrödinger equation to molecules is complicated by the many interactions between electrons and nuclei.  Here we'll look at the simplest possible case, H$_2$."
   ]
  },
  {
   "cell_type": "markdown",
   "metadata": {},
   "source": [
    "2.1 (2 pts) How many of what types of particles make up an H$_2$ molecule?\n",
    "\n",
    "Two types of particles: protons and electrons. We have 2 protons and 2 electrons in H$_2$.\n",
    "\n",
    "<br>"
   ]
  },
  {
   "cell_type": "markdown",
   "metadata": {},
   "source": [
    "2.2 (4 pts) In describing the molecule quantum mechanically, we commonly make the \"Born-Oppenheimer\" approximation? What is that approximation?\n",
    "\n",
    "The 'Born-Oppenheimer' approximation is an approximation made by assuming that we can model electrons individually as they move around, assuming that the nucleus remains in place.\n",
    "\n",
    "<br>"
   ]
  },
  {
   "cell_type": "markdown",
   "metadata": {},
   "source": [
    "2.3 The standard strategy is to describe the molecule in terms of individual electron wavefunctions, often called \"orbitals.\" The equation for the electron wavefunctions of H$_2$ (in atomic units) is shown below.  **Briefly identify the meaning of each term as well as the sign (positive or negative) of the contribution to the H$_2$energy.**\n",
    "\n",
    "$$ \\left \\{-\\frac{1}{2}\\nabla^2 -\\frac{1}{|\\mathbf{r}-\\mathbf{R}_A|} -\\frac{1}{|\\mathbf{r}-\\mathbf{R}_B|}+\\hat{v}_\\text{Coulomb} + \\hat{v}_\\text{exchange} +\\hat{v}_\\text{correlation}\\right \\} \\psi_i = \\epsilon_i\\psi_i$$"
   ]
  },
  {
   "cell_type": "markdown",
   "metadata": {},
   "source": [
    "2.3.1 (3 pts) $$-\\frac{1}{2}\\nabla^2$$\n",
    "\n",
    "This is the kinetic energy, which is always positive."
   ]
  },
  {
   "cell_type": "markdown",
   "metadata": {},
   "source": [
    "2.3.2 (3 pts)$$-\\frac{1}{|\\mathbf{r}-\\mathbf{R}_A|} -\\frac{1}{|\\mathbf{r}-\\mathbf{R}_B|}$$\n",
    "\n",
    "This is the attraction between the electron and nucleus, which is negative."
   ]
  },
  {
   "cell_type": "markdown",
   "metadata": {},
   "source": [
    "2.3.3 (3 pts) $$\\hat{v}_\\text{Coulomb}$$\n",
    "\n",
    "This is the classical repulsion between distinguishable electron clouds, which is positive."
   ]
  },
  {
   "cell_type": "markdown",
   "metadata": {},
   "source": [
    "2.3.4 (3 pts) $$\\hat{v}_\\text{exchange}$$\n",
    "\n",
    "This accounts for electron indistinguishability and decreases Coulomb repulsion since electrons with similar spins avoid each other. This is negative."
   ]
  },
  {
   "cell_type": "markdown",
   "metadata": {},
   "source": [
    "2.3.4 (3 pts) $$\\hat{v}_\\text{correlation}$$\n",
    "\n",
    "This decreases Coulomb repulsion because electrons can avoid one another. This is negative.\n",
    "\n",
    "<br>"
   ]
  },
  {
   "cell_type": "markdown",
   "metadata": {},
   "source": [
    "2.4 (4 pts) Briefly, why do the electron wavefunctions have to be solved for \"self-consistently\"?\n",
    "\n",
    "Since potential terms depend on the wavefunction solved, it means that we use a wavefunction to find new potential terms, solve for new potential terms using that new wavefunction term and repeat until the two wavefunctions are the same or within a specific tolerance level of each other.\n",
    "\n",
    "<br>"
   ]
  },
  {
   "cell_type": "markdown",
   "metadata": {},
   "source": [
    "2.5 (4 pts) Briefly, how might the *variational principle* be helpful in solving the Schrödinger equation?\n",
    "\n",
    "The variational principle tells us that we are bounded from below by the true value; our guesses will be above. Therefore, as we are solving the Schrodinger equation and are getting smaller and smaller values, we know that we are approaching the true value.\n",
    "\n",
    "<br>"
   ]
  },
  {
   "cell_type": "markdown",
   "metadata": {},
   "source": [
    "2.6 (4 pts)  On the graph below, approximately sketch the potential energy (attraction to the two nuclei, A and B) felt by an electron  along the axis connecting the two nuclei. (*Hint*: Which term from Equation 2.3 does this correspond to?)"
   ]
  },
  {
   "cell_type": "markdown",
   "metadata": {},
   "source": [
    "![HH](imgs/HH2.png)"
   ]
  },
  {
   "cell_type": "markdown",
   "metadata": {},
   "source": [
    "2.7 (8 pts)  Let's call the lowest energy solution to the H$_2$ Schrödinger equation $\\psi_1$. On the graph below, sketch the approximate value of $\\psi_1$ along the internuclear axis.  Indicate the location of any nodes, the most probable location(s) of an electron along this axis, and the average location of an electron along this axis. (No calculations required!)"
   ]
  },
  {
   "cell_type": "markdown",
   "metadata": {},
   "source": [
    "![HH](imgs/HH2.png)"
   ]
  },
  {
   "cell_type": "markdown",
   "metadata": {},
   "source": [
    "2.8 (4 pts) What else, other than the quantities expressed in equation 2.3, contribute to the total internal  energy of an H$_2$ molecule at 0 K? There are two answers; bonus points for identifying both!\n",
    "\n",
    "At 0 K, gravitational attractive energy could contribute to the total internal energy of a $H_2$ molecule.\n",
    "\n",
    "<br>"
   ]
  },
  {
   "cell_type": "markdown",
   "metadata": {},
   "source": [
    "2.9 (8 pts) On the graph below, approximately sketch the H$_2$ total energy vs interatomic distance. Indicate on the graph the equilibrium internuclear distance ($R_e$), the bond dissociation energy ($\\Delta E(0)$), and the zero point vibrational energy.  Remember to properly label both axes, including appropriate units."
   ]
  },
  {
   "cell_type": "markdown",
   "metadata": {},
   "source": [
    "![T](imgs/T.png)"
   ]
  },
  {
   "cell_type": "markdown",
   "metadata": {},
   "source": [
    "## 3. Energy, entropy, temperature (32 pts)"
   ]
  },
  {
   "cell_type": "markdown",
   "metadata": {},
   "source": [
    "Consider a box that contains six distinguishable marbles, each of which can exist in one of two energy states, 0 or $\\varepsilon$."
   ]
  },
  {
   "cell_type": "markdown",
   "metadata": {},
   "source": [
    "3.1 (7 pts) Suppose the box is isolated, surrounded by adiabatic walls. Complete the table below for the possible internal energy states $U$, their degeneracies, and corresponding entropies of the box:\n",
    "\n",
    "| $U/ \\varepsilon $ | $\\Omega$ | $S/k_B$ |\n",
    "|:------------------:|:----------:|:---------:|\n",
    "| 0| 1|$\\ln 1 = 0$ |\n",
    "| 1| 6|$\\ln 6 = 1.792$|\n",
    "|2 | 15|$\\ln 15 = 2.708$|\n",
    "| 3| 20|$\\ln 20 = 2.996$|\n",
    "|4 | 15|$\\ln 15 = 2.708$|\n",
    "| 5| 6|$\\ln 6 = 1.792$|\n",
    "| 6| 1|$\\ln 1 = 0$|\n",
    "\n",
    "$N = 6$; \n",
    "$\\Omega = \\frac{N!}{q!(N-q)!}$"
   ]
  },
  {
   "cell_type": "code",
   "execution_count": 11,
   "metadata": {},
   "outputs": [
    {
     "name": "stdout",
     "output_type": "stream",
     "text": [
      "U = 1; Omega =  6; S/kb = ln 6 = 1.792\n",
      "U = 2; Omega = 15; S/kb = ln 15 = 2.708\n",
      "U = 3; Omega = 20; S/kb = ln 20 = 2.996\n",
      "U = 4; Omega = 15; S/kb = ln 15 = 2.708\n",
      "U = 5; Omega =  6; S/kb = ln 6 = 1.792\n",
      "U = 6; Omega =  1; S/kb = ln 1 = 0.000\n"
     ]
    }
   ],
   "source": [
    "import numpy as np\n",
    "import math as m\n",
    "\n",
    "def omega(N,q):\n",
    "    top = m.factorial(N)\n",
    "    bot = m.factorial(q) * m.factorial(N-q)\n",
    "    return top / bot\n",
    "\n",
    "def S(omega):\n",
    "    return np.log(omega)\n",
    "\n",
    "\n",
    "N = 6\n",
    "q = [1,2,3,4,5,6] # U/E = q\n",
    "degen = np.zeros(len(q))\n",
    "s = np.zeros(len(q))\n",
    "\n",
    "for i in range(len(q)):\n",
    "    degen[i] = omega(N, q[i])\n",
    "    s[i] = S(degen[i])\n",
    "    print('U = {0:1g}; Omega = {1:2g}; S/kb = ln {2:1g} = {3:.3f}'.format(q[i], degen[i], degen[i], s[i]))"
   ]
  },
  {
   "cell_type": "markdown",
   "metadata": {},
   "source": [
    "3.2 (1 pt) What value of $U$ maximizes the entropy of the box?\n",
    "\n",
    "$U = 3$ maximizes the entropy of the box.\n",
    "\n",
    "<br>"
   ]
  },
  {
   "cell_type": "markdown",
   "metadata": {},
   "source": [
    "3.3 (8 pts) Imagine this box is put into thermal equilibrium with some big reservoir of temperature $T$. Write down the partition function $Q(N,T)$ for the box as a function of $\\beta=1/k_B T $.\n",
    "\n",
    "Assuming that each marble is identical, we can use the equation $Q(N,V,T) = q^N$ where:\n",
    "\n",
    "$q = e^{-0 \\varepsilon \\beta} + e^{-\\varepsilon \\beta}$\n",
    "\n",
    "$q = 1 + e^{-\\varepsilon \\beta}$\n",
    "\n",
    "Now to apply $Q(N,V,T) = q^N$, we have:\n",
    "\n",
    "$Q(N,V,T) = (1 + e^{-\\varepsilon \\beta})^6$\n",
    "\n",
    "<br>"
   ]
  },
  {
   "cell_type": "markdown",
   "metadata": {},
   "source": [
    "3.4 (8 pts)  Write down an expression for the internal energy $U$ of the box as a function of $\\beta = 1/k_B T$.\n",
    "\n",
    "$U = -6(\\frac{\\partial \\ln(1+e^{-\\varepsilon \\beta})}{\\partial \\beta}) = -\\frac{6}{q} \\frac{\\partial (1+2e^{-\\varepsilon \\beta})}{\\partial \\beta}$\n",
    "\n",
    "$U = 6 * (\\varepsilon \\frac{e^{-\\varepsilon \\beta}}{q}) =\\frac{6 \\varepsilon e^{-\\varepsilon \\beta}}{q} $\n",
    "\n",
    "<br>"
   ]
  },
  {
   "cell_type": "markdown",
   "metadata": {},
   "source": [
    "3.5 (4 pts) What is the internal energy of the box in the limit that $\\beta\\rightarrow 0$, ie $T\\rightarrow\\infty$?\n",
    "\n",
    "As $T\\rightarrow\\infty$ and $\\beta\\rightarrow 0$, we see that $q$ goes to 2, which results in the fraction within the internal energy equation being $\\frac{1}{2}$. This results in:\n",
    "\n",
    "$U = \\frac{6 \\varepsilon}{2} = 3 \\varepsilon $\n",
    "\n",
    "<br>"
   ]
  },
  {
   "cell_type": "markdown",
   "metadata": {},
   "source": [
    "3.6 (4 pts) From the results of question 3.1, what is the entropy of the box in the limit that $\\beta\\rightarrow 0$, ie $T\\rightarrow\\infty$?"
   ]
  },
  {
   "cell_type": "markdown",
   "metadata": {},
   "source": [
    "As seen in question 3.5, as $\\beta \\rightarrow \\infty$, U approaches $3\\varepsilon$. Using the results from the table, we find that the entropy (S/k$_B$) is 2.996.\n",
    "\n",
    "<br>"
   ]
  }
 ],
 "metadata": {
  "anaconda-cloud": {},
  "kernelspec": {
   "display_name": "Python 3",
   "language": "python",
   "name": "python3"
  },
  "language_info": {
   "codemirror_mode": {
    "name": "ipython",
    "version": 3
   },
   "file_extension": ".py",
   "mimetype": "text/x-python",
   "name": "python",
   "nbconvert_exporter": "python",
   "pygments_lexer": "ipython3",
   "version": "3.7.4"
  }
 },
 "nbformat": 4,
 "nbformat_minor": 1
}
