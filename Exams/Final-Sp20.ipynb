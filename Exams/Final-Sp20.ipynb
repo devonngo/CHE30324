{
 "cells": [
  {
   "cell_type": "markdown",
   "metadata": {},
   "source": [
    "# Chem 30324, Spring 2020, Exam 3\n"
   ]
  },
  {
   "cell_type": "markdown",
   "metadata": {},
   "source": [
    "## May 5, 2020, 9 am EDT to 9 pm EDT"
   ]
  },
  {
   "cell_type": "markdown",
   "metadata": {},
   "source": [
    "### You have 12 hours to complete this exam.  You may refer to the extended outline available on the course website, to the homework solutions, and your two pages of written notes, which you must turn in with your solution.  When you are done, create a single pdf and upload to Gradescope, as you have done with your homeworks."
   ]
  },
  {
   "cell_type": "markdown",
   "metadata": {},
   "source": [
    "## Your Name: "
   ]
  },
  {
   "cell_type": "markdown",
   "metadata": {},
   "source": [
    "## 1. Go right at'om (42 pts)\n",
    "The way we describe the atomic world was revolutionized in the early 20th century. The first system to be solved within the new quantum mechanical framework was the hydrogen atom, H."
   ]
  },
  {
   "cell_type": "markdown",
   "metadata": {},
   "source": [
    "1.1  (4 pts) Briefly, name two things about the hydrogen atom that defy explanation using concepts of classical physics."
   ]
  },
  {
   "cell_type": "markdown",
   "metadata": {},
   "source": [
    "a:\n",
    "\n",
    "b:"
   ]
  },
  {
   "cell_type": "markdown",
   "metadata": {},
   "source": [
    "1.2 (7 pts) Write down in as much detail as you can (but do not solve!) the time-independent Schrödinger equation for a hydrogen atom (it's ok to use atomic units and to use the Laplacian $\\nabla^2$ in your equation). Be sure to explicitly indicate the equations's variables and boundary conditions."
   ]
  },
  {
   "cell_type": "markdown",
   "metadata": {},
   "source": [
    "1.3 (3 pts)  What is the *physical significance* and the *sign of that physical quantity* of each term in your equation."
   ]
  },
  {
   "cell_type": "markdown",
   "metadata": {},
   "source": [
    "1.4 (2 pts) Your answer to question 1.2 is (or should be!) a partial differential equation. What mathematical technique can be used to simplify its solution?"
   ]
  },
  {
   "cell_type": "markdown",
   "metadata": {},
   "source": [
    "1.5 (4 pts) Solutions to the Schrödinger equation are discrete and indexed by quantum numbers. Provide a possible complete set of possible quantum numbers for the hydrogen atom in its lowest energy state."
   ]
  },
  {
   "cell_type": "markdown",
   "metadata": {},
   "source": [
    "1.6 (4 pts) Suppose you were to measure the angular momentum of the electron described by your answer to question 1.5.  Would you get the same answer every time? If so, what value (in units of $\\hbar$).  If not, why not?"
   ]
  },
  {
   "cell_type": "markdown",
   "metadata": {},
   "source": [
    "1.7 (6 pts) Suppose you want to excite the H atom of question 1.5 using a photon of light. What is the minimum frequency of light (in s$^{-1}$) necessary to excite the atom to a higher energy level?"
   ]
  },
  {
   "cell_type": "markdown",
   "metadata": {},
   "source": [
    "1.8 (4 pts) Sketch the *radial component* of the electron wavefunction *after* the transition of question 1.7. Indicate the sign of the function as appropriate, and the location of any nodes."
   ]
  },
  {
   "cell_type": "markdown",
   "metadata": {},
   "source": [
    "1.9 (4 pts) Sketch the *angular component* of the electron wavefunction *after* the transition of question 1.7. Indicate the sign of the function as appropriate, and the location of any nodes."
   ]
  },
  {
   "cell_type": "markdown",
   "metadata": {},
   "source": [
    "1.10 (4 pts) Briefly, what is quantum mechanical tunneling? Does the electron in the H atom exhibit this property (yes or no)?"
   ]
  },
  {
   "cell_type": "markdown",
   "metadata": {},
   "source": [
    "## 2. Equal amounts of ibrium (50 pts)"
   ]
  },
  {
   "cell_type": "markdown",
   "metadata": {},
   "source": [
    "Dihydrogen exits in three isotopic forms, H$_2$, D$_2$, and HD.  The chemical equilbrium between these can be written\n",
    "$$\\textsf{H}_2 + \\textsf{D}_2 \\rightleftharpoons 2 \\textsf{HD}$$\n",
    "Following are some physical and spectroscopic properties of the three molecules:\n",
    "\n",
    "|                |    H$_2$   |   D$_2$    |    HD  |\n",
    "|----------------|------------|------------|--------|\n",
    "| Mass (amu)     |      2     |     4      |    3   |\n",
    "| Reduced mass (amu) |  1/2  |  $1$      |     2/3  |\n",
    "| Bond length ( pm) |  74.14 |  74.14  | 74.14 |\n",
    "| Rotational constant $B$ (cm$^{-1}$) |  60.85 | 30.43 | |\n",
    "| Vibrational frequency  $\\nu$ (cm$^{-1}$) |  4401 |   | 3813|"
   ]
  },
  {
   "cell_type": "markdown",
   "metadata": {},
   "source": [
    "2.1 (6 pts) From the available data, estimate the rotational constant $B$ of HD, in cm$^{-1}$."
   ]
  },
  {
   "cell_type": "markdown",
   "metadata": {},
   "source": [
    "2.2 (6 pts) From the available data, estimate the vibrational frequency $\\nu$ of D$_2$, in cm$^{-1}$."
   ]
  },
  {
   "cell_type": "markdown",
   "metadata": {},
   "source": [
    "2.3 (6 pts) From the available data, estimate the zero-point corrected 0 K reaction energy. (*Hint*: Think zero-point energy.)"
   ]
  },
  {
   "cell_type": "markdown",
   "metadata": {},
   "source": [
    "In the following you will compute the equilibrium constant at 1500 K by breaking it down into its components:"
   ]
  },
  {
   "cell_type": "markdown",
   "metadata": {},
   "source": [
    "2.4 (8 pts) What is the contribution of the *translational partition functions* to the equilibrium constant at 1500 K?"
   ]
  },
  {
   "cell_type": "markdown",
   "metadata": {},
   "source": [
    "2.5 (8 pts) What is the contribtution of the *rotational partition functions* to the equilibrium constant at 1500 K?"
   ]
  },
  {
   "cell_type": "markdown",
   "metadata": {},
   "source": [
    "2.6 (8 pts) What is the contribution of the *vibrational partition functions* to the equilibrium constant at 1500 K?"
   ]
  },
  {
   "cell_type": "markdown",
   "metadata": {},
   "source": [
    "2.7 (3 pts) What *is* the equilibrium constant at 1500 K?"
   ]
  },
  {
   "cell_type": "markdown",
   "metadata": {},
   "source": [
    "2.8 (5 pts) Suppose a container is prepared to contain 50% H$_2$ and 50% D$_2$, heated to 1500 K, and allowed to come to equilibrium. What is the composition of the system after it comes to equilibrium?"
   ]
  },
  {
   "cell_type": "markdown",
   "metadata": {},
   "source": [
    "## 3. Going through a transition (24 pts)"
   ]
  },
  {
   "cell_type": "markdown",
   "metadata": {},
   "source": [
    "Transition state theory extends these equilibrium concepts to the rates of chemical reactions. Here you will apply TST to the reaction in Problem 2.  We might suppose, for instance, that the reaction proceeds in a single step through a square transition state:\n",
    "\n",
    "![HH](imgs/H2D2.png)"
   ]
  },
  {
   "cell_type": "markdown",
   "metadata": {},
   "source": [
    "3.1 (6 pts) Using a quantum chemistry method, you determine the energy of the transition state is 160 kJ/mol above the reactants (including zero point energy).  Make a rough sketch of the potential energy surface along the reaction coordinate:"
   ]
  },
  {
   "cell_type": "markdown",
   "metadata": {},
   "source": [
    "3.2 (10 pts) Use transition state theory to estimate the reaction rate constant $k$ in units of cm$^3$/molecule/s at 1500 K.  Use the data from the table above as necessary. For simplicity, assume that $q_\\textsf{vib} \\sim 1$ for all vibrational degrees of freedom of the reactants and transition state. Use an engineering estimate of $q_\\textsf{rot}^\\ddagger = 200$ at 1500 K."
   ]
  },
  {
   "cell_type": "markdown",
   "metadata": {},
   "source": [
    "3.3 (8 pts) A container is prepared to contain 50% H$_2$ and 50% D$_2$, heated to 1500 K at 1 bar total pressure, and allowed to react. The initial rate of appearance of HD is measured to be about 10$^{22}$ molecules/ cm$^3$/s.   Is this rate consistent with the postulate transition state and computed rate constant?  What do you conclude?"
   ]
  },
  {
   "cell_type": "markdown",
   "metadata": {},
   "source": [
    "## 4. All unmixed up (32 pts)"
   ]
  },
  {
   "cell_type": "markdown",
   "metadata": {},
   "source": [
    "Suppose you have an equimolar mixutre of H$_2$ + D$_2$ that you would really like to separate into pure components at constant total pressure and temperature and at conditions that the gases can be considered ideal (and not reacting to make HD!!!).  Here you will compute the minimum work needed to do that separation.\n",
    "\n",
    "![HH](imgs/Separation.png)"
   ]
  },
  {
   "cell_type": "markdown",
   "metadata": {},
   "source": [
    "4.1 (6 pts) Write an expression for the tranlational Helmholtz energy of one mole of H$_2$ in terms of its volume, number of molecules, temperature, and thermal wavelength."
   ]
  },
  {
   "cell_type": "markdown",
   "metadata": {},
   "source": [
    "4.2 (4 pts) Calculate the change in tranlational Helmholtz energy in compressing one mole of gas from a volume of $2V$ to a volume of $V$ at constant temperature."
   ]
  },
  {
   "cell_type": "markdown",
   "metadata": {},
   "source": [
    "4.3 (4 pts) The work of separation is the change in Helmholtz energy of the reaction shown. Calculate the work to separate a mole of H$_2$ and a mole of D$_2$ into pure components. (*Hint*: If the mixture is ideal, does the Helmholtz energy depend on the presence of the other gas?)"
   ]
  },
  {
   "cell_type": "markdown",
   "metadata": {},
   "source": [
    "4.4 (4 pts) Why can we neglect the vibrational and rotational contributions to the Helmholtz energy in this problem?"
   ]
  },
  {
   "cell_type": "markdown",
   "metadata": {},
   "source": [
    "4.5 (4 pts) One physical phenomenon that could be taken advantage of to effect this separation is effusion.  What is the relative rate of effusion of H$_2$ to D$_2$ through a pinhole in a vessel that contains an equimolar mixture of the two gases?"
   ]
  },
  {
   "cell_type": "markdown",
   "metadata": {},
   "source": [
    "4.6 (10 pts) Your physics-major friend says that effusion rates will be affected by the wave-like properties of H$_2$ and D$_2$.  How fast would an H$_2$ have to be traveling to have a de'Broglie wavelength of 1 µm, comparable to the size of the pinhole?  Compare this speed to the mean speed of an H$_2$ molecule at 300 K.  Does your friend have a point?"
   ]
  }
 ],
 "metadata": {
  "anaconda-cloud": {},
  "kernelspec": {
   "display_name": "Python 3",
   "language": "python",
   "name": "python3"
  },
  "language_info": {
   "codemirror_mode": {
    "name": "ipython",
    "version": 3
   },
   "file_extension": ".py",
   "mimetype": "text/x-python",
   "name": "python",
   "nbconvert_exporter": "python",
   "pygments_lexer": "ipython3",
   "version": "3.7.4"
  }
 },
 "nbformat": 4,
 "nbformat_minor": 1
}
