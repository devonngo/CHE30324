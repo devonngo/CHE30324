{
 "cells": [
  {
   "cell_type": "markdown",
   "metadata": {},
   "source": [
    "# Chem 30324, Spring 2020, Exam 3\n"
   ]
  },
  {
   "cell_type": "markdown",
   "metadata": {},
   "source": [
    "## April 14, 2020, 9 am EDT to 9 pm EDT"
   ]
  },
  {
   "cell_type": "markdown",
   "metadata": {},
   "source": [
    "### You have 12 hours to complete this exam.  You may refer to the extended outline available on the course website, to the HW 7, HW 8, and HW 9 solutions, and your two pages of written notes, which you must turn in with your solution.  When you are done, create a pdf and upload to Gradescope, as you have done with your homeworks."
   ]
  },
  {
   "cell_type": "markdown",
   "metadata": {},
   "source": [
    "## Your Name: "
   ]
  },
  {
   "cell_type": "markdown",
   "metadata": {},
   "source": [
    "## 1. Quantum atoms (15 pts)\n",
    "Quantum mechanics helps us explain periodic trends in the properties of atoms.  Consider the halogens, group 7:  F, Cl, Br, I."
   ]
  },
  {
   "cell_type": "markdown",
   "metadata": {},
   "source": [
    "1.1  (3 pts) What do you expect for the spin multiplicity of each atom?"
   ]
  },
  {
   "cell_type": "markdown",
   "metadata": {},
   "source": [
    "1.2 (3 pts) Rank the atoms in terms of their first ionization energy (i.e.,minimum energy to remove a valence electron)."
   ]
  },
  {
   "cell_type": "markdown",
   "metadata": {},
   "source": [
    "1.3 (3 pts) Rank the atoms in terms of the frequency of light ($h\\nu$) necessary to eject a 1s electron from them."
   ]
  },
  {
   "cell_type": "markdown",
   "metadata": {},
   "source": [
    "1.4 (3 pts) All the halogens exist as dimers in their elemental state (F$_2$, Cl$_2$, ...). Rank the dimeric elements according to increasing boiling point."
   ]
  },
  {
   "cell_type": "markdown",
   "metadata": {},
   "source": [
    "1.5 (3 pts) The halogen dimers all have a bond order of 1.  Do they all have the same bond energy?  If not, which do you think will have the strongest bond?"
   ]
  },
  {
   "cell_type": "markdown",
   "metadata": {},
   "source": [
    "## 2.Tunneling will bring us together (53 pts)"
   ]
  },
  {
   "cell_type": "markdown",
   "metadata": {},
   "source": [
    "Applications of the Schrödinger equation to molecules is complicated by the many interactions between electrons and nuclei.  Here we'll look at the simplest possible case, H$_2$."
   ]
  },
  {
   "cell_type": "markdown",
   "metadata": {},
   "source": [
    "2.1 (2 pts) How many of what types of particles make up an H$_2$ molecule?"
   ]
  },
  {
   "cell_type": "markdown",
   "metadata": {},
   "source": [
    "2.2 (4 pts) In describing the molecule quantum mechanically, we commonly make the \"Born-Oppenheimer\" approximation? What is that approximation?"
   ]
  },
  {
   "cell_type": "markdown",
   "metadata": {},
   "source": [
    "2.3 The standard strategy is to describe the molecule in terms of individual electron wavefunctions, often called \"orbitals.\" The equation for the electron wavefunctions of H$_2$ (in atomic units) is shown below.  **Briefly identify the meaning of each term as well as the sign (positive or negative) of the contribution to the H$_2$energy.**\n",
    "\n",
    "$$ \\left \\{-\\frac{1}{2}\\nabla^2 -\\frac{1}{|\\mathbf{r}-\\mathbf{R}_A|} -\\frac{1}{|\\mathbf{r}-\\mathbf{R}_B|}+\\hat{v}_\\text{Coulomb} + \\hat{v}_\\text{exchange} +\\hat{v}_\\text{correlation}\\right \\} \\psi_i = \\epsilon_i\\psi_i$$"
   ]
  },
  {
   "cell_type": "markdown",
   "metadata": {},
   "source": [
    "2.3.1 (3 pts) $$-\\frac{1}{2}\\nabla^2$$"
   ]
  },
  {
   "cell_type": "markdown",
   "metadata": {},
   "source": [
    "2.3.2 (3 pts)$$-\\frac{1}{|\\mathbf{r}-\\mathbf{R}_A|} -\\frac{1}{|\\mathbf{r}-\\mathbf{R}_B|}$$"
   ]
  },
  {
   "cell_type": "markdown",
   "metadata": {},
   "source": [
    "2.3.3 (3 pts) $$\\hat{v}_\\text{Coulomb}$$"
   ]
  },
  {
   "cell_type": "markdown",
   "metadata": {},
   "source": [
    "2.3.4 (3 pts) $$\\hat{v}_\\text{exchange}$$"
   ]
  },
  {
   "cell_type": "markdown",
   "metadata": {},
   "source": [
    "2.3.4 (3 pts) $$\\hat{v}_\\text{correlation}$$"
   ]
  },
  {
   "cell_type": "markdown",
   "metadata": {},
   "source": [
    "2.4 (4 pts) Briefly, why do the electron wavefunctions have to be solved for \"self-consistently\"?"
   ]
  },
  {
   "cell_type": "markdown",
   "metadata": {},
   "source": [
    "2.5 (4 pts) Briefly, how might the *variational principle* be helpful in solving the Schrödinger equation?"
   ]
  },
  {
   "cell_type": "markdown",
   "metadata": {},
   "source": [
    "2.6 (4 pts)  On the graph below, approximately sketch the potential energy (attraction to the two nuclei, A and B) felt by an electron  along the axis connecting the two nuclei. (*Hint*: Which term from Equation 2.3 does this correspond to?)"
   ]
  },
  {
   "cell_type": "markdown",
   "metadata": {},
   "source": [
    "![HH](imgs/HH2.png)"
   ]
  },
  {
   "cell_type": "markdown",
   "metadata": {},
   "source": [
    "2.7 (8 pts)  Let's call the lowest energy solution to the H$_2$ Schrödinger equation $\\psi_1$. On the graph below, sketch the approximate value of $\\psi_1$ along the internuclear axis.  Indicate the location of any nodes, the most probable location(s) of an electron along this axis, and the average location of an electron along this axis. (No calculations required!)"
   ]
  },
  {
   "cell_type": "markdown",
   "metadata": {},
   "source": [
    "![HH](imgs/HH2.png)"
   ]
  },
  {
   "cell_type": "markdown",
   "metadata": {},
   "source": [
    "2.8 (4 pts) What else, other than the quantities expressed in equation 2.3, contribute to the total internal  energy of an H$_2$ molecule at 0 K? There are two answers; bonus points for identifying both!"
   ]
  },
  {
   "cell_type": "markdown",
   "metadata": {},
   "source": [
    "2.9 (8 pts) On the graph below, approximately sketch the H$_2$ total energy vs interatomic distance. Indicate on the graph the equilibrium internuclear distance ($R_e$), the bond dissociation energy ($\\Delta E(0)$), and the zero point vibrational energy.  Remember to properly label both axes, including appropriate units."
   ]
  },
  {
   "cell_type": "markdown",
   "metadata": {},
   "source": [
    "![T](imgs/T.png)"
   ]
  },
  {
   "cell_type": "markdown",
   "metadata": {},
   "source": [
    "## 3. Energy, entropy, temperature (32 pts)"
   ]
  },
  {
   "cell_type": "markdown",
   "metadata": {},
   "source": [
    "Consider a box that contains six distinguishable marbles, each of which can exist in one of two energy states, 0 or $\\varepsilon$."
   ]
  },
  {
   "cell_type": "markdown",
   "metadata": {},
   "source": [
    "3.1 (7 pts) Suppose the box is isolated, surrounded by adiabatic walls. Complete the table below for the possible internal energy states $U$, their degeneracies, and corresponding entropies of the box:\n",
    "\n",
    "| $U/ \\varepsilon $ | $\\Omega$ | $S/k_B$ |\n",
    "|------------------|----------|---------|\n",
    "| 0| 1|$\\ln 1 = 0$ |\n",
    "| 1| | |\n",
    "|2 | | |\n",
    "| 3| | |\n",
    "|4 | | |\n",
    "| 5| | |\n",
    "| 6| | |\n"
   ]
  },
  {
   "cell_type": "markdown",
   "metadata": {},
   "source": [
    "3.2 (1 pt) What value of $U$ maximizes the entropy of the box?"
   ]
  },
  {
   "cell_type": "markdown",
   "metadata": {},
   "source": [
    "3.3 (8 pts) Imagine this box is put into thermal equilibrium with some big reservoir of temperature $T$. Write down the partition function $Q(N,T)$ for the box as a function of $\\beta=1/k_B T $."
   ]
  },
  {
   "cell_type": "markdown",
   "metadata": {},
   "source": [
    "3.4 (8 pts)  Write down an expression for the internal energy $U$ of the box as a function of $\\beta = 1/k_B T$."
   ]
  },
  {
   "cell_type": "markdown",
   "metadata": {},
   "source": [
    "3.5 (4 pts) What is the internal energy of the box in the limit that $\\beta\\rightarrow 0$, ie $T\\rightarrow\\infty$?"
   ]
  },
  {
   "cell_type": "markdown",
   "metadata": {},
   "source": [
    "3.6 (4 pts) From the results of question 3.1, what is the entropy of the box in the limit that $\\beta\\rightarrow 0$, ie $T\\rightarrow\\infty$?"
   ]
  },
  {
   "cell_type": "code",
   "execution_count": null,
   "metadata": {},
   "outputs": [],
   "source": []
  }
 ],
 "metadata": {
  "anaconda-cloud": {},
  "kernelspec": {
   "display_name": "Python 3",
   "language": "python",
   "name": "python3"
  },
  "language_info": {
   "codemirror_mode": {
    "name": "ipython",
    "version": 3
   },
   "file_extension": ".py",
   "mimetype": "text/x-python",
   "name": "python",
   "nbconvert_exporter": "python",
   "pygments_lexer": "ipython3",
   "version": "3.7.4"
  }
 },
 "nbformat": 4,
 "nbformat_minor": 1
}
